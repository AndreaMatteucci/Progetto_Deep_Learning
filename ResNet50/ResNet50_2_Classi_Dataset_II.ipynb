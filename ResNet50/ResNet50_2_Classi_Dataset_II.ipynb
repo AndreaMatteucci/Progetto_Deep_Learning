{
  "cells": [
    {
      "cell_type": "markdown",
      "source": [
        "# **ResNet50 for Knee X-Ray Classification**\n",
        "\n",
        "In this notebook, we develop and train a ResNet50 model for binary classification of knee X-ray images"
      ],
      "metadata": {
        "id": "F8SsUTzpJxDb"
      }
    },
    {
      "cell_type": "markdown",
      "source": [
        "We use a [dataset](https://data.mendeley.com/datasets/fyybnjkw7v/3) from Kaggle, which provides a collection of generated knee X-ray images. The notebook will cover the data preprocessing steps, model training, and evaluation processes to assess the performance of the ResNet50 model. Additionally, we will analyze the results to understand how well the model distinguishes between different grades of osteoarthritis."
      ],
      "metadata": {
        "id": "KM-HHQgDKGRB"
      }
    },
    {
      "cell_type": "markdown",
      "source": [
        "## **Data Pre-processing**\n",
        "\n"
      ],
      "metadata": {
        "id": "VPtFfnltR_Iw"
      }
    },
    {
      "cell_type": "markdown",
      "source": [
        "Data preprocessing is essential for preparing raw data for analysis and model training. It involves cleaning, transforming, and organizing the data to enhance model performance. Below, we detail all the preprocessing steps performed."
      ],
      "metadata": {
        "id": "p4fqXdogUnII"
      }
    },
    {
      "cell_type": "markdown",
      "source": [
        "### **Importing Essential Libraries**\n",
        "\n",
        "\n"
      ],
      "metadata": {
        "id": "jPWV_tH8SLl6"
      }
    },
    {
      "cell_type": "markdown",
      "source": [
        "Initially, we import all the necessary libraries used throughout the notebook for analysis and model training."
      ],
      "metadata": {
        "id": "CPfFTWB_U9Z_"
      }
    },
    {
      "cell_type": "code",
      "source": [
        "import glob\n",
        "import os\n",
        "import cv2\n",
        "import timeit\n",
        "import numpy as np\n",
        "import math\n",
        "import shutil\n",
        "import matplotlib.pyplot as plt\n",
        "from sklearn.model_selection import train_test_split\n",
        "from operator import itemgetter\n",
        "import tensorflow as tf\n",
        "\n",
        "!pip install kaggle > /dev/null"
      ],
      "metadata": {
        "id": "jrIasyYTpdN8"
      },
      "execution_count": 20,
      "outputs": []
    },
    {
      "cell_type": "markdown",
      "source": [
        "### **Utility Functions**"
      ],
      "metadata": {
        "id": "JsKYxDXNSQ5d"
      }
    },
    {
      "cell_type": "markdown",
      "source": [
        "We define several utility functions to facilitate data processing and model training. These functions help automate repetitive tasks and ensure code consistency throughout the notebook."
      ],
      "metadata": {
        "id": "KbtulEQTVpec"
      }
    },
    {
      "cell_type": "code",
      "source": [
        "def countImagesByClass(path):\n",
        "    class_counts = {'Negative': 0, 'Positive': 0}\n",
        "\n",
        "    # Calculate the number of images in each class.\n",
        "    class_counts['Negative'] = len(glob.glob(path + 'Negative/*.png'))\n",
        "    class_counts['Positive'] = len(glob.glob(path + 'Positive/*.png'))\n",
        "\n",
        "    return class_counts\n",
        "\n",
        "def moveImgs(images, grade, path_dst):\n",
        "  img_paths = glob.glob(f'/content/DatasetKneeKL/{grade}/*.png')\n",
        "  imgs = itemgetter(*images)(img_paths)\n",
        "  for img in imgs:\n",
        "    #print(f'Copio {img} in {path_dst}')\n",
        "    shutil.move(img, path_dst)"
      ],
      "metadata": {
        "id": "eOM9d3chp1oQ"
      },
      "execution_count": 2,
      "outputs": []
    },
    {
      "cell_type": "markdown",
      "source": [
        "### **Downloading the dataset**"
      ],
      "metadata": {
        "id": "Qbm0WMxndcUT"
      }
    },
    {
      "cell_type": "markdown",
      "source": [
        "We download the dataset directly from Kaggle. This step involves using Kaggle’s API to download the dataset locally."
      ],
      "metadata": {
        "id": "_FX-tgOXdl-7"
      }
    },
    {
      "cell_type": "code",
      "source": [
        "# Dataset download (https://www.kaggle.com/datasets/shashwatwork/knee-osteoarthritis-dataset-with-severity) https://www.kaggle.com/datasets/andymatte/bbb-synthetic-deepfake-320k\n",
        "!kaggle datasets download -d andymatte/bbb-synthetic-deepfake-320k\n",
        "\n",
        "# Creazione della cartella  e unzip del dataset in questa cartella\n",
        "!mkdir -p KneeKL224\n",
        "!unzip bbb-synthetic-deepfake-320k.zip -d KneeKL224 > /dev/null\n",
        "\n",
        "# Rimozione del file.zip\n",
        "!rm bbb-synthetic-deepfake-320k.zip\n",
        "\n",
        "# Rinomino cartelle per adattarle al vecchio codice\n",
        "os.rename('/content/KneeKL224/KL01_160K/', '/content/KneeKL224/Negative')\n",
        "os.rename('/content/KneeKL224/KL234_160K', '/content/KneeKL224/Positive')\n",
        "os.rename('/content/KneeKL224', '/content/DatasetKneeKL')"
      ],
      "metadata": {
        "colab": {
          "base_uri": "https://localhost:8080/"
        },
        "id": "7f7iL9w4p2mY",
        "outputId": "9a47c599-5dfc-42c5-9a09-cd49a9b65da3"
      },
      "execution_count": 3,
      "outputs": [
        {
          "output_type": "stream",
          "name": "stdout",
          "text": [
            "Dataset URL: https://www.kaggle.com/datasets/andymatte/bbb-synthetic-deepfake-320k\n",
            "License(s): unknown\n",
            "Downloading bbb-synthetic-deepfake-320k.zip to /content\n",
            "100% 8.50G/8.51G [02:02<00:00, 163MB/s]\n",
            "100% 8.51G/8.51G [02:02<00:00, 74.4MB/s]\n"
          ]
        }
      ]
    },
    {
      "cell_type": "markdown",
      "source": [
        "### **Dataset structure**\n",
        "\n",
        "We examine the structure of the dataset to understand its organization and contents."
      ],
      "metadata": {
        "id": "cFIZefOteHUX"
      }
    },
    {
      "cell_type": "markdown",
      "source": [
        "\n",
        "\n",
        "Each of these folders is divided into two class categories: KL01 and KL234. Explicit labels are not provided; instead, the KL grade of each image is inferred from the folder name in which it is located."
      ],
      "metadata": {
        "id": "ZrX7huhreSIf"
      }
    },
    {
      "cell_type": "code",
      "source": [
        "# Count the number of images in the 'Negative' and 'Positive' directories\n",
        "class_counts = countImagesByClass('/content/DatasetKneeKL/')\n",
        "\n",
        "print(f'Total dataset cardinality: {sum(class_counts.values())}')\n",
        "print(f'   Negative images: {class_counts[\"Negative\"]}')\n",
        "print(f'   Positive images: {class_counts[\"Positive\"]}')"
      ],
      "metadata": {
        "colab": {
          "base_uri": "https://localhost:8080/"
        },
        "id": "zAi-roHkNVpH",
        "outputId": "ff0fc0a3-2431-434d-d993-e426d645919a"
      },
      "execution_count": 4,
      "outputs": [
        {
          "output_type": "stream",
          "name": "stdout",
          "text": [
            "Total dataset cardinality: 320000\n",
            "   Negative images: 160000\n",
            "   Positive images: 160000\n"
          ]
        }
      ]
    },
    {
      "cell_type": "markdown",
      "source": [
        "### **Dataset Splitting: Train, Validation, and Test Sets**\n",
        "\n",
        "In this section, the dataset is divided into training, validation, and test sets using functionalities provided by the *scikit-learn* library.\n",
        "\n",
        "The dataset is split according to the following percentages:\n",
        "- **Training Set**: 72% of the total dataset\n",
        "- **Validation Set**: 18% of the total dataset\n",
        "- **Test Set**: 10% of the total dataset\n"
      ],
      "metadata": {
        "id": "i38xkB7zedQP"
      }
    },
    {
      "cell_type": "markdown",
      "source": [
        "Initially, the folder structure for organizing the dataset is set up."
      ],
      "metadata": {
        "id": "XExL1XtNmAXR"
      }
    },
    {
      "cell_type": "code",
      "source": [
        "classes = ['Positive', 'Negative']\n",
        "_ = [os.makedirs(f'DatasetKneeKL/{dir}/{cls}', exist_ok=True) for dir in ['train', 'val', 'test'] for cls in classes]"
      ],
      "metadata": {
        "id": "CmAUr_7YrsBZ"
      },
      "execution_count": 5,
      "outputs": []
    },
    {
      "cell_type": "markdown",
      "source": [
        "Indices are calculated for the initial division of the dataset into training/validation and test sets."
      ],
      "metadata": {
        "id": "StcKZs_8huCp"
      }
    },
    {
      "cell_type": "code",
      "source": [
        "train_val_idx, test_idx = [0]*2, [0]*2\n",
        "db_len = [len(glob.glob(f'/content/DatasetKneeKL/{x}/*.png')) for x in ['Positive', 'Negative']]\n",
        "\n",
        "for i in range(2):\n",
        "  train_val_idx[i], test_idx[i] = train_test_split(\n",
        "      np.arange(db_len[i]), test_size=0.1, random_state=42, shuffle=True)"
      ],
      "metadata": {
        "id": "kDObufnBryCU"
      },
      "execution_count": 6,
      "outputs": []
    },
    {
      "cell_type": "markdown",
      "source": [
        "The distribution of images across training/validation and test sets is displayed for each Kellgren-Lawrence grade. Images are then moved to the appropriate test set directories based on the calculated indices."
      ],
      "metadata": {
        "id": "zBhdymxfiJaQ"
      }
    },
    {
      "cell_type": "code",
      "source": [
        "_ = [print(f'Images {classes[i]:<8}: {db_len[i]:<8} | Training/Validation: {len(train_val_idx[i]):<8} | Test: {len(test_idx[i]):<8}') for i in range(2)]\n",
        "\n",
        "for i, cls in enumerate(classes):\n",
        "  moveImgs(test_idx[i], cls, f'/content/DatasetKneeKL/test/{cls}')"
      ],
      "metadata": {
        "colab": {
          "base_uri": "https://localhost:8080/"
        },
        "id": "q4U3Dz4Lrx2h",
        "outputId": "6836acdc-f74a-49f8-cb6a-231519f96cae"
      },
      "execution_count": 7,
      "outputs": [
        {
          "output_type": "stream",
          "name": "stdout",
          "text": [
            "Images Positive: 160000   | Training/Validation: 144000   | Test: 16000   \n",
            "Images Negative: 160000   | Training/Validation: 144000   | Test: 16000   \n"
          ]
        }
      ]
    },
    {
      "cell_type": "markdown",
      "source": [
        "The indices for dividing the remaining images into training and validation sets are calculated."
      ],
      "metadata": {
        "id": "rTWlOkiJibSQ"
      }
    },
    {
      "cell_type": "code",
      "source": [
        "train_idx, val_idx = [0]*2, [0]*2\n",
        "db_len = [len(glob.glob(f'/content/DatasetKneeKL/{x}/*.png')) for x in ['Positive', 'Negative']]\n",
        "\n",
        "for i in range(2):\n",
        "  train_idx[i], val_idx[i] = train_test_split(\n",
        "      np.arange(db_len[i]), test_size=0.15, random_state=42, shuffle=True)\n"
      ],
      "metadata": {
        "id": "szOhdm-YrxsB"
      },
      "execution_count": 8,
      "outputs": []
    },
    {
      "cell_type": "markdown",
      "source": [
        "As before, the cardinalities are displayed, and the images are moved to their respective directories. The original dataset directory is then removed."
      ],
      "metadata": {
        "id": "RM5tbGwuigEX"
      }
    },
    {
      "cell_type": "code",
      "source": [
        "_ = [print(f'Immagini {classes[i]:<8}: {db_len[i]:<8} | Training: {len(train_idx[i]):<8} | Validation: {len(val_idx[i]):<8}') for i in range(2)]\n",
        "\n",
        "# Moving training images\n",
        "for i, cls in enumerate(classes):\n",
        "  moveImgs(train_idx[i], cls, f'/content/DatasetKneeKL/train/{cls}')\n",
        "\n",
        "# Moving remaining validation images\n",
        "for i, cls in enumerate(classes):\n",
        "  moveImgs(range(len(val_idx[i])), cls, f'/content/DatasetKneeKL/val/{cls}')"
      ],
      "metadata": {
        "colab": {
          "base_uri": "https://localhost:8080/"
        },
        "id": "NXRFeC3_rxgi",
        "outputId": "244e3f39-80c9-4924-fe4f-1a991e2fba50"
      },
      "execution_count": 9,
      "outputs": [
        {
          "output_type": "stream",
          "name": "stdout",
          "text": [
            "Immagini Positive: 144000   | Training: 122400   | Validation: 21600   \n",
            "Immagini Negative: 144000   | Training: 122400   | Validation: 21600   \n"
          ]
        }
      ]
    },
    {
      "cell_type": "code",
      "source": [
        "shutil.rmtree('/content/DatasetKneeKL/Negative', ignore_errors=True)\n",
        "shutil.rmtree('/content/DatasetKneeKL/Positive', ignore_errors=True)"
      ],
      "metadata": {
        "id": "OqdLHgUCtinA"
      },
      "execution_count": 10,
      "outputs": []
    },
    {
      "cell_type": "markdown",
      "source": [
        "### **Equalization**"
      ],
      "metadata": {
        "id": "7f-OvfZpm-Gj"
      }
    },
    {
      "cell_type": "markdown",
      "source": [
        "The radiographic images in the dataset exhibited inherent limitations such as low contrast and imbalanced brightness. Histogram equalization was applied to enhance anatomical details and better highlight any potential osteoarthritis. This process used the `equalizeHist()` function from the OpenCV library after converting the images to grayscale.\n"
      ],
      "metadata": {
        "id": "IZXJgR39iglD"
      }
    },
    {
      "cell_type": "code",
      "source": [
        "def equalize_images(path):\n",
        "    for cls in classes:\n",
        "        for image_path in glob.glob(f'{path}/{cls}/*.png'):\n",
        "            image = cv2.imread(image_path, cv2.IMREAD_GRAYSCALE)\n",
        "            equalized_image = cv2.equalizeHist(image)\n",
        "            cv2.imwrite(image_path, equalized_image)\n",
        "\n",
        "equalize_images('/content/DatasetKneeKL/train')\n",
        "equalize_images('/content/DatasetKneeKL/val')\n",
        "equalize_images('/content/DatasetKneeKL/test')"
      ],
      "metadata": {
        "id": "iizxp9ODru8q"
      },
      "execution_count": 11,
      "outputs": []
    },
    {
      "cell_type": "markdown",
      "source": [
        "### **Data Augmentation**\n",
        "\n",
        "In this section, the process of applying data augmentation is explained. This technique is used to increase the variability of the training data, helping to reduce overfitting and improve the model's generalization."
      ],
      "metadata": {
        "id": "GZC6SWyWpQfA"
      }
    },
    {
      "cell_type": "markdown",
      "source": [
        "First of all, the directory paths for the training, validation, and test datasets are set up."
      ],
      "metadata": {
        "id": "OWzyTABvqPCy"
      }
    },
    {
      "cell_type": "code",
      "source": [
        "class_names = ['Positive', 'Negative']\n",
        "\n",
        "base_dir = \"/content/DatasetKneeKL/\"\n",
        "train_path = os.path.join(base_dir, 'train')\n",
        "valid_path = os.path.join(base_dir, 'val')\n",
        "test_path = os.path.join(base_dir, 'test')"
      ],
      "metadata": {
        "id": "cK192X0truM8"
      },
      "execution_count": 12,
      "outputs": []
    },
    {
      "cell_type": "markdown",
      "source": [
        "The `ImageDataGenerator` is used to apply various transformations such as horizontal flipping, brightness adjustments, width shifting, and zooming to the training set images.\n"
      ],
      "metadata": {
        "id": "-7ygfbooqofy"
      }
    },
    {
      "cell_type": "code",
      "source": [
        "aug_datagen = tf.keras.preprocessing.image.ImageDataGenerator(\n",
        "    preprocessing_function=tf.keras.applications.resnet50.preprocess_input,\n",
        "    horizontal_flip=True,\n",
        "    brightness_range=[0.3, 0.8],\n",
        "    width_shift_range=[-50, 0, 50, 30, -30],\n",
        "    zoom_range=0.1,\n",
        "    fill_mode=\"nearest\",\n",
        ")"
      ],
      "metadata": {
        "id": "X0P5FkLort_-"
      },
      "execution_count": 13,
      "outputs": []
    },
    {
      "cell_type": "markdown",
      "source": [
        "Additionally, a separate `ImageDataGenerator` is set up without augmentation for the validation and test set, applying only the necessary preprocessing."
      ],
      "metadata": {
        "id": "3R23tk6hqxtY"
      }
    },
    {
      "cell_type": "code",
      "source": [
        "noaug_datagen = tf.keras.preprocessing.image.ImageDataGenerator(\n",
        "    preprocessing_function=tf.keras.applications.resnet50.preprocess_input,\n",
        ")"
      ],
      "metadata": {
        "id": "SaBZwDIlrtut"
      },
      "execution_count": 14,
      "outputs": []
    },
    {
      "cell_type": "markdown",
      "source": [
        "Then, the data generators are set up.\n"
      ],
      "metadata": {
        "id": "YWCBjD1Cq31X"
      }
    },
    {
      "cell_type": "code",
      "source": [
        "target_size = (224, 224)\n",
        "\n",
        "train_generator = aug_datagen.flow_from_directory(\n",
        "    train_path, class_mode=\"categorical\", target_size=target_size, shuffle=True\n",
        ")\n",
        "\n",
        "valid_generator = noaug_datagen.flow_from_directory(\n",
        "    valid_path,\n",
        "    class_mode=\"categorical\",\n",
        "    target_size=target_size,\n",
        "    shuffle=False,\n",
        ")\n",
        "\n",
        "test_generator = noaug_datagen.flow_from_directory(\n",
        "    test_path,\n",
        "    class_mode=\"categorical\",\n",
        "    target_size=target_size,\n",
        "    shuffle=False,\n",
        ")"
      ],
      "metadata": {
        "colab": {
          "base_uri": "https://localhost:8080/"
        },
        "id": "WglJiSHNt7B1",
        "outputId": "21d416c6-04ff-4074-a633-f0e76519cd32"
      },
      "execution_count": 15,
      "outputs": [
        {
          "output_type": "stream",
          "name": "stdout",
          "text": [
            "Found 244800 images belonging to 2 classes.\n",
            "Found 43200 images belonging to 2 classes.\n",
            "Found 32000 images belonging to 2 classes.\n"
          ]
        }
      ]
    },
    {
      "cell_type": "markdown",
      "source": [
        "## **Model Training**\n",
        "\n",
        "In this section, a neural network model is configured and trained using TensorFlow and Keras. The model is based on a pre-trained ResNet50, with modifications made for the specific classification task."
      ],
      "metadata": {
        "id": "tXoHARKlsqCi"
      }
    },
    {
      "cell_type": "markdown",
      "source": [
        "First of all, the ResNet50 is loaded without weights and configured for fine-tuning."
      ],
      "metadata": {
        "id": "0G3KHLNHsj73"
      }
    },
    {
      "cell_type": "code",
      "source": [
        "epochs = 5\n",
        "img_shape = (224, 120, 3)\n",
        "\n",
        "model = tf.keras.applications.ResNet50(\n",
        "    input_shape=(img_shape),\n",
        "    include_top=False,\n",
        "    weights=None,\n",
        ")"
      ],
      "metadata": {
        "id": "g2t26H8OuJfV"
      },
      "execution_count": 16,
      "outputs": []
    },
    {
      "cell_type": "markdown",
      "source": [
        "Then, all layers of the pre-trained ResNet50 model are set to be trainable. A new model is created by stacking the ResNet50 base with additional layers, including global average pooling, dropout for regularization, and a dense output layer with softmax activation for classification. The model architecture is then summarized.\n"
      ],
      "metadata": {
        "id": "SroOnjt9ti7E"
      }
    },
    {
      "cell_type": "code",
      "source": [
        "for layer in model.layers:\n",
        "    layer.trainable = True\n",
        "\n",
        "model_ft = tf.keras.models.Sequential(\n",
        "    [\n",
        "        model,\n",
        "        tf.keras.layers.GlobalAveragePooling2D(),\n",
        "        tf.keras.layers.Dropout(0.2),\n",
        "        tf.keras.layers.Dense(2, activation=\"softmax\"),\n",
        "    ]\n",
        ")\n",
        "\n",
        "model_ft.summary()"
      ],
      "metadata": {
        "colab": {
          "base_uri": "https://localhost:8080/"
        },
        "id": "BYFs9PLwuam8",
        "outputId": "930ef445-5fa2-4726-9ac1-a701b528fde4"
      },
      "execution_count": 17,
      "outputs": [
        {
          "output_type": "stream",
          "name": "stdout",
          "text": [
            "Model: \"sequential\"\n",
            "_________________________________________________________________\n",
            " Layer (type)                Output Shape              Param #   \n",
            "=================================================================\n",
            " resnet50 (Functional)       (None, 7, 4, 2048)        23587712  \n",
            "                                                                 \n",
            " global_average_pooling2d (  (None, 2048)              0         \n",
            " GlobalAveragePooling2D)                                         \n",
            "                                                                 \n",
            " dropout (Dropout)           (None, 2048)              0         \n",
            "                                                                 \n",
            " dense (Dense)               (None, 2)                 4098      \n",
            "                                                                 \n",
            "=================================================================\n",
            "Total params: 23591810 (90.00 MB)\n",
            "Trainable params: 23538690 (89.79 MB)\n",
            "Non-trainable params: 53120 (207.50 KB)\n",
            "_________________________________________________________________\n"
          ]
        }
      ]
    },
    {
      "cell_type": "markdown",
      "source": [
        "The model is compiled using the **Adam** optimizer with a learning rate of **0.0001**, and the **binary crossentropy** loss function.\n"
      ],
      "metadata": {
        "id": "o8GQvAGyt77m"
      }
    },
    {
      "cell_type": "code",
      "source": [
        "model_ft.compile(\n",
        "    optimizer = tf.keras.optimizers.Adam(learning_rate=0.0001), loss=\"binary_crossentropy\", metrics=[\"accuracy\"]\n",
        ")"
      ],
      "metadata": {
        "id": "P1WKp7JSue6Y"
      },
      "execution_count": 18,
      "outputs": []
    },
    {
      "cell_type": "markdown",
      "source": [
        "Setting the *batch_size*."
      ],
      "metadata": {
        "id": "9_IvFWBCuTZZ"
      }
    },
    {
      "cell_type": "code",
      "source": [
        "batch_size = 92\n",
        "\n",
        "total_train_samples = train_generator.samples\n",
        "total_valid_samples = valid_generator.samples\n",
        "\n",
        "steps_per_epoch = math.ceil(total_train_samples / batch_size)\n",
        "validation_steps = math.ceil(total_valid_samples / batch_size)"
      ],
      "metadata": {
        "id": "DiOyLsiKuZoQ"
      },
      "execution_count": 21,
      "outputs": []
    },
    {
      "cell_type": "markdown",
      "source": [
        "\n",
        "Google Drive is mounted, and a callback is set up to save model weights for each epochs."
      ],
      "metadata": {
        "id": "H-MlFNMOuBVN"
      }
    },
    {
      "cell_type": "code",
      "source": [
        "from google.colab import drive\n",
        "from keras.callbacks import LambdaCallback\n",
        "\n",
        "# Monta Google Drive\n",
        "drive.mount('/content/drive')\n",
        "\n",
        "weights_dir = \"/content/drive/MyDrive/model_weights\"\n",
        "os.makedirs(weights_dir, exist_ok=True)\n",
        "\n",
        "save_model_callback = LambdaCallback(\n",
        "    on_epoch_end=lambda epoch, logs: model_ft.save(os.path.join(weights_dir, f\"320k_ResNet50_Binario_Epoch_{epoch+1}.h5\"))\n",
        ")"
      ],
      "metadata": {
        "id": "OGsoeCoJuuaS"
      },
      "execution_count": null,
      "outputs": []
    },
    {
      "cell_type": "markdown",
      "source": [
        "\n",
        "Finally, the model is trained.\n"
      ],
      "metadata": {
        "id": "La05wG8ju1rq"
      }
    },
    {
      "cell_type": "code",
      "execution_count": null,
      "metadata": {
        "colab": {
          "base_uri": "https://localhost:8080/"
        },
        "outputId": "8571a88f-d18d-4ffe-c1ba-a66d8545b1fd",
        "id": "Pl5iAxnfu6uq"
      },
      "outputs": [
        {
          "metadata": {
            "tags": null
          },
          "name": "stdout",
          "output_type": "stream",
          "text": [
            "Epoch 1/5\n",
            "2661/2661 [==============================] - ETA: 0s - loss: 0.2903 - accuracy: 0.8698"
          ]
        },
        {
          "metadata": {
            "tags": null
          },
          "name": "stderr",
          "output_type": "stream",
          "text": [
            "/usr/local/lib/python3.10/dist-packages/keras/src/engine/training.py:3103: UserWarning: You are saving your model as an HDF5 file via `model.save()`. This file format is considered legacy. We recommend using instead the native Keras format, e.g. `model.save('my_model.keras')`.\n",
            "  saving_api.save_model(\n"
          ]
        },
        {
          "output_type": "stream",
          "name": "stdout",
          "text": [
            "2661/2661 [==============================] - 1856s 680ms/step - loss: 0.2903 - accuracy: 0.8698 - val_loss: 7.9316 - val_accuracy: 0.0249\n",
            "Epoch 2/5\n",
            "2661/2661 [==============================] - 1813s 681ms/step - loss: 0.0757 - accuracy: 0.9716 - val_loss: 1.8608 - val_accuracy: 0.5389\n",
            "Epoch 3/5\n",
            "2661/2661 [==============================] - 1752s 658ms/step - loss: 0.0419 - accuracy: 0.9845 - val_loss: 0.0251 - val_accuracy: 0.9912\n",
            "Epoch 4/5\n",
            "2661/2661 [==============================] - 1722s 647ms/step - loss: 0.0281 - accuracy: 0.9901 - val_loss: 0.0011 - val_accuracy: 0.9996\n",
            "Epoch 5/5\n",
            "2661/2661 [==============================] - 1696s 637ms/step - loss: 0.0204 - accuracy: 0.9929 - val_loss: 0.0195 - val_accuracy: 0.9930\n"
          ]
        }
      ],
      "source": [
        "\n",
        "start_ft = timeit.default_timer()\n",
        "\n",
        "history = model_ft.fit(\n",
        "    train_generator,\n",
        "    steps_per_epoch=steps_per_epoch,\n",
        "    epochs=epochs,\n",
        "    batch_size=batch_size,\n",
        "    callbacks=[save_model_callback],\n",
        "    validation_data=valid_generator,\n",
        "    validation_steps=validation_steps,\n",
        "    verbose=1,\n",
        ")\n",
        "\n",
        "stop_ft = timeit.default_timer()"
      ]
    },
    {
      "cell_type": "code",
      "execution_count": null,
      "metadata": {
        "colab": {
          "base_uri": "https://localhost:8080/"
        },
        "outputId": "a13a0c3b-5288-4efc-f189-1f33abe910cb",
        "id": "Ctqgxl3Wu6ur"
      },
      "outputs": [
        {
          "metadata": {
            "tags": null
          },
          "name": "stdout",
          "output_type": "stream",
          "text": [
            "Model ResNet50 fine tuning executed in 148.37 minutes\n"
          ]
        }
      ],
      "source": [
        "execution_time_ft = (stop_ft - start_ft) / 60\n",
        "print(\n",
        "    f\"Model ResNet50 fine tuning executed in {execution_time_ft:.2f} minutes\"\n",
        ")"
      ]
    },
    {
      "cell_type": "markdown",
      "source": [
        "## **Evaluation and Results**\n",
        "\n",
        "In this section, the performance of the ResNet50 model is evaluated using various metrics. This includes analyzing training and validation loss and accuracy curves, test set accuracy, precision, recall, F1-score, and the confusion matrix."
      ],
      "metadata": {
        "id": "u5Vt9vfxvEjC"
      }
    },
    {
      "cell_type": "markdown",
      "source": [
        "\n",
        "The utility functions used for performance evaluation are listed below."
      ],
      "metadata": {
        "id": "mEkRdj9xv8Xy"
      }
    },
    {
      "cell_type": "code",
      "source": [
        "import seaborn as sns\n",
        "from sklearn.metrics import (accuracy_score, balanced_accuracy_score,\n",
        "                             classification_report, confusion_matrix)\n",
        "\n",
        "def get_plot_loss_acc(model, model_name):\n",
        "    fig = plt.figure()\n",
        "    plt.subplot(2, 1, 1)\n",
        "    plt.plot(model.history.history[\"loss\"])\n",
        "    plt.plot(model.history.history[\"val_loss\"])\n",
        "    plt.title(f\"{model_name} \\n\\n model loss\")\n",
        "    plt.ylabel(\"loss\")\n",
        "    plt.xlabel(\"epoch\")\n",
        "    plt.legend([\"train\", \"valid\"], loc=\"upper right\")\n",
        "\n",
        "    plt.subplot(2, 1, 2)\n",
        "    plt.plot(model.history.history[\"accuracy\"])\n",
        "    plt.plot(model.history.history[\"val_accuracy\"])\n",
        "    plt.title(\"model accuracy\")\n",
        "    plt.ylabel(\"accuracy\")\n",
        "    plt.xlabel(\"epoch\")\n",
        "    plt.legend([\"train\", \"valid\"], loc=\"lower right\")\n",
        "\n",
        "    plt.tight_layout()\n",
        "\n",
        "def get_evaluate(data, name, model):\n",
        "    score_model = model.evaluate(data, verbose=1)\n",
        "    print(f\"{name} loss: {score_model[0]:.6f}\")\n",
        "    print(f\"{name} accuracy: {score_model[1]:.6f}\")\n",
        "\n",
        "def get_formatted_classification_report(y_true, y_pred, target_names, decimal_places=5):\n",
        "    report = classification_report(y_true, y_pred, target_names=target_names, output_dict=True)\n",
        "    report_df = pd.DataFrame(report).transpose()\n",
        "    report_df = report_df.applymap(lambda x: f\"{x:.{decimal_places}f}\" if isinstance(x, (float, np.float64)) else x)\n",
        "\n",
        "    print(report_df.to_string(index=False))\n",
        "\n",
        "    return report_df\n",
        "\n",
        "def compute_confusion_matrix(ytrue, ypred, class_names, model_name):\n",
        "    cm = confusion_matrix(\n",
        "        y_true=ytrue.labels,\n",
        "        y_pred=np.argmax(ypred, axis=1),\n",
        "    )\n",
        "\n",
        "    cmn = cm.astype(\"float\") / cm.sum(axis=1)[:, np.newaxis]\n",
        "\n",
        "    plt.subplots(figsize=(10, 8))\n",
        "    sns.heatmap(\n",
        "        cmn,\n",
        "        annot=True,\n",
        "        fmt=\".5f\",\n",
        "        cmap=\"Purples\",\n",
        "        xticklabels=class_names,\n",
        "        yticklabels=class_names,\n",
        "    )\n",
        "    plt.title(f\"Confusion Matrix - {model_name}\")\n",
        "    plt.ylabel(\"Actual\")\n",
        "    plt.xlabel(\"Predicted\")\n",
        "    plt.show(block=False)\n",
        "\n",
        "def get_predict(data, model):\n",
        "    predict_model = model.predict(data)\n",
        "    return predict_model\n",
        "\n",
        "def save_and_display_gradcam(img_path, heatmap, cam_path=\"cam.jpg\", alpha=0.4):\n",
        "    img = keras.utils.load_img(img_path)\n",
        "    img = keras.utils.img_to_array(img)\n",
        "\n",
        "    heatmap = np.uint8(255 * heatmap)\n",
        "\n",
        "    jet = mpl.colormaps[\"jet\"]\n",
        "    jet_colors = jet(np.arange(256))[:, :3]\n",
        "    jet_heatmap = jet_colors[heatmap]\n",
        "\n",
        "    jet_heatmap = keras.utils.array_to_img(jet_heatmap)\n",
        "    jet_heatmap = jet_heatmap.resize((img.shape[1], img.shape[0]))\n",
        "    jet_heatmap = keras.utils.img_to_array(jet_heatmap)\n",
        "\n",
        "    superimposed_img = jet_heatmap * alpha + img\n",
        "    superimposed_img = keras.utils.array_to_img(superimposed_img)\n",
        "\n",
        "    superimposed_img.save(cam_path)\n",
        "\n",
        "    plt.figure(figsize=(10, 10))\n",
        "    plt.imshow(superimposed_img)\n",
        "    plt.axis('off')\n",
        "    plt.show()\n",
        "\n",
        "def get_img_array(img_path, size):\n",
        "    img = keras.utils.load_img(img_path, target_size=size)\n",
        "    array = keras.utils.img_to_array(img)\n",
        "    array = np.expand_dims(array, axis=0)\n",
        "    return array\n",
        "\n",
        "def make_gradcam_heatmap(img_array, model, last_conv_layer_name, pred_index=None):\n",
        "    resnet_model = model.get_layer('resnet50')\n",
        "    last_conv_layer = resnet_model.get_layer(last_conv_layer_name)\n",
        "    last_conv_layer_model = keras.models.Model(resnet_model.input, last_conv_layer.output)\n",
        "\n",
        "    classifier_input = keras.layers.Input(shape=last_conv_layer.output.shape[1:])\n",
        "    x = classifier_input\n",
        "    for layer in model.layers[1:]:\n",
        "        x = layer(x)\n",
        "    classifier_model = keras.models.Model(classifier_input, x)\n",
        "\n",
        "    with tf.GradientTape() as tape:\n",
        "        last_conv_layer_output = last_conv_layer_model(img_array)\n",
        "        tape.watch(last_conv_layer_output)\n",
        "        preds = classifier_model(last_conv_layer_output)\n",
        "        if pred_index is None:\n",
        "            pred_index = tf.argmax(preds[0])\n",
        "        class_channel = preds[:, pred_index]\n",
        "\n",
        "    grads = tape.gradient(class_channel, last_conv_layer_output)\n",
        "    pooled_grads = tf.reduce_mean(grads, axis=(0, 1, 2))\n",
        "\n",
        "    last_conv_layer_output = last_conv_layer_output[0]\n",
        "    heatmap = last_conv_layer_output @ pooled_grads[..., tf.newaxis]\n",
        "    heatmap = tf.squeeze(heatmap)\n",
        "\n",
        "    heatmap = tf.maximum(heatmap, 0) / tf.math.reduce_max(heatmap)\n",
        "    return heatmap.numpy()"
      ],
      "metadata": {
        "id": "HLuuHn_ivSzD"
      },
      "execution_count": null,
      "outputs": []
    },
    {
      "cell_type": "markdown",
      "source": [
        "\n",
        "Loading the model."
      ],
      "metadata": {
        "id": "HlStuwI-wTd9"
      }
    },
    {
      "cell_type": "code",
      "source": [
        "from tensorflow.keras.models import load_model\n",
        "model = load_model(\"/content/drive/MyDrive/DiElle/NOTEBOOK FINALI/BINARIO_320k/BINARIO_320k.h5\")"
      ],
      "metadata": {
        "id": "feXTIXm80AAY"
      },
      "execution_count": null,
      "outputs": []
    },
    {
      "cell_type": "markdown",
      "source": [
        "### **Training and Validation Loss and Accuracy Plots**\n",
        "\n",
        "Below, the loss and accuracy graphs for the training and validation sets are shown."
      ],
      "metadata": {
        "id": "3lQcA0PUzDUx"
      }
    },
    {
      "cell_type": "code",
      "execution_count": null,
      "metadata": {
        "colab": {
          "base_uri": "https://localhost:8080/",
          "height": 487
        },
        "outputId": "880a1445-25fa-4635-c8f9-c04ae3fff27c",
        "id": "J6-G_amPvWvB"
      },
      "outputs": [
        {
          "output_type": "display_data",
          "data": {
            "text/plain": [
              "<Figure size 640x480 with 2 Axes>"
            ],
            "image/png": "[encoded data removed]"
          },
          "metadata": {}
        }
      ],
      "source": [
        "get_plot_loss_acc(model_ft, f\"ResNet50 Fine Tuning\")"
      ]
    },
    {
      "cell_type": "markdown",
      "source": [
        "### **Test Accuracy**\n",
        "\n",
        "Below, the test accuracy of the model is shown."
      ],
      "metadata": {
        "id": "CgdwPn1U0OKo"
      }
    },
    {
      "cell_type": "code",
      "source": [
        "get_evaluate(test_generator, \"Test\", model)"
      ],
      "metadata": {
        "colab": {
          "base_uri": "https://localhost:8080/"
        },
        "id": "3hSplBYqMp1m",
        "outputId": "07a03556-9fd6-4a6f-83b3-a03ee04b7618"
      },
      "execution_count": null,
      "outputs": [
        {
          "output_type": "stream",
          "name": "stdout",
          "text": [
            "1000/1000 [==============================] - 116s 115ms/step - loss: 0.0020 - accuracy: 0.9994\n",
            "Test loss: 0.00196\n",
            "Test accuracy: 0.99937\n"
          ]
        }
      ]
    },
    {
      "cell_type": "markdown",
      "source": [
        "### **Precision, Recall and F1-score**\n",
        "\n",
        "Below, the precision, recall, and F1 score metrics for the model are shown."
      ],
      "metadata": {
        "id": "oyVq7U5b0SNG"
      }
    },
    {
      "cell_type": "code",
      "source": [
        "# Model predictions\n",
        "y_pred_proba = get_predict(test_generator, model)\n",
        "y_pred = np.argmax(y_pred_proba, axis=1)\n",
        "\n",
        "get_formatted_classification_report(test_generator.labels, y_pred, class_names, decimal_places=5)"
      ],
      "metadata": {
        "colab": {
          "base_uri": "https://localhost:8080/",
          "height": 701
        },
        "id": "_mHvhzL9O6OK",
        "outputId": "38672291-e9d0-4fd9-9669-c9b3cb1094e4"
      },
      "execution_count": null,
      "outputs": [
        {
          "output_type": "stream",
          "name": "stdout",
          "text": [
            "precision  recall f1-score     support\n",
            "  0.99900 0.99975  0.99938 16000.00000\n",
            "  0.99975 0.99900  0.99937 16000.00000\n",
            "  0.99938 0.99938  0.99938     0.99938\n",
            "  0.99938 0.99938  0.99937 32000.00000\n",
            "  0.99938 0.99938  0.99937 32000.00000\n"
          ]
        },
        {
          "output_type": "execute_result",
          "data": {
            "text/plain": [
              "             precision   recall f1-score      support\n",
              "Positive       0.99900  0.99975  0.99938  16000.00000\n",
              "Negative       0.99975  0.99900  0.99937  16000.00000\n",
              "accuracy       0.99938  0.99938  0.99938      0.99938\n",
              "macro avg      0.99938  0.99938  0.99937  32000.00000\n",
              "weighted avg   0.99938  0.99938  0.99937  32000.00000"
            ],
            "text/html": [
              "\n",
              "  <div id=\"df-73dd3933-d09a-458e-b6fe-a971e6df2588\" class=\"colab-df-container\">\n",
              "    <div>\n",
              "<style scoped>\n",
              "    .dataframe tbody tr th:only-of-type {\n",
              "        vertical-align: middle;\n",
              "    }\n",
              "\n",
              "    .dataframe tbody tr th {\n",
              "        vertical-align: top;\n",
              "    }\n",
              "\n",
              "    .dataframe thead th {\n",
              "        text-align: right;\n",
              "    }\n",
              "</style>\n",
              "<table border=\"1\" class=\"dataframe\">\n",
              "  <thead>\n",
              "    <tr style=\"text-align: right;\">\n",
              "      <th></th>\n",
              "      <th>precision</th>\n",
              "      <th>recall</th>\n",
              "      <th>f1-score</th>\n",
              "      <th>support</th>\n",
              "    </tr>\n",
              "  </thead>\n",
              "  <tbody>\n",
              "    <tr>\n",
              "      <th>Positive</th>\n",
              "      <td>0.99900</td>\n",
              "      <td>0.99975</td>\n",
              "      <td>0.99938</td>\n",
              "      <td>16000.00000</td>\n",
              "    </tr>\n",
              "    <tr>\n",
              "      <th>Negative</th>\n",
              "      <td>0.99975</td>\n",
              "      <td>0.99900</td>\n",
              "      <td>0.99937</td>\n",
              "      <td>16000.00000</td>\n",
              "    </tr>\n",
              "    <tr>\n",
              "      <th>accuracy</th>\n",
              "      <td>0.99938</td>\n",
              "      <td>0.99938</td>\n",
              "      <td>0.99938</td>\n",
              "      <td>0.99938</td>\n",
              "    </tr>\n",
              "    <tr>\n",
              "      <th>macro avg</th>\n",
              "      <td>0.99938</td>\n",
              "      <td>0.99938</td>\n",
              "      <td>0.99937</td>\n",
              "      <td>32000.00000</td>\n",
              "    </tr>\n",
              "    <tr>\n",
              "      <th>weighted avg</th>\n",
              "      <td>0.99938</td>\n",
              "      <td>0.99938</td>\n",
              "      <td>0.99937</td>\n",
              "      <td>32000.00000</td>\n",
              "    </tr>\n",
              "  </tbody>\n",
              "</table>\n",
              "</div>\n",
              "    <div class=\"colab-df-buttons\">\n",
              "\n",
              "  <div class=\"colab-df-container\">\n",
              "    <button class=\"colab-df-convert\" onclick=\"convertToInteractive('df-73dd3933-d09a-458e-b6fe-a971e6df2588')\"\n",
              "            title=\"Convert this dataframe to an interactive table.\"\n",
              "            style=\"display:none;\">\n",
              "\n",
              "  <svg xmlns=\"http://www.w3.org/2000/svg\" height=\"24px\" viewBox=\"0 -960 960 960\">\n",
              "    <path d=\"M120-120v-720h720v720H120Zm60-500h600v-160H180v160Zm220 220h160v-160H400v160Zm0 220h160v-160H400v160ZM180-400h160v-160H180v160Zm440 0h160v-160H620v160ZM180-180h160v-160H180v160Zm440 0h160v-160H620v160Z\"/>\n",
              "  </svg>\n",
              "    </button>\n",
              "\n",
              "  <style>\n",
              "    .colab-df-container {\n",
              "      display:flex;\n",
              "      gap: 12px;\n",
              "    }\n",
              "\n",
              "    .colab-df-convert {\n",
              "      background-color: #E8F0FE;\n",
              "      border: none;\n",
              "      border-radius: 50%;\n",
              "      cursor: pointer;\n",
              "      display: none;\n",
              "      fill: #1967D2;\n",
              "      height: 32px;\n",
              "      padding: 0 0 0 0;\n",
              "      width: 32px;\n",
              "    }\n",
              "\n",
              "    .colab-df-convert:hover {\n",
              "      background-color: #E2EBFA;\n",
              "      box-shadow: 0px 1px 2px rgba(60, 64, 67, 0.3), 0px 1px 3px 1px rgba(60, 64, 67, 0.15);\n",
              "      fill: #174EA6;\n",
              "    }\n",
              "\n",
              "    .colab-df-buttons div {\n",
              "      margin-bottom: 4px;\n",
              "    }\n",
              "\n",
              "    [theme=dark] .colab-df-convert {\n",
              "      background-color: #3B4455;\n",
              "      fill: #D2E3FC;\n",
              "    }\n",
              "\n",
              "    [theme=dark] .colab-df-convert:hover {\n",
              "      background-color: #434B5C;\n",
              "      box-shadow: 0px 1px 3px 1px rgba(0, 0, 0, 0.15);\n",
              "      filter: drop-shadow(0px 1px 2px rgba(0, 0, 0, 0.3));\n",
              "      fill: #FFFFFF;\n",
              "    }\n",
              "  </style>\n",
              "\n",
              "    <script>\n",
              "      const buttonEl =\n",
              "        document.querySelector('#df-73dd3933-d09a-458e-b6fe-a971e6df2588 button.colab-df-convert');\n",
              "      buttonEl.style.display =\n",
              "        google.colab.kernel.accessAllowed ? 'block' : 'none';\n",
              "\n",
              "      async function convertToInteractive(key) {\n",
              "        const element = document.querySelector('#df-73dd3933-d09a-458e-b6fe-a971e6df2588');\n",
              "        const dataTable =\n",
              "          await google.colab.kernel.invokeFunction('convertToInteractive',\n",
              "                                                    [key], {});\n",
              "        if (!dataTable) return;\n",
              "\n",
              "        const docLinkHtml = 'Like what you see? Visit the ' +\n",
              "          '<a target=\"_blank\" href=https://colab.research.google.com/notebooks/data_table.ipynb>data table notebook</a>'\n",
              "          + ' to learn more about interactive tables.';\n",
              "        element.innerHTML = '';\n",
              "        dataTable['output_type'] = 'display_data';\n",
              "        await google.colab.output.renderOutput(dataTable, element);\n",
              "        const docLink = document.createElement('div');\n",
              "        docLink.innerHTML = docLinkHtml;\n",
              "        element.appendChild(docLink);\n",
              "      }\n",
              "    </script>\n",
              "  </div>\n",
              "\n",
              "\n",
              "<div id=\"df-6262f0ea-5b83-4b6c-bb7c-2c7d4f4e2cac\">\n",
              "  <button class=\"colab-df-quickchart\" onclick=\"quickchart('df-6262f0ea-5b83-4b6c-bb7c-2c7d4f4e2cac')\"\n",
              "            title=\"Suggest charts\"\n",
              "            style=\"display:none;\">\n",
              "\n",
              "<svg xmlns=\"http://www.w3.org/2000/svg\" height=\"24px\"viewBox=\"0 0 24 24\"\n",
              "     width=\"24px\">\n",
              "    <g>\n",
              "        <path d=\"M19 3H5c-1.1 0-2 .9-2 2v14c0 1.1.9 2 2 2h14c1.1 0 2-.9 2-2V5c0-1.1-.9-2-2-2zM9 17H7v-7h2v7zm4 0h-2V7h2v10zm4 0h-2v-4h2v4z\"/>\n",
              "    </g>\n",
              "</svg>\n",
              "  </button>\n",
              "\n",
              "<style>\n",
              "  .colab-df-quickchart {\n",
              "      --bg-color: #E8F0FE;\n",
              "      --fill-color: #1967D2;\n",
              "      --hover-bg-color: #E2EBFA;\n",
              "      --hover-fill-color: #174EA6;\n",
              "      --disabled-fill-color: #AAA;\n",
              "      --disabled-bg-color: #DDD;\n",
              "  }\n",
              "\n",
              "  [theme=dark] .colab-df-quickchart {\n",
              "      --bg-color: #3B4455;\n",
              "      --fill-color: #D2E3FC;\n",
              "      --hover-bg-color: #434B5C;\n",
              "      --hover-fill-color: #FFFFFF;\n",
              "      --disabled-bg-color: #3B4455;\n",
              "      --disabled-fill-color: #666;\n",
              "  }\n",
              "\n",
              "  .colab-df-quickchart {\n",
              "    background-color: var(--bg-color);\n",
              "    border: none;\n",
              "    border-radius: 50%;\n",
              "    cursor: pointer;\n",
              "    display: none;\n",
              "    fill: var(--fill-color);\n",
              "    height: 32px;\n",
              "    padding: 0;\n",
              "    width: 32px;\n",
              "  }\n",
              "\n",
              "  .colab-df-quickchart:hover {\n",
              "    background-color: var(--hover-bg-color);\n",
              "    box-shadow: 0 1px 2px rgba(60, 64, 67, 0.3), 0 1px 3px 1px rgba(60, 64, 67, 0.15);\n",
              "    fill: var(--button-hover-fill-color);\n",
              "  }\n",
              "\n",
              "  .colab-df-quickchart-complete:disabled,\n",
              "  .colab-df-quickchart-complete:disabled:hover {\n",
              "    background-color: var(--disabled-bg-color);\n",
              "    fill: var(--disabled-fill-color);\n",
              "    box-shadow: none;\n",
              "  }\n",
              "\n",
              "  .colab-df-spinner {\n",
              "    border: 2px solid var(--fill-color);\n",
              "    border-color: transparent;\n",
              "    border-bottom-color: var(--fill-color);\n",
              "    animation:\n",
              "      spin 1s steps(1) infinite;\n",
              "  }\n",
              "\n",
              "  @keyframes spin {\n",
              "    0% {\n",
              "      border-color: transparent;\n",
              "      border-bottom-color: var(--fill-color);\n",
              "      border-left-color: var(--fill-color);\n",
              "    }\n",
              "    20% {\n",
              "      border-color: transparent;\n",
              "      border-left-color: var(--fill-color);\n",
              "      border-top-color: var(--fill-color);\n",
              "    }\n",
              "    30% {\n",
              "      border-color: transparent;\n",
              "      border-left-color: var(--fill-color);\n",
              "      border-top-color: var(--fill-color);\n",
              "      border-right-color: var(--fill-color);\n",
              "    }\n",
              "    40% {\n",
              "      border-color: transparent;\n",
              "      border-right-color: var(--fill-color);\n",
              "      border-top-color: var(--fill-color);\n",
              "    }\n",
              "    60% {\n",
              "      border-color: transparent;\n",
              "      border-right-color: var(--fill-color);\n",
              "    }\n",
              "    80% {\n",
              "      border-color: transparent;\n",
              "      border-right-color: var(--fill-color);\n",
              "      border-bottom-color: var(--fill-color);\n",
              "    }\n",
              "    90% {\n",
              "      border-color: transparent;\n",
              "      border-bottom-color: var(--fill-color);\n",
              "    }\n",
              "  }\n",
              "</style>\n",
              "\n",
              "  <script>\n",
              "    async function quickchart(key) {\n",
              "      const quickchartButtonEl =\n",
              "        document.querySelector('#' + key + ' button');\n",
              "      quickchartButtonEl.disabled = true;  // To prevent multiple clicks.\n",
              "      quickchartButtonEl.classList.add('colab-df-spinner');\n",
              "      try {\n",
              "        const charts = await google.colab.kernel.invokeFunction(\n",
              "            'suggestCharts', [key], {});\n",
              "      } catch (error) {\n",
              "        console.error('Error during call to suggestCharts:', error);\n",
              "      }\n",
              "      quickchartButtonEl.classList.remove('colab-df-spinner');\n",
              "      quickchartButtonEl.classList.add('colab-df-quickchart-complete');\n",
              "    }\n",
              "    (() => {\n",
              "      let quickchartButtonEl =\n",
              "        document.querySelector('#df-6262f0ea-5b83-4b6c-bb7c-2c7d4f4e2cac button');\n",
              "      quickchartButtonEl.style.display =\n",
              "        google.colab.kernel.accessAllowed ? 'block' : 'none';\n",
              "    })();\n",
              "  </script>\n",
              "</div>\n",
              "\n",
              "    </div>\n",
              "  </div>\n"
            ],
            "application/vnd.google.colaboratory.intrinsic+json": {
              "type": "dataframe",
              "summary": "{\n  \"name\": \"get_formatted_classification_report(test_generator\",\n  \"rows\": 5,\n  \"fields\": [\n    {\n      \"column\": \"precision\",\n      \"properties\": {\n        \"dtype\": \"string\",\n        \"num_unique_values\": 3,\n        \"samples\": [\n          \"0.99900\",\n          \"0.99975\",\n          \"0.99938\"\n        ],\n        \"semantic_type\": \"\",\n        \"description\": \"\"\n      }\n    },\n    {\n      \"column\": \"recall\",\n      \"properties\": {\n        \"dtype\": \"string\",\n        \"num_unique_values\": 3,\n        \"samples\": [\n          \"0.99975\",\n          \"0.99900\",\n          \"0.99938\"\n        ],\n        \"semantic_type\": \"\",\n        \"description\": \"\"\n      }\n    },\n    {\n      \"column\": \"f1-score\",\n      \"properties\": {\n        \"dtype\": \"category\",\n        \"num_unique_values\": 2,\n        \"samples\": [\n          \"0.99937\",\n          \"0.99938\"\n        ],\n        \"semantic_type\": \"\",\n        \"description\": \"\"\n      }\n    },\n    {\n      \"column\": \"support\",\n      \"properties\": {\n        \"dtype\": \"string\",\n        \"num_unique_values\": 3,\n        \"samples\": [\n          \"16000.00000\",\n          \"0.99938\"\n        ],\n        \"semantic_type\": \"\",\n        \"description\": \"\"\n      }\n    }\n  ]\n}"
            }
          },
          "metadata": {},
          "execution_count": 38
        },
        {
          "output_type": "display_data",
          "data": {
            "text/plain": [
              "<google.colab._quickchart_helpers.SectionTitle at 0x78834bfcc7f0>"
            ],
            "text/html": [
              "<h4 class=\"colab-quickchart-section-title\">Categorical distributions</h4>\n",
              "<style>\n",
              "  .colab-quickchart-section-title {\n",
              "      clear: both;\n",
              "  }\n",
              "</style>"
            ]
          },
          "metadata": {}
        },
        {
          "output_type": "display_data",
          "data": {
            "text/plain": [
              "from matplotlib import pyplot as plt\n",
              "import seaborn as sns\n",
              "_df_0.groupby('precision').size().plot(kind='barh', color=sns.palettes.mpl_palette('Dark2'))\n",
              "plt.gca().spines[['top', 'right',]].set_visible(False)"
            ],
            "text/html": [
              "      <div class=\"colab-quickchart-chart-with-code\" id=\"chart-f582644a-7d7e-4ae6-8ada-42f010ed0e92\">\n",
              "        <img style=\"width: 180px;\" src=\"data:image/png;base64,iVBORw0KGgoAAAANSUhEUgAAAkcAAAGZCAYAAACDn5U1AAAAOXRFWHRTb2Z0d2FyZQBNYXRwbG90\n",
              "bGliIHZlcnNpb24zLjcuMSwgaHR0cHM6Ly9tYXRwbG90bGliLm9yZy/bCgiHAAAACXBIWXMAAA9h\n",
              "AAAPYQGoP6dpAAAeV0lEQVR4nO3dfZCV9X3//9eBHW/wK1BR7KaIRAGJQcBF8nOMitabKiqJIcYk\n",
              "P6WgBrQ62mZQ6jhqc4cmRh1qTNQpJQpWY4MTqRUnmthUp1rDIFpUgqDAmkCIIDeJys3u9fsjk/P7\n",
              "0MWE5cuyoI/HzJlhz+faPe/9zDXr0+ucs1urqqoKAABJki6dPQAAwO5EHAEAFMQRAEBBHAEAFMQR\n",
              "AEBBHAEAFMQRAEBBHAEAFMQRAEBBHO2AqVOndvYIAEAHEUc7YNmyZZ09AgDQQcQRAEBBHAEAFMQR\n",
              "AEBBHAEAFMQRAEBBHAEAFMQRAEBBHAEAFMQRAEBBHAEAFMQRAEBBHAEAFMQRAEBBHAEAFMQRAEBB\n",
              "HAEAFMQRAEBBHAEAFMQRAEBBHAEAFMQRAEBBHAEAFMQRAEBBHAEAFMQRAEBBHAEAFMQRAEBBHAEA\n",
              "FGpVVVWdPcSe5pimT+cvR17S2WPwIfOt28/u7BEAPhRcOQIAKIgjAICCOAIAKIgjAICCOAIAKIgj\n",
              "AICCOAIAKIgjAICCOAIAKIgjAICCOAIAKIgjAICCOAIAKIgjAICCOAIAKIgjAICCOAIAKIgjAICC\n",
              "OAIAKIgjAICCOAIAKIgjAICCOAIAKIgjAICCOAIAKIgjAICCOAIAKHRoHL322ms57rjjMnDgwIwY\n",
              "MSIvv/xym2NaW1szadKkDB48OIMGDcrFF1+cTZs21ddvueWWDB48OEceeWTOPffcrF27tr42Y8aM\n",
              "DB06NIMHD84pp5yS5cuXJ0lWr16dYcOG1W8DBw5MQ0ND1qxZkyQ56aST8tGPfrS+fvvtt3fkNgAA\n",
              "e5AOjaOJEydmwoQJWbRoUSZPnpxx48a1OWbatGmZN29e5s2bl1dffTVdunTJ1KlTkyRPPPFEpk+f\n",
              "nmeffTavvPJKhg8fnuuuuy5JsnDhwlx99dV5/PHHs2DBgowfPz6XXXZZkqRXr16ZP39+/TZhwoSc\n",
              "eeaZOeCAA+qPe/vtt9fX/+7v/q4jtwEA2IN0WBytWrUqc+fOzQUXXJAkGTNmTJqbm7N48eKtjnvx\n",
              "xRdz6qmnZq+99kqtVsuZZ56ZGTNm1NeOP/747L///kmSUaNG1dcWLFiQIUOGpLGxsb42Z86crF69\n",
              "us0s06ZNy8UXX7xD38fGjRuzfv36rW5Va+sOfS0AYPfXYXHU3NycxsbGNDQ0JElqtVr69u1bf+rr\n",
              "D4YPH57Zs2dn/fr12bx5cx566KEsXbq0vvbkk09m5cqVqaoq999/fzZs2JA1a9Zk6NChmTdvXhYt\n",
              "WpQkmTlzZqqqyrJly7b6+v/1X/+Vt99+O2efffZW9//93/99jjrqqJx//vl5/fXX3/f7uOmmm9Kj\n",
              "R4+tbit+vej/dnsAgN1Up78ge9y4cTnjjDMycuTIjBw5sv76oCQ5+eSTM2nSpJx99tk59thjc9BB\n",
              "ByVJGhoaMmDAgNx1110ZO3ZsjjnmmKxevTo9e/asf+4fTJs2LWPHjt3q/hkzZmThwoV56aWXcsIJ\n",
              "J7QJp9K1116bdevWbXVrPHhgB+wEALA7qFVVVXXEF161alX69++fNWvWpKGhIVVVpbGxMc8880z6\n",
              "9+//vp/34IMP5s4778zTTz/dZu25557Leeedl+bm5jZrK1euTL9+/bJmzZp069YtSfLb3/42jY2N\n",
              "+fnPf55Bgwa972Pus88++eUvf5levXpt1/d2TNOn85cjL9muY2Fn+dbt7x/xAOw8HXblqHfv3mlq\n",
              "asrMmTOTJLNmzUqfPn3ahNF7772Xt99+O0ny1ltv5eabb84111xTX1+xYkWS5J133skNN9ywzbWW\n",
              "lpZMnjw5l19+eT2MkuQHP/hBhg4dulUYbdmyJb/+9a/rH8+aNSsHH3zwdocRAPDB1vCnD9lxd999\n",
              "d8aNG5cpU6ake/fumT59epLkkksuyejRozN69OisW7cuJ510Urp06ZLW1tZcddVVOeecc+pf4/TT\n",
              "T09ra2s2bdqUCy+8MFdccUV97aKLLsqyZcuycePGnHXWWZkyZcpWjz9t2rR86Utf2uq+Pxy7cePG\n",
              "dOnSJQceeGBmz57dgbsAAOxJOuxptQ8yT6vRGTytBrBrdPoLsgEAdifiCACgII4AAAriCACgII4A\n",
              "AAriCACgII4AAAriCACgII4AAAriCACgII4AAAriCACgII4AAAriCACgII4AAAriCACgII4AAAri\n",
              "CACgII4AAAriCACgII4AAAriCACgII4AAAriCACgII4AAAoNnT3AnujEkw7Lt247u7PHAAA6gCtH\n",
              "AAAFcQQAUBBHAAAFcQQAUBBHAAAFcQQAUBBHAAAFcQQAUBBHAAAFcQQAUBBHAAAFcQQAUBBHAAAF\n",
              "cQQAUBBHAAAFcQQAUBBHAAAFcQQAUBBHAAAFcQQAUBBHAAAFcQQAUBBHAAAFcQQAUBBHAAAFcQQA\n",
              "UBBHAAAFcQQAUBBHAAAFcQQAUBBHAAAFcQQAUBBHAAAFcQQAUBBHAAAFcQQAUBBHAAAFcQQAUBBH\n",
              "AAAFcQQAUBBHAAAFcQQAUBBHAAAFcQQAUBBHAAAFcQQAUBBHAAAFcQQAUBBHAAAFcQQAUBBHAAAF\n",
              "cQQAUBBHAAAFcQQAUBBHAAAFcQQAUBBHAAAFcQQAUBBHAAAFcQQAUBBHAACFWlVVVWcPsacZ//Fa\n",
              "rh2hKwFgZxv4/ZbOHsGVIwCAkjgCACiIIwCAgjgCACiIIwCAgjgCACiIIwCAQsOOfNKKFSvyxhtv\n",
              "ZMuWLfX7TjzxxJ02FABAZ2l3HH3jG9/ILbfcksMOOyxdu3ZNktRqtTz//PM7fTgAgF2t3XH0z//8\n",
              "z1myZEl69erVEfMAAHSqdr/m6OCDDxZGAMAHVruvHJ122mn527/923zxi1/MPvvsU79/yJAhO3Uw\n",
              "AIDO0O44uu+++5IkjzzySP2+Wq2W119/fedNBQDQSdodR2+88UZHzAEAsFvYobfyP//883nyySeT\n",
              "JKeffnqOOeaYnToUAEBnafcLsu+555589rOfzapVq/Kb3/wmY8aMyT/90z91xGwAALtcraqqqj2f\n",
              "MGTIkPzkJz/JQQcdlCT5zW9+k1NOOSUvvfRShwy4Oxr/8VquHeGXiwPAzjbw+y2dPcKO/fmQP4TR\n",
              "//43AMCert1xNGDAgFx33XVZvnx5li9fnuuvvz4DBgzoiNkAAHa5dsfRXXfdlSVLlqSpqSlNTU1Z\n",
              "vHhxvve973XEbAAAu1y736120EEH5cEHH+yIWQAAOt12x9HPfvazjBw5MrNnz97m+ujRo3faUAAA\n",
              "nWW742jmzJkZOXJkbr/99jZrtVpNHAEAHwjtfis/3soPAB1lj3wr/7/9279l/fr1SZJvf/vb+exn\n",
              "P5uXX355pw8GANAZ2h1H1113Xbp3754XX3wxM2fOzGmnnZZLL720I2YDANjl2h1HDQ2/f5nSj3/8\n",
              "40yYMCETJ07M7373u20e+9prr+W4447LwIEDM2LEiG1eYWptbc2kSZMyePDgDBo0KBdffHE2bdpU\n",
              "X7/lllsyePDgHHnkkTn33HOzdu3a+tqMGTMydOjQDB48OKecckqWL19eXzv99NMzZMiQDBs2LCec\n",
              "cEJeeOGF+tpjjz2WpqamDBs2LIMHD869997b3m0AAD6g2h1HLS0t+e///u/MmjUrJ598cpJk8+bN\n",
              "2zx24sSJmTBhQhYtWpTJkydn3LhxbY6ZNm1a5s2bl3nz5uXVV19Nly5dMnXq1CTJE088kenTp+fZ\n",
              "Z5/NK6+8kuHDh+e6665LkixcuDBXX311Hn/88SxYsCDjx4/PZZddVv+6Dz30UF566aXMnz8/X/7y\n",
              "l+uPXVVVLrjggnz/+9/P/Pnz8+ijj2bixInZsGFDe7cCAPgAanccff3rX8/EiRPzyU9+Mh/72Mfy\n",
              "i1/8IgMHDmxz3KpVqzJ37txccMEFSZIxY8akubk5ixcv3uq4F198Maeeemr22muv1Gq1nHnmmZkx\n",
              "Y0Z97fjjj8/++++fJBk1alR9bcGCBRkyZEgaGxvra3PmzMnq1auTJD179qw/xrp161Kr1eof12q1\n",
              "+hWo9evXp1evXtl77723+f1u3Lgx69ev3+rW0treXQMA9hTtjqNzzjkn8+fPz6233pokOeKIIzJr\n",
              "1qw2xzU3N6exsbH+NFytVkvfvn23euorSYYPH57Zs2dn/fr12bx5cx566KEsXbq0vvbkk09m5cqV\n",
              "qaoq999/fzZs2JA1a9Zk6NChmTdvXhYtWpTk979qoKqqLFu2rP61x44dm0MOOSTXX399PapqtVp+\n",
              "8IMf5DOf+UwOPfTQHH/88bn33nuz1157bfP7vemmm9KjR4+tbi+91d5dAwD2FNv9e44eeOCBfOEL\n",
              "X8g//uM/bnP9yiuv3KEBxo0bl2XLlmXkyJHZd999c+qpp+bHP/5xkuTkk0/OpEmTcvbZZ6dr1645\n",
              "99xzfz90Q0MGDBiQu+66K2PHjs2WLVty1llnpWfPnvUYS5L77rsvSXLvvfdm8uTJeeyxx7Jly5Z8\n",
              "/etfz8MPP5wTTzwxP//5zzN69Oj8z//8Tw488MA281177bX58pe/vNV9V/w/PXboewUAdn/b/XuO\n",
              "brzxxnzlK1/J+PHjt7k+ffr0rT5etWpV+vfvnzVr1qShoSFVVaWxsTHPPPNM+vfv/76P8+CDD+bO\n",
              "O+/M008/3Wbtueeey3nnnZfm5uY2aytXrky/fv2yZs2adOvWrc36vvvumzfffDNvvPFGvvjFL9av\n",
              "OCXJiBEjMmXKlJx22mnvO1fJ7zkCgI6xO/yeo+2+cvSVr3wlSdsIej+9e/dOU1NTZs6cmXHjxmXW\n",
              "rFnp06dPmzB677338u677+bP/uzP8tZbb+Xmm2/O1772tfr6ihUr0tjYmHfeeSc33HBDrrnmmjZr\n",
              "LS0tmTx5ci6//PJ069Yta9euzTvvvJOPfOQjSZIf/ehH6dWrVw444IBs2bIlK1asyKuvvpqPfexj\n",
              "Wbx4cZYsWZIjjjhie7cCAPgAa/cfnr3xxhtz5ZVXplevXkmSt956K3feeWduvPHGNsfefffdGTdu\n",
              "XKZMmZLu3bvXw+qSSy7J6NGjM3r06Kxbty4nnXRSunTpktbW1lx11VU555xz6l/j9NNPT2trazZt\n",
              "2pQLL7wwV1xxRX3toosuyrJly7Jx48acddZZmTJlSpLfvwD7vPPOy7vvvpsuXbrkoIMOyqOPPppa\n",
              "rZaDDz4499xzTz73uc/VH/M73/lO+vbt296tAAA+gNr950OGDRuW+fPnb3VfU1NT5s2btzPn2q15\n",
              "Wg0AOsbu8LRau/8L39ra9n3s5S9tBADYk7U7jo444oh861vfSktLS7Zs2ZJvfvObGTRoUEfMBgCw\n",
              "y7U7jqZOnZrHH388++67b/bbb788+eSTueOOOzpiNgCAXa7dL8j+yEc+kp/+9Kf1v6e233777fSh\n",
              "AAA6S7uvHG3ZsiW33nprrr766uy3335ZsmRJfvrTn3bEbAAAu1y7rxxdccUVaWlpyTPPPJMk6dWr\n",
              "V84///zMnTt3pw8HALCrtTuOnnvuucyfPz9HH310kt//gdfNmzfv9MEAADpDu59W22effbb6uKWl\n",
              "ZZtv7wcA2BO1O46GDBmSmTNnprW1NYsXL86ll16ak046qQNGAwDY9dodR7fddluefvrprFy5Mp/8\n",
              "5CfTpUuXfPOb3+yI2QAAdrl2veaopaUlX/va13L33Xfn7rvv7qiZAAA6TbuuHHXt2jVPPfVUR80C\n",
              "ANDp2v202qhRo/KNb3wjv/rVr7J+/fr6DQDgg6BWVVXVnk/o0qVtT9VqtbS0dP5f0d1Vxn+8lmtH\n",
              "tLsrAYA/YeD3O78n2v17jrxtHwD4IGt3HCXJ8uXL85//+Z+p1Wo58cQTc8ghh+zsuQAAOkW7nxv6\n",
              "l3/5lxx99NGZNWtWfvjDH6apqSkPPvhgR8wGALDLtfvK0Ve/+tXMnTs3H/3oR5MkS5cuzRlnnJHP\n",
              "f/7zO304AIBdrd1Xjrp161YPoyTp169funXrtlOHAgDoLO2Oo7POOiv/8A//kDfffDPNzc356le/\n",
              "mnPOOcdb+gGAD4Sd8lb++hf7kLyl31v5AaBjeCs/AMBuxuUPAICCOAIAKIgjAIDCDv2G7A+7P/ur\n",
              "v8vA227r7DEAgA7gyhEAQEEcAQAUxBEAQEEcAQAUxBEAQEEcAQAUxBEAQEEcAQAUxBEAQEEcAQAU\n",
              "xBEAQEEcAQAUxBEAQEEcAQAUxBEAQEEcAQAUxBEAQEEcAQAUxBEAQEEcAQAUxBEAQEEcAQAUxBEA\n",
              "QEEcAQAUxBEAQEEcAQAUxBEAQEEcAQAUxBEAQEEcAQAUxBEAQEEcAQAUxBEAQEEcAQAUxBEAQEEc\n",
              "AQAUxBEAQEEcAQAUxBEAQEEcAQAUxBEAQEEcAQAUxBEAQEEcAQAUxBEAQEEcAQAUxBEAQEEcAQAU\n",
              "xBEAQEEcAQAUxBEAQEEcAQAUxBEAQEEcAQAUxBEAQEEcAQAUxBEAQEEcAQAUxBEAQEEcAQAUxBEA\n",
              "QKFWVVXV2UPsaf7PX41Iz8+f0tlj8CHz5vibO3sEgA8FV44AAAriCACgII4AAAriCACgII4AAAri\n",
              "CACgII4AAAriCACgII4AAAriCACgII4AAAriCACgII4AAAriCACgII4AAAriCACgII4AAAriCACg\n",
              "II4AAAriCACgII4AAAriCACgII4AAAriCACgII4AAAriCACg0KFx9Nprr+W4447LwIEDM2LEiLz8\n",
              "8sttjmltbc2kSZMyePDgDBo0KBdffHE2bdpUX7/lllsyePDgHHnkkTn33HOzdu3a+tqMGTMydOjQ\n",
              "DB48OKecckqWL1++XY+9PXMBAB9OHRpHEydOzIQJE7Jo0aJMnjw548aNa3PMtGnTMm/evMybNy+v\n",
              "vvpqunTpkqlTpyZJnnjiiUyfPj3PPvtsXnnllQwfPjzXXXddkmThwoW5+uqr8/jjj2fBggUZP358\n",
              "Lrvssu167O2ZCwD4cOqwOFq1alXmzp2bCy64IEkyZsyYNDc3Z/HixVsd9+KLL+bUU0/NXnvtlVqt\n",
              "ljPPPDMzZsyorx1//PHZf//9kySjRo2qry1YsCBDhgxJY2NjfW3OnDlZvXr1H33s7Z0LAPhw6rA4\n",
              "am5uTmNjYxoaGpIktVotffv23eqpryQZPnx4Zs+enfXr12fz5s156KGHsnTp0vrak08+mZUrV6aq\n",
              "qtx///3ZsGFD1qxZk6FDh2bevHlZtGhRkmTmzJmpqirLli37o4+9vXP9wcaNG7N+/fqtbmmpOmLL\n",
              "AIDdQKe/IHvcuHE544wzMnLkyIwcOTIDBw6sh8vJJ5+cSZMm5eyzz86xxx6bgw46KEnS0NCQAQMG\n",
              "5K677srYsWNzzDHHZPXq1enZs2f9c3eWm266KT169NjqtumNFTv1MQCA3UetqqoOuQyyatWq9O/f\n",
              "P2vWrElDQ0OqqkpjY2OeeeaZ9O/f/30/78EHH8ydd96Zp59+us3ac889l/POOy/Nzc1t1lauXJl+\n",
              "/fplzZo1+e1vf/u+j929e/d2zbVx48Zs3Lhxq/s+8pm/TM//99Qd2BXYcW+Ov7mzRwD4UOiwK0e9\n",
              "e/dOU1NTZs6cmSSZNWtW+vTp0yZA3nvvvbz99ttJkrfeeis333xzrrnmmvr6ihW/v0rzzjvv5IYb\n",
              "btjmWktLSyZPnpzLL7883bp1+6OPvb1z/cHee++d7t27b3VL19rO2CIAYDfUYVeOkuQXv/hFxo0b\n",
              "l9WrV6d79+6ZPn16jjrqqFxyySUZPXp0Ro8enV//+tc56aST0qVLl7S2tuaqq67KpZdeWv8aRx11\n",
              "VFpbW7Np06ZceOGFuf7661Or/T5OzjzzzCxbtiwbN27MWWedlVtuuSV77733H33sP7W2Pf7PX41I\n",
              "z8+fshN3Cv40V44Ado0OjaMPKnFEZxBHALtGp78gGwBgdyKOAAAK4ggAoCCOAAAK4ggAoCCOAAAK\n",
              "4ggAoCCOAAAK4ggAoCCOAAAK4ggAoCCOAAAK4ggAoCCOAAAK4ggAoCCOAAAK4ggAoCCOAAAK4ggA\n",
              "oCCOAAAK4ggAoCCOAAAK4ggAoCCOAAAK4ggAoNDQ2QPsiSZ8/ITcNv7mzh4DAOgArhwBABTEEQBA\n",
              "QRwBABTEEQBAQRwBABTEEQBAQRwBABTEEQBAQRwBABTEEQBAQRwBABTEEQBAQRwBABTEEQBAQRwB\n",
              "ABTEEQBAQRwBABTEEQBAQRwBABTEEQBAQRwBABTEEQBAQRwBABTEEQBAQRwBABTEEQBAQRwBABTE\n",
              "EQBAQRwBABTEEQBAoaGzB9jTbNy4MXPmzElLS0u6du3a2ePsUVpaWvL888/nE5/4hL1rJ3u3Y+zb\n",
              "jrN3O87e7biO3rtDDz00V1111Z88rlZVVbXTH/0DbP369enRo0fWrVuX7t27d/Y4exR7t+Ps3Y6x\n",
              "bzvO3u04e7fjdpe987QaAEBBHAEAFMQRAEBBHLXT3nvvnRtvvDF77713Z4+yx7F3O87e7Rj7tuPs\n",
              "3Y6zdztud9k7L8gGACi4cgQAUBBHAAAFcQQAUBBH7+O1117Lcccdl4EDB2bEiBF5+eWXt3nctGnT\n",
              "MmDAgBx++OH50pe+lM2bN+/iSXc/27N3//Ef/5F99903w4YNq9/efffdTph293HllVemX79+qdVq\n",
              "mT9//vse55xra3v2zjnX1nvvvZdPf/rTGThwYIYOHZrTTjstixcv3uaxjz76aAYNGpQBAwbkM5/5\n",
              "TNavX7+Lp929bO/eLV26NF27dt3qvFuyZEknTLx7Of300zNkyJAMGzYsJ5xwQl544YVtHtdpP+8q\n",
              "tunkk0+upk+fXlVVVf3rv/5rdcwxx7Q55vXXX68aGxurFStWVK2trdU555xTfec739nFk+5+tmfv\n",
              "nnrqqWro0KG7drDd3M9+9rOqubm5OvTQQ6sXXnhhm8c457Zte/bOOdfWu+++W/37v/971draWlVV\n",
              "Vd1xxx3VyJEj2xy3YcOGqnfv3tWrr75aVVVVXX755dWkSZN25ai7ne3duzfeeKPq0aPHrh1uD/D2\n",
              "22/X//3www9XQ4YMaXNMZ/68c+VoG1atWpW5c+fmggsuSJKMGTMmzc3Nbf6v4Ic//GFGjx6dP//z\n",
              "P0+tVsull16aBx54oDNG3m1s797R1oknnpg+ffr80WOcc9u2PXtHW/vss09GjRqVWq2WJDn22GOz\n",
              "dOnSNsfNmTMnRx99dAYNGpQk+Zu/+ZsP/Xm3vXvHtvXs2bP+73Xr1tX3sdSZP+/E0TY0NzensbEx\n",
              "DQ2//7u8tVotffv2zfLly7c6bvny5Tn00EPrH/fr16/NMR8227t3SbJkyZI0NTVlxIgR+e53v7ur\n",
              "R90jOef+7zjn/ripU6fmU5/6VJv7t3XerVixIlu2bNmV4+3W3m/vkuR3v/tdRowYkaampnz1q19N\n",
              "S0vLLp5u9zR27Ngccsghuf766zNjxow26535865hlzwK/C9NTU15880306NHj7z55psZNWpUDjzw\n",
              "wHzuc5/r7NH4gHLO/XFTpkzJ4sWL85Of/KSzR9nj/LG9a2xszC9/+cv07t07a9asyfnnn59bb701\n",
              "11xzTSdMunu57777kiT33ntvJk+enMcee6yTJ/r/uXK0DYcccshW/1dUVVWWL1+evn37bnVc3759\n",
              "s2zZsvrHS5cubXPMh8327l337t3To0ePJEmfPn3yhS98IU8//fQun3dP45zbcc659/ftb387Dz/8\n",
              "cObMmZNu3bq1Wd/WeVdeIf4w+1N7t/fee6d3795JkgMOOCAXXXSR8+5/+eu//us89dRTWb169Vb3\n",
              "d+bPO3G0Db17905TU1NmzpyZJJk1a1b69OmT/v37b3XcmDFjMnv27KxcuTJVVeWuu+7K5z//+c4Y\n",
              "ebexvXu3YsWKtLa2Jkk2bNiQRx99NEcfffQun3dP45zbcc65bbvtttvywAMP5IknntjqdSClM844\n",
              "I/PmzcvChQuTJN/97nedd9m+vVu1alX9HVYbN27Mww8//KE/79auXZtf/epX9Y9/9KMfpVevXjng\n",
              "gAO2Oq5Tf97tkpd974EWLlxYHXvssdWAAQOq4cOHVy+99FJVVVV18cUXV4888kj9uHvuuac67LDD\n",
              "qsMOO6y66KKLqk2bNnXWyLuN7dm7O+64ozryyCOrIUOGVEceeWR144031t/18WE1YcKE6i/+4i+q\n",
              "rl27Vr17964OP/zwqqqcc9tje/bOOddWc3NzlaQ67LDDqqFDh1ZDhw6tPvGJT1RVVVXXX3999b3v\n",
              "fa9+7COPPFIdccQR1eGHH1596lOfqtauXdtZY+8WtnfvZs2aVX384x+vn3dXXHFF9d5773Xm6J1u\n",
              "6dKl1YgRI6rBgwdXQ4YMqU455ZT6u0x3l593/rYaAEDB02oAAAVxBABQEEcAAAVxBABQEEcAAAVx\n",
              "BABQEEcAAAVxBABQEEcAAAVxBABQEEcAAIX/Dy/bAmAVHxndAAAAAElFTkSuQmCC\n",
              "\">\n",
              "      </div>\n",
              "      <script type=\"text/javascript\">\n",
              "        (() => {\n",
              "          const chartElement = document.getElementById(\"chart-f582644a-7d7e-4ae6-8ada-42f010ed0e92\");\n",
              "          async function getCodeForChartHandler(event) {\n",
              "            const chartCodeResponse =  await google.colab.kernel.invokeFunction(\n",
              "                'getCodeForChart', [\"chart-f582644a-7d7e-4ae6-8ada-42f010ed0e92\"], {});\n",
              "            const responseJson = chartCodeResponse.data['application/json'];\n",
              "            await google.colab.notebook.addCell(responseJson.code, 'code');\n",
              "          }\n",
              "          chartElement.onclick = getCodeForChartHandler;\n",
              "        })();\n",
              "      </script>\n",
              "      <style>\n",
              "        .colab-quickchart-chart-with-code  {\n",
              "            display: block;\n",
              "            float: left;\n",
              "            border: 1px solid transparent;\n",
              "        }\n",
              "\n",
              "        .colab-quickchart-chart-with-code:hover {\n",
              "            cursor: pointer;\n",
              "            border: 1px solid #aaa;\n",
              "        }\n",
              "      </style>"
            ]
          },
          "metadata": {}
        },
        {
          "output_type": "display_data",
          "data": {
            "text/plain": [
              "from matplotlib import pyplot as plt\n",
              "import seaborn as sns\n",
              "_df_1.groupby('recall').size().plot(kind='barh', color=sns.palettes.mpl_palette('Dark2'))\n",
              "plt.gca().spines[['top', 'right',]].set_visible(False)"
            ],
            "text/html": [
              "      <div class=\"colab-quickchart-chart-with-code\" id=\"chart-d538a9ec-5ec4-427d-9b36-f43221045ce5\">\n",
              "        <img style=\"width: 180px;\" src=\"data:image/png;base64,iVBORw0KGgoAAAANSUhEUgAAAkcAAAGZCAYAAACDn5U1AAAAOXRFWHRTb2Z0d2FyZQBNYXRwbG90\n",
              "bGliIHZlcnNpb24zLjcuMSwgaHR0cHM6Ly9tYXRwbG90bGliLm9yZy/bCgiHAAAACXBIWXMAAA9h\n",
              "AAAPYQGoP6dpAAAcUklEQVR4nO3df6zV9WH/8de53onVCVQq3e0QnAIye+UiSGOcFpzWKSqtOmu7\n",
              "IsNfqNPUdEOZMWq2OnR1alxrp00IVTC1briWuGKirVs002zmigaVIVbgWqFMLr9a5YL3fr5/ND17\n",
              "3+9Fey/1ckEfj+Qk3PN+3/N533c+uXnyOT9uraqqKgAAJEkaBnoBAAB7E3EEAFAQRwAABXEEAFAQ\n",
              "RwAABXEEAFAQRwAABXEEAFAQRwAABXG0G+6+++6BXgIA0E/E0W5Ys2bNQC8BAOgn4ggAoCCOAAAK\n",
              "4ggAoCCOAAAK4ggAoCCOAAAK4ggAoCCOAAAK4ggAoCCOAAAK4ggAoCCOAAAK4ggAoCCOAAAK4ggA\n",
              "oCCOAAAK4ggAoCCOAAAK4ggAoCCOAAAK4ggAoCCOAAAK4ggAoCCOAAAK4ggAoCCOAAAK4ggAoCCO\n",
              "AAAKtaqqqoFexL7muIlfyB9PuXSgl8FHzDfuOmuglwDwkeDKEQBAQRwBABTEEQBAQRwBABTEEQBA\n",
              "QRwBABTEEQBAQRwBABTEEQBAQRwBABTEEQBAQRwBABTEEQBAQRwBABTEEQBAQRwBABTEEQBAQRwB\n",
              "ABTEEQBAQRwBABTEEQBAQRwBABTEEQBAQRwBABTEEQBAQRwBABTEEQBAoV/j6NVXX80JJ5yQsWPH\n",
              "ZvLkyXnppZd6zOnq6sqcOXPS3NyccePG5ZJLLsmOHTvq47fffnuam5tz9NFH55xzzsnmzZvrYwsX\n",
              "LkxLS0uam5tzyimnZO3atUmSjRs3ZsKECfXb2LFj09jYmPb29iTJ1KlT8wd/8Af18bvuuqs/twEA\n",
              "2If0axxdfvnlmT17dlauXJm5c+dm1qxZPebMnz8/ra2taW1tzSuvvJKGhobcfffdSZLHH388CxYs\n",
              "yDPPPJOXX345kyZNyg033JAkWbFiRa699to89thjWb58eS666KJceeWVSZJhw4Zl2bJl9dvs2bNz\n",
              "xhln5JBDDqkf96677qqPf+1rX+vPbQAA9iH9FkcbNmzIc889lxkzZiRJzjvvvLS1tWXVqlXd5r3w\n",
              "wgs59dRTs//++6dWq+WMM87IwoUL62MnnnhiDj744CTJtGnT6mPLly/P+PHj09TUVB9bunRpNm7c\n",
              "2GMt8+fPzyWXXLJbP0dHR0e2bt3a7VZ1de3WYwEAe79+i6O2trY0NTWlsbExSVKr1TJy5Mj6U1+/\n",
              "NmnSpCxZsiRbt27Nzp078/DDD2f16tX1sSeeeCLr169PVVV58MEHs23btrS3t6elpSWtra1ZuXJl\n",
              "kmTRokWpqipr1qzp9vj/+Z//mU2bNuWss87qdv9f//Vf55hjjskFF1yQn/70p+/5c9x6660ZMmRI\n",
              "t9u6n6/8bbcHANhLDfgLsmfNmpXTTz89U6ZMyZQpU+qvD0qSk08+OXPmzMlZZ52V448/PoceemiS\n",
              "pLGxMWPGjMm9996bmTNn5rjjjsvGjRszdOjQ+vf+2vz58zNz5sxu9y9cuDArVqzIiy++mJNOOqlH\n",
              "OJWuv/76bNmypdut6ZNj+2EnAIC9Qa2qqqo/HnjDhg0ZPXp02tvb09jYmKqq0tTUlKeffjqjR49+\n",
              "z+976KGHcs899+Spp57qMfbss8/m/PPPT1tbW4+x9evX5/DDD097e3sOPPDAJMkvfvGLNDU15b//\n",
              "+78zbty49zzmAQcckJ/97GcZNmxYr3624yZ+IX885dJezYUPyjfueu+IB+CD029XjoYPH56JEydm\n",
              "0aJFSZLFixdnxIgRPcJo+/bt2bRpU5Lkrbfeym233ZbrrruuPr5u3bokydtvv52bbrppl2OdnZ2Z\n",
              "O3durrrqqnoYJcn3v//9tLS0dAujd999Nz//+c/rXy9evDif/OQnex1GAMCHW+NvnrL77rvvvsya\n",
              "NSvz5s3L4MGDs2DBgiTJpZdemunTp2f69OnZsmVLpk6dmoaGhnR1deWaa67J2WefXX+M0047LV1d\n",
              "XdmxY0cuvPDCXH311fWxiy++OGvWrElHR0fOPPPMzJs3r9vx58+fn8suu6zbfb+e29HRkYaGhnzi\n",
              "E5/IkiVL+nEXAIB9Sb89rfZh5mk1BoKn1QD2jAF/QTYAwN5EHAEAFMQRAEBBHAEAFMQRAEBBHAEA\n",
              "FMQRAEBBHAEAFMQRAEBBHAEAFMQRAEBBHAEAFMQRAEBBHAEAFMQRAEBBHAEAFMQRAEBBHAEAFMQR\n",
              "AEBBHAEAFMQRAEBBHAEAFMQRAEBBHAEAFMQRAEChcaAXsC/67NQj8o07zxroZQAA/cCVIwCAgjgC\n",
              "ACiIIwCAgjgCACiIIwCAgjgCACiIIwCAgjgCACiIIwCAgjgCACiIIwCAgjgCACiIIwCAgjgCACiI\n",
              "IwCAgjgCACiIIwCAgjgCACiIIwCAgjgCACiIIwCAgjgCACiIIwCAgjgCACiIIwCAgjgCACiIIwCA\n",
              "gjgCACiIIwCAgjgCACiIIwCAgjgCACiIIwCAgjgCACiIIwCAgjgCACiIIwCAgjgCACiIIwCAgjgC\n",
              "ACiIIwCAgjgCACiIIwCAgjgCACiIIwCAgjgCACiIIwCAgjgCACiIIwCAgjgCACiIIwCAgjgCACiI\n",
              "IwCAgjgCACiIIwCAgjgCACiIIwCAgjgCACiIIwCAgjgCACiIIwCAQq2qqmqgF7GvuejTtVw/WVcC\n",
              "wAdt7Hc7B3oJrhwBAJTEEQBAQRwBABTEEQBAQRwBABTEEQBAQRwBABTEEQBAQRwBABTEEQBAQRwB\n",
              "ABTEEQBAQRwBABTEEQBAQRwBABTEEQBAQRwBABQaezvxH//xH993/Ktf/epvvRgAgIHW6zh6/vnn\n",
              "33OsVqt9IIsBABhovY6jBQsW9Oc6AAD2Cr2OoyVLlrzv+PTp03/rxQAADLRex9Fdd931nmO1Wk0c\n",
              "AQAfCr2OoyeffLI/1wEAsFfodRyVdu7cmddffz3bt2+v3zd+/PgPbFEAAAOlz3H06KOP5rLLLsum\n",
              "TZty0EEHZdOmTRk1alRef/31/lgfAMAe1ecPgbzxxhvz7LPP5g//8A+zcePGPPDAA/nTP/3T/lgb\n",
              "AMAe1+c4amhoyKhRo/Luu+8mSWbMmJGf/OQnu5z76quv5oQTTsjYsWMzefLkvPTSSz3mdHV1Zc6c\n",
              "OWlubs64ceNyySWXZMeOHfXx22+/Pc3NzTn66KNzzjnnZPPmzfWxhQsXpqWlJc3NzTnllFOydu3a\n",
              "+thpp52W8ePHZ8KECTnppJO6fU7Tj370o0ycODETJkxIc3Nz7r///r5uAwDwIdXnOPqd3/mdJMmI\n",
              "ESPyr//6r3n++eezadOmXc69/PLLM3v27KxcuTJz587NrFmzesyZP39+Wltb09ramldeeSUNDQ25\n",
              "++67kySPP/54FixYkGeeeSYvv/xyJk2alBtuuCFJsmLFilx77bV57LHHsnz58lx00UW58sor64/7\n",
              "8MMP58UXX8yyZcvyl3/5l/VjV1WVGTNm5Lvf/W6WLVuWRx99NJdffnm2bdvW160AAD6E+hxH11xz\n",
              "TTZt2pRbbrkl1113XU477bR8/etf7zFvw4YNee655zJjxowkyXnnnZe2trasWrWq27wXXnghp556\n",
              "avbff//UarWcccYZWbhwYX3sxBNPzMEHH5wkmTZtWn1s+fLlGT9+fJqamupjS5cuzcaNG5MkQ4cO\n",
              "rR9jy5Yt3T7Fu1ar1a9Abd26NcOGDcugQYN2+fN2dHRk69at3W6dXX3dNQBgX9HnOPryl7+cj3/8\n",
              "45k0aVJeffXV/O///m++8pWv9JjX1taWpqamNDb+6jXftVotI0eO7PbUV5JMmjQpS5YsydatW7Nz\n",
              "5848/PDDWb16dX3siSeeyPr161NVVR588MFs27Yt7e3taWlpSWtra1auXJkkWbRoUaqqypo1a+qP\n",
              "PXPmzBx22GG58cYb61FVq9Xy/e9/P+eee25GjRqVE088Mffff3/233//Xf68t956a4YMGdLt9uJb\n",
              "fd01AGBf0ec4uvnmm+tXZ5Lkrbfeyt/8zd/s9gJmzZqV008/PVOmTMmUKVMyduzYelCdfPLJmTNn\n",
              "Ts4666wcf/zxOfTQQ5MkjY2NGTNmTO69997MnDkzxx13XDZu3JihQ4fWvzdJHnjggbS1teWWW27J\n",
              "3LlzkyTvvvtubrnlljzyyCNZs2ZNfvzjH+fCCy/MW2/tuniuv/76bNmypdtt/Cd2+8cFAPZytaqq\n",
              "qr58w4QJE7Js2bJu902cODGtra3d7tuwYUNGjx6d9vb2NDY2pqqqNDU15emnn87o0aPf8/Efeuih\n",
              "3HPPPXnqqad6jD377LM5//zz09bW1mNs/fr1Ofzww9Pe3p4DDzywx/jHPvaxvPHGG3n99dfzZ3/2\n",
              "Z/UrTkkyefLkzJs3L5/73Od+04+fJLno07VcP7nPXQkA/AZjv9s50Evo+5Wjrq6eL7gp3132a8OH\n",
              "D8/EiROzaNGiJMnixYszYsSIHmG0ffv2+gu633rrrdx222257rrr6uPr1q1Lkrz99tu56aabdjnW\n",
              "2dmZuXPn5qqrrsqBBx6YzZs3580336zP+8EPfpBhw4blkEMOyWGHHZZ169bllVdeSZKsWrUqr732\n",
              "Wo466qi+bgUA8CHU5w+BPOqoo/KNb3wjf/VXf5WqqnLHHXdk3Lhxu5x73333ZdasWZk3b14GDx6c\n",
              "BQsWJEkuvfTSTJ8+PdOnT8+WLVsyderUNDQ0pKurK9dcc03OPvvs+mOcdtpp6erqyo4dO3LhhRfm\n",
              "6quvro9dfPHFWbNmTTo6OnLmmWdm3rx5SX71Auzzzz8/77zzThoaGnLooYfm0UcfTa1Wyyc/+cl8\n",
              "5zvfyRe/+MX6Mb/1rW9l5MiRfd0KAOBDqM9Pq7355puZMWNGnn766dRqtXz2s5/NAw88UH/X2EeB\n",
              "p9UAoH/sDU+r9fnK0ac+9an85Cc/yS9/+cskyUEHHfSBLwoAYKD0+fLHu+++mzvuuCPXXnttDjro\n",
              "oLz22mvv+QnZAAD7mj5fObr66qvT2dmZp59+OkkybNiwXHDBBXnuuec+8MUBAOxpfY6jZ599NsuW\n",
              "Lcuxxx6b5FefRL1z584PfGEAAAOhz0+rHXDAAd2+7uzs3OXb+wEA9kV9jqPx48dn0aJF6erqyqpV\n",
              "q3LFFVdk6tSp/bA0AIA9r89xdOedd+app57K+vXr80d/9EdpaGjI3//93/fH2gAA9rg+veaos7Mz\n",
              "X//613Pfffflvvvu6681AQAMmD5dOdpvv/3y5JNP9tdaAAAGXJ+fVps2bVr+7u/+Lm+++Wa2bt1a\n",
              "vwEAfBj0+c+HNDT8X0/VarVUVZVarZbOzoH/uO89xZ8PAYD+sU/++RBv2wcAPsxc/gAAKIgjAICC\n",
              "OAIAKIgjAICCOAIAKIgjAICCOAIAKIgjAICCOAIAKIgjAICCOAIAKIgjAICCOAIAKDQO9AL2RR//\n",
              "k69l7J13DvQyAIB+4MoRAEBBHAEAFMQRAEBBHAEAFMQRAEBBHAEAFMQRAEBBHAEAFMQRAEBBHAEA\n",
              "FMQRAEBBHAEAFMQRAEBBHAEAFMQRAEBBHAEAFMQRAEBBHAEAFMQRAEBBHAEAFMQRAEBBHAEAFMQR\n",
              "AEBBHAEAFMQRAEBBHAEAFMQRAEBBHAEAFMQRAEBBHAEAFMQRAEBBHAEAFMQRAEBBHAEAFMQRAEBB\n",
              "HAEAFMQRAEBBHAEAFMQRAEBBHAEAFMQRAEBBHAEAFMQRAEBBHAEAFMQRAEBBHAEAFMQRAEBBHAEA\n",
              "FMQRAEBBHAEAFMQRAEBBHAEAFMQRAEBBHAEAFMQRAEBBHAEAFMQRAEBBHAEAFMQRAEBBHAEAFMQR\n",
              "AEChVlVVNdCL2Nf87p9MztAvnTLQy+Aj5o2LbhvoJQB8JLhyBABQEEcAAAVxBABQEEcAAAVxBABQ\n",
              "EEcAAAVxBABQEEcAAAVxBABQEEcAAAVxBABQEEcAAAVxBABQEEcAAAVxBABQEEcAAAVxBABQEEcA\n",
              "AAVxBABQEEcAAAVxBABQEEcAAAVxBABQEEcAAAVxBABQEEcAAIV+jaNXX301J5xwQsaOHZvJkyfn\n",
              "pZde6jGnq6src+bMSXNzc8aNG5dLLrkkO3bsqI/ffvvtaW5uztFHH51zzjknmzdvro8tXLgwLS0t\n",
              "aW5uzimnnJK1a9f26ti9WRcA8NHUr3F0+eWXZ/bs2Vm5cmXmzp2bWbNm9Zgzf/78tLa2prW1Na+8\n",
              "8koaGhpy9913J0kef/zxLFiwIM8880xefvnlTJo0KTfccEOSZMWKFbn22mvz2GOPZfny5bnoooty\n",
              "5ZVX9urYvVkXAPDR1G9xtGHDhjz33HOZMWNGkuS8885LW1tbVq1a1W3eCy+8kFNPPTX7779/arVa\n",
              "zjjjjCxcuLA+duKJJ+bggw9OkkybNq0+tnz58owfPz5NTU31saVLl2bjxo3ve+zergsA+Gjqtzhq\n",
              "a2tLU1NTGhsbkyS1Wi0jR47s9tRXkkyaNClLlizJ1q1bs3Pnzjz88MNZvXp1feyJJ57I+vXrU1VV\n",
              "HnzwwWzbti3t7e1paWlJa2trVq5cmSRZtGhRqqrKmjVr3vfYvV3Xr3V0dGTr1q3dbums+mPLAIC9\n",
              "wIC/IHvWrFk5/fTTM2XKlEyZMiVjx46th8vJJ5+cOXPm5Kyzzsrxxx+fQw89NEnS2NiYMWPG5N57\n",
              "783MmTNz3HHHZePGjRk6dGj9ez8ot956a4YMGdLttuP1dR/oMQCAvUetqqp+uQyyYcOGjB49Ou3t\n",
              "7WlsbExVVWlqasrTTz+d0aNHv+f3PfTQQ7nnnnvy1FNP9Rh79tlnc/7556etra3H2Pr163P44Yen\n",
              "vb09v/jFL97z2IMHD+7Tujo6OtLR0dHtvk+d+8cZ+pVTd2NXYPe9cdFtA70EgI+EfrtyNHz48Eyc\n",
              "ODGLFi1KkixevDgjRozoESDbt2/Ppk2bkiRvvfVWbrvttlx33XX18XXrfnWV5u23385NN920y7HO\n",
              "zs7MnTs3V111VQ488MD3PXZv1/VrgwYNyuDBg7vdsl/tg9giAGAv1G9XjpLkf/7nfzJr1qxs3Lgx\n",
              "gwcPzoIFC3LMMcfk0ksvzfTp0zN9+vT8/Oc/z9SpU9PQ0JCurq5cc801ueKKK+qPccwxx6Srqys7\n",
              "duzIhRdemBtvvDG12q/i5IwzzsiaNWvS0dGRM888M7fffnsGDRr0vsf+TWO98bt/MjlDv3TKB7hT\n",
              "8Ju5cgSwZ/RrHH1YiSMGgjgC2DMG/AXZAAB7E3EEAFAQRwAABXEEAFAQRwAABXEEAFAQRwAABXEE\n",
              "AFAQRwAABXEEAFAQRwAABXEEAFAQRwAABXEEAFAQRwAABXEEAFAQRwAABXEEAFAQRwAABXEEAFAQ\n",
              "RwAABXEEAFAQRwAABXEEAFAQRwAAhcaBXsC+aPanT8qdF9020MsAAPqBK0cAAAVxBABQEEcAAAVx\n",
              "BABQEEcAAAVxBABQEEcAAAVxBABQEEcAAAVxBABQEEcAAAVxBABQEEcAAAVxBABQEEcAAAVxBABQ\n",
              "EEcAAAVxBABQEEcAAAVxBABQEEcAAAVxBABQEEcAAAVxBABQEEcAAAVxBABQEEcAAAVxBABQEEcA\n",
              "AAVxBABQaBzoBexrOjo6snTp0nR2dma//fYb6OXsUzo7O/Nf//Vf+cxnPmPv+sje7R77tvvs3e6z\n",
              "d7uvv/du1KhRueaaa37jvFpVVdUHfvQPsa1bt2bIkCHZsmVLBg8ePNDL2afYu91n73aPfdt99m73\n",
              "2bvdt7fsnafVAAAK4ggAoCCOAAAK4qiPBg0alJtvvjmDBg0a6KXsc+zd7rN3u8e+7T57t/vs3e7b\n",
              "W/bOC7IBAAquHAEAFMQRAEBBHAEAFMTRe3j11VdzwgknZOzYsZk8eXJeeumlXc6bP39+xowZkyOP\n",
              "PDKXXXZZdu7cuYdXuvfpzd79+7//ez72sY9lwoQJ9ds777wzAKvde3z1q1/N4YcfnlqtlmXLlr3n\n",
              "POdcT73ZO+dcT9u3b88XvvCFjB07Ni0tLfnc5z6XVatW7XLuo48+mnHjxmXMmDE599xzs3Xr1j28\n",
              "2r1Lb/du9erV2W+//bqdd6+99toArHjvctppp2X8+PGZMGFCTjrppDz//PO7nDdgv+8qdunkk0+u\n",
              "FixYUFVVVf3zP/9zddxxx/WY89Of/rRqamqq1q1bV3V1dVVnn3129a1vfWsPr3Tv05u9e/LJJ6uW\n",
              "lpY9u7C93H/8x39UbW1t1ahRo6rnn39+l3Occ7vWm71zzvX0zjvvVP/2b/9WdXV1VVVVVd/85jer\n",
              "KVOm9Ji3bdu2avjw4dUrr7xSVVVVXXXVVdWcOXP25FL3Or3du9dff70aMmTInl3cPmDTpk31fz/y\n",
              "yCPV+PHje8wZyN93rhztwoYNG/Lcc89lxowZSZLzzjsvbW1tPf5X8C//8i+ZPn16fu/3fi+1Wi1X\n",
              "XHFFvve97w3Ekvcavd07evrsZz+bESNGvO8c59yu9Wbv6OmAAw7ItGnTUqvVkiTHH398Vq9e3WPe\n",
              "0qVLc+yxx2bcuHFJkr/4i7/4yJ93vd07dm3o0KH1f2/ZsqW+j6WB/H0njnahra0tTU1NaWz81d/l\n",
              "rdVqGTlyZNauXdtt3tq1azNq1Kj614cffniPOR81vd27JHnttdcyceLETJ48Od/+9rf39FL3Sc65\n",
              "345z7v3dfffd+fznP9/j/l2dd+vWrcu77767J5e3V3uvvUuSX/7yl5k8eXImTpyYv/3bv01nZ+ce\n",
              "Xt3eaebMmTnssMNy4403ZuHChT3GB/L3XeMeOQr8fyZOnJg33ngjQ4YMyRtvvJFp06blE5/4RL74\n",
              "xS8O9NL4kHLOvb958+Zl1apV+fGPfzzQS9nnvN/eNTU15Wc/+1mGDx+e9vb2XHDBBbnjjjty3XXX\n",
              "DcBK9y4PPPBAkuT+++/P3Llz86Mf/WiAV/R/XDnahcMOO6zb/4qqqsratWszcuTIbvNGjhyZNWvW\n",
              "1L9evXp1jzkfNb3du8GDB2fIkCFJkhEjRuTLX/5ynnrqqT2+3n2Nc273Oefe2z/8wz/kkUceydKl\n",
              "S3PggQf2GN/VeVdeIf4o+017N2jQoAwfPjxJcsghh+Tiiy923v1//vzP/zxPPvlkNm7c2O3+gfx9\n",
              "J452Yfjw4Zk4cWIWLVqUJFm8eHFGjBiR0aNHd5t33nnnZcmSJVm/fn2qqsq9996bL33pSwOx5L1G\n",
              "b/du3bp16erqSpJs27Ytjz76aI499tg9vt59jXNu9znndu3OO+/M9773vTz++OPdXgdSOv3009Pa\n",
              "2poVK1YkSb797W8779K7vduwYUP9HVYdHR155JFHPvLn3ebNm/Pmm2/Wv/7BD36QYcOG5ZBDDuk2\n",
              "b0B/3+2Rl33vg1asWFEdf/zx1ZgxY6pJkyZVL774YlVVVXXJJZdUP/zhD+vzvvOd71RHHHFEdcQR\n",
              "R1QXX3xxtWPHjoFa8l6jN3v3zW9+szr66KOr8ePHV0cffXR1880319/18VE1e/bs6vd///er/fbb\n",
              "rxo+fHh15JFHVlXlnOuN3uydc66ntra2Kkl1xBFHVC0tLVVLS0v1mc98pqqqqrrxxhurf/qnf6rP\n",
              "/eEPf1gdddRR1ZFHHll9/vOfrzZv3jxQy94r9HbvFi9eXH3605+un3dXX311tX379oFc+oBbvXp1\n",
              "NXny5Kq5ubkaP358dcopp9TfZbq3/L7zt9UAAAqeVgMAKIgjAICCOAIAKIgjAICCOAIAKIgjAICC\n",
              "OAIAKIgjAICCOAIAKIgjAICCOAIAKPw/jBpx2XB6DGUAAAAASUVORK5CYII=\n",
              "\">\n",
              "      </div>\n",
              "      <script type=\"text/javascript\">\n",
              "        (() => {\n",
              "          const chartElement = document.getElementById(\"chart-d538a9ec-5ec4-427d-9b36-f43221045ce5\");\n",
              "          async function getCodeForChartHandler(event) {\n",
              "            const chartCodeResponse =  await google.colab.kernel.invokeFunction(\n",
              "                'getCodeForChart', [\"chart-d538a9ec-5ec4-427d-9b36-f43221045ce5\"], {});\n",
              "            const responseJson = chartCodeResponse.data['application/json'];\n",
              "            await google.colab.notebook.addCell(responseJson.code, 'code');\n",
              "          }\n",
              "          chartElement.onclick = getCodeForChartHandler;\n",
              "        })();\n",
              "      </script>\n",
              "      <style>\n",
              "        .colab-quickchart-chart-with-code  {\n",
              "            display: block;\n",
              "            float: left;\n",
              "            border: 1px solid transparent;\n",
              "        }\n",
              "\n",
              "        .colab-quickchart-chart-with-code:hover {\n",
              "            cursor: pointer;\n",
              "            border: 1px solid #aaa;\n",
              "        }\n",
              "      </style>"
            ]
          },
          "metadata": {}
        },
        {
          "output_type": "display_data",
          "data": {
            "text/plain": [
              "from matplotlib import pyplot as plt\n",
              "import seaborn as sns\n",
              "_df_2.groupby('f1-score').size().plot(kind='barh', color=sns.palettes.mpl_palette('Dark2'))\n",
              "plt.gca().spines[['top', 'right',]].set_visible(False)"
            ],
            "text/html": [
              "      <div class=\"colab-quickchart-chart-with-code\" id=\"chart-97c2d22f-a723-4cd6-bab9-40861e23e47a\">\n",
              "        <img style=\"width: 180px;\" src=\"data:image/png;base64,iVBORw0KGgoAAAANSUhEUgAAAkcAAAGZCAYAAACDn5U1AAAAOXRFWHRTb2Z0d2FyZQBNYXRwbG90\n",
              "bGliIHZlcnNpb24zLjcuMSwgaHR0cHM6Ly9tYXRwbG90bGliLm9yZy/bCgiHAAAACXBIWXMAAA9h\n",
              "AAAPYQGoP6dpAAAaKklEQVR4nO3df6yW9X3/8deBM1FSgcJkOy2/qkCJnnCOIB0jMLQqE0S0Ortu\n",
              "EwRtcZ2m5uuobOlXTRaDLm5dSH+MNiGo0LS6yqyjYmKN3TRtsxlEotUoKnCohxI58qMTDsq5vn80\n",
              "u78fdrA7h3G4AR+P5E64z+c657zPJ1cOT677OpyGqqqqAACQJOlX7wEAAE4k4ggAoCCOAAAK4ggA\n",
              "oCCOAAAK4ggAoCCOAAAK4ggAoCCOAAAK4ugoLF++vN4jAAB9RBwdha1bt9Z7BACgj4gjAICCOAIA\n",
              "KIgjAICCOAIAKIgjAICCOAIAKIgjAICCOAIAKIgjAICCOAIAKIgjAICCOAIAKIgjAICCOAIAKIgj\n",
              "AICCOAIAKIgjAICCOAIAKIgjAICCOAIAKIgjAICCOAIAKIgjAICCOAIAKIgjAICCOAIAKIgjAICC\n",
              "OAIAKIgjAICCOAIAKIgjAICCOAIAKIgjAICCOAIAKIgjAICCOAIAKIgjAICCOAIAKIgjAICCOAIA\n",
              "KIgjAICCOAIAKIgjAICCOAIAKDRUVVXVe4iTzaLzGvLXU3QlcGobf/+heo8AdeFveACAgjgCACiI\n",
              "IwCAgjgCACiIIwCAgjgCACiIIwCAgjgCACiIIwCAgjgCACiIIwCAgjgCACiIIwCAgjgCACiIIwCA\n",
              "gjgCACiIIwCAgjgCACiIIwCAgjgCACiIIwCAgjgCACiIIwCAgjgCACiIIwCAgjgCACiIIwCAgjgC\n",
              "ACiIIwCAgjgCACiIIwCAgjgCACiIIwCAgjgCACiIIwCAgjgCACiIIwCAgjgCACiIIwCAgjgCACiI\n",
              "IwCAQp/G0WuvvZZp06Zl/PjxmTJlSl566aVux3R1dWXJkiVpbm7OhAkTcuONN+bgwYO19fvuuy/N\n",
              "zc0599xz85nPfCa7d++ura1evTotLS1pbm7OxRdfnG3bttXWZs2alYkTJ6a1tTUzZszI888/X1t7\n",
              "/PHHM2nSpLS2tqa5uTkPPPBA32wAAHDS6dM4uummm7J48eK8+uqrWbp0aRYuXNjtmJUrV2bDhg3Z\n",
              "sGFDXn755fTr1y/Lly9Pkjz55JNZtWpVfvrTn+bnP/95Jk+enK985StJkldeeSVf/vKX88QTT+TF\n",
              "F1/MokWL8sUvfrH2cR9++OFs2rQpGzduzG233Vb73FVV5brrrsv999+fjRs3Zt26dbnpppuyb9++\n",
              "vtwKAOAk0WdxtHPnzjz33HO57rrrkiTXXHNN2trasnnz5sOOe+GFF3LJJZfktNNOS0NDQ2bPnp3V\n",
              "q1fX1qZPn54zzzwzSTJnzpza2osvvpiJEyemqamptrZ+/frs2rUrSTJkyJDa59izZ08aGhpqzxsa\n",
              "GmpXoPbu3Zthw4ZlwIABx34TAICTTp/FUVtbW5qamtLY2Jjk10EyatSow176SpLJkyfnsccey969\n",
              "e/Pee+/l4YcfzpYtW2prP/rRj7Jjx45UVZXvfOc72bdvXzo6OtLS0pINGzbk1VdfTZKsWbMmVVVl\n",
              "69attY+9YMGCjBw5MnfccUctqhoaGvLQQw/l6quvzujRozN9+vQ88MADOe200474dXR2dmbv3r2H\n",
              "PQ51HevdAgBOFHW/IXvhwoW57LLLMnPmzMycOTPjx4+vBdVFF12UJUuWZO7cuZk6dWrOOuusJElj\n",
              "Y2PGjRuXFStWZMGCBbnggguya9euDBkypPa+SfLggw+mra0td999d5YuXZokef/993P33Xdn7dq1\n",
              "2bp1a5566qnMnz8/b7/99hHnu+eeezJ48ODDHpuOfCgAcApoqKqq6osPvHPnzowdOzYdHR1pbGxM\n",
              "VVVpamrKs88+m7Fjx37g+33ve9/LN77xjTzzzDPd1n72s5/l2muvTVtbW7e1HTt2ZMyYMeno6MjA\n",
              "gQO7rZ9xxhnZvn173nzzzfzpn/5p7YpTkkyZMiXLli3LpZde2u39Ojs709nZedjbbvm9wfm/v1f3\n",
              "rgToU+PvP1TvEaAu+uxv+OHDh2fSpElZs2ZNkuSRRx7JiBEjuoXRgQMH8s477yRJ3n777dx77725\n",
              "/fbba+vt7e1JknfffTd33nnnEdcOHTqUpUuX5uabb87AgQOze/fuvPXWW7XjHn300QwbNixDhw7N\n",
              "yJEj097enpdffjlJsnnz5rz++uv55Cc/ecSvY8CAARk0aNBhj/66CABOWY3/8yFH71vf+lYWLlyY\n",
              "ZcuWZdCgQVm1alWS5POf/3zmzZuXefPmZc+ePbnwwgvTr1+/dHV15dZbb80VV1xR+xizZs1KV1dX\n",
              "Dh48mPnz5+eWW26prd1www3ZunVrOjs7c/nll2fZsmVJfn0D9rXXXpv9+/enX79+Oeuss7Ju3bo0\n",
              "NDTkd37nd/Ltb387n/3sZ2uf8+tf/3pGjRrVl1sBAJwk+uxltVPZovMa8tdTXD4CTm1eVuPDyt/w\n",
              "AAAFcQQAUBBHAAAFcQQAUBBHAAAFcQQAUBBHAAAFcQQAUBBHAAAFcQQAUBBHAAAFcQQAUBBHAAAF\n",
              "cQQAUBBHAAAFcQQAUBBHAAAFcQQAUBBHAAAFcQQAUBBHAAAFcQQAUBBHAAAFcQQAUBBHAAAFcQQA\n",
              "UBBHAAAFcQQAUBBHAAAFcQQAUBBHAAAFcQQAUBBHAAAFcQQAUBBHAAAFcQQAUBBHAAAFcQQAUBBH\n",
              "AAAFcQQAUBBHAACFxnoPcDL66B/+n4z/6lfrPQYA0AdcOQIAKIgjAICCOAIAKIgjAICCOAIAKIgj\n",
              "AICCOAIAKIgjAICCOAIAKIgjAICCOAIAKIgjAICCOAIAKIgjAICCOAIAKIgjAICCOAIAKIgjAICC\n",
              "OAIAKIgjAICCOAIAKIgjAICCOAIAKIgjAICCOAIAKPQ6jtrb2/PjH/84SfL+++/n4MGDx3omAIC6\n",
              "6VUcff/738/UqVOzcOHCJMlLL72Uq666qg/GAgCoj17F0T333JMNGzbkox/9aJKkpaUlW7du7ZPB\n",
              "AADqoVdx1L9//wwbNuywt5122mnHdCAAgHrqVRydeeaZ+eUvf5mGhoYkyVNPPZWhQ4f2yWAAAPXQ\n",
              "2JuD//Zv/zazZ8/OG2+8kenTp+fNN9/MD3/4w76aDQDguOtxHHV1deXQoUN5+umn85Of/CRVVWXa\n",
              "tGkZMmRIH44HAHB89TiO+vXrl8WLF+eFF17I7Nmz+3ImAIC66dU9R+PGjcvmzZv7ahYAgLrr1T1H\n",
              "HR0daW1tzbRp0/KRj3yk9va1a9ce88EAAOqhV3F0/fXX5/rrr++rWQAA6q7XcZQkVVUlSe1H+gEA\n",
              "ThW9uueovb09c+bMycCBAzNw4MDMnTs37e3tfTUbAMBx16s4Wrx4caZPn5729va0t7dn+vTpWbx4\n",
              "cV/NBgBw3PXqZbW2trb8y7/8S+35X/3VX6W1tfVYzwQAUDe9unJUVVV27NhRe75jx47a/UcAAKeC\n",
              "Xl05WrJkSc4///zafwL5xBNP5L777uuTwQAA6qFXcTR//vxMmjQpTz/9dJLkL//yL3Peeef1yWAA\n",
              "APXQqzjatm1bzjnnnFoQ7d+/P21tbRk5cmSfDAcAcLz16p6jP/qjP+rR2wAATla9iqODBw/m9NNP\n",
              "rz0/44wz0tnZecyHAgCol17FUUNDQ3bu3Fl77qfVAIBTTa/uOfrSl76U3//938/8+fOTJGvWrMld\n",
              "d93VJ4MBANRDr+Jo0aJF+cQnPpHHH388SbJq1arMmDGjTwYDAKiHXsVRklx44YW58MILs2fPnrS1\n",
              "tfXFTAAAddOre44uu+yy7N69O7/61a/S0tKSuXPn5s477+yr2QAAjrtexdEvf/nLDBkyJI8//niu\n",
              "vPLKvPbaa/nnf/7nvpoNAOC461Ucvffee0mSf/u3f8ull16a3/qt30pjY69fmQMAOGH1Ko6am5sz\n",
              "e/bsrFu3Lp/+9Kfz7rvv9tVcAAB10avLPvfff3+eeOKJtLS0ZODAgfnFL36Re+65p69mAwA47noV\n",
              "R6effnquuuqqJMkDDzyQ66+/Ph//+Mf7Yi4AgLro1ctqpeXLlx/LOQAATghHHUd+bQgAcCo66ji6\n",
              "7bbbjuUcAAAnhKOOo//6/WoAAKeSo46j/zJ+/PhjMQcAwAmhRz+ttmnTpg9c27dv3zEbBgCg3noU\n",
              "R62trRkzZswRb8LetWvXMR8KAKBeehRHo0ePzrPPPpuPfexj3dZGjhx5zIcCAKiXHt1z9IlPfCJv\n",
              "vPHGEdcuv/zyYzoQAEA99SiOdu/enenTp2f69Ond1lasWHHMhwIAqJcevax24MCBPPTQQ2lvb89j\n",
              "jz3WbX3evHnHfDAAgHroURzde++9WbFiRXbu3Jl/+Id/OGytoaFBHAEAp4wexdG8efMyb9683Hrr\n",
              "rX6nGgBwSuvVfwIpjACAU93/+n/IBgA4lYgjAICCOAIAKIgjAICCOAIAKIgjAICCOAIAKIgjAICC\n",
              "OAIAKIgjAICCOAIAKIgjAICCOAIAKIgjAICCOAIAKIgjAICCOAIAKIgjAICCOAIAKIgjAICCOAIA\n",
              "KIgjAIBCQ1VVVb2HONl85A+nZMjnLq73GABwytm+6N56j+DKEQBASRwBABTEEQBAQRwBABTEEQBA\n",
              "QRwBABTEEQBAQRwBABTEEQBAQRwBABTEEQBAQRwBABTEEQBAQRwBABTEEQBAQRwBABTEEQBAQRwB\n",
              "ABTEEQBAQRwBABTEEQBAQRwBABTEEQBAQRwBABTEEQBAQRwBABTEEQBAQRwBABTEEQBAQRwBABTE\n",
              "EQBAQRwBABTEEQBAQRwBABTEEQBAQRwBABTEEQBAQRwBABTEEQBAQRwBABTEEQBAoU/j6LXXXsu0\n",
              "adMyfvz4TJkyJS+99FK3Y7q6urJkyZI0NzdnwoQJufHGG3Pw4MHa+n333Zfm5uace+65+cxnPpPd\n",
              "u3fX1lavXp2WlpY0Nzfn4osvzrZt22prs2bNysSJE9Pa2poZM2bk+eefT5Ls2rUrra2ttcf48ePT\n",
              "2NiYjo6OvtsIAOCk0adxdNNNN2Xx4sV59dVXs3Tp0ixcuLDbMStXrsyGDRuyYcOGvPzyy+nXr1+W\n",
              "L1+eJHnyySezatWq/PSnP83Pf/7zTJ48OV/5yleSJK+88kq+/OUv54knnsiLL76YRYsW5Ytf/GLt\n",
              "4z788MPZtGlTNm7cmNtuu632uYcNG5aNGzfWHosXL87s2bMzdOjQvtwKAOAk0WdxtHPnzjz33HO5\n",
              "7rrrkiTXXHNN2trasnnz5sOOe+GFF3LJJZfktNNOS0NDQ2bPnp3Vq1fX1qZPn54zzzwzSTJnzpza\n",
              "2osvvpiJEyemqamptrZ+/frs2rUrSTJkyJDa59izZ08aGhqOOOfKlStz4403HrsvHAA4qfVZHLW1\n",
              "taWpqSmNjY1JkoaGhowaNeqwl76SZPLkyXnssceyd+/evPfee3n44YezZcuW2tqPfvSj7NixI1VV\n",
              "5Tvf+U727duXjo6OtLS0ZMOGDXn11VeTJGvWrElVVdm6dWvtYy9YsCAjR47MHXfcUYuq0k9+8pO8\n",
              "8847mTt37gd+HZ2dndm7d+9hjxyq/rfbAwCcoOp+Q/bChQtz2WWXZebMmZk5c2btHqAkueiii7Jk\n",
              "yZLMnTs3U6dOzVlnnZUkaWxszLhx47JixYosWLAgF1xwQXbt2pUhQ4bU3jdJHnzwwbS1teXuu+/O\n",
              "0qVLu33ulStXZsGCBYe9z393zz33ZPDgwYc9Dr7Zfox3AQA4UTRUVdUnl0F27tyZsWPHpqOjI42N\n",
              "jamqKk1NTXn22WczduzYD3y/733ve/nGN76RZ555ptvaz372s1x77bVpa2vrtrZjx46MGTMmHR0d\n",
              "GThwYLf1M844I9u3b8+wYcOSJL/61a/S1NSU//iP/8iECRM+cJ7Ozs50dnYe9raPXf3pDPmzSz7w\n",
              "fQCAo7N90b31HqHvrhwNHz48kyZNypo1a5IkjzzySEaMGNEtjA4cOJB33nknSfL222/n3nvvze23\n",
              "315bb2//9VWad999N3feeecR1w4dOpSlS5fm5ptvzsCBA7N79+689dZbteMeffTRDBs27LCbrh96\n",
              "6KG0tLT8xjBKkgEDBmTQoEGHPdL/yPcvAQAnvw9+PekY+Na3vpWFCxdm2bJlGTRoUFatWpUk+fzn\n",
              "P5958+Zl3rx52bNnTy688ML069cvXV1dufXWW3PFFVfUPsasWbPS1dWVgwcPZv78+bnllltqazfc\n",
              "cEO2bt2azs7OXH755Vm2bFmSX9+Afe2112b//v3p169fzjrrrKxbt+6wm7JXrlyZL3zhC3355QMA\n",
              "J6E+e1ntVPaRP5ySIZ+7uN5jAMAp55R+WQ0A4GQkjgAACuIIAKAgjgAACuIIAKAgjgAACuIIAKAg\n",
              "jgAACuIIAKAgjgAACuIIAKAgjgAACuIIAKAgjgAACuIIAKAgjgAACuIIAKAgjgAACuIIAKAgjgAA\n",
              "CuIIAKAgjgAACuIIAKAgjgAACuIIAKAgjgAACuIIAKAgjgAACuIIAKAgjgAACuIIAKAgjgAACuII\n",
              "AKAgjgAACuIIAKAgjgAACuIIAKAgjgAACuIIAKAgjgAACuIIAKDQWO8BTkaLz5uRry66t95jAAB9\n",
              "wJUjAICCOAIAKIgjAICCOAIAKIgjAICCOAIAKIgjAICCOAIAKIgjAICCOAIAKIgjAICCOAIAKIgj\n",
              "AICCOAIAKIgjAICCOAIAKIgjAICCOAIAKIgjAICCOAIAKIgjAICCOAIAKIgjAICCOAIAKIgjAICC\n",
              "OAIAKIgjAICCOAIAKIgjAICCOAIAKIgjAICCOAIAKIgjAICCOAIAKIgjAICCOAIAKIgjAICCOAIA\n",
              "KIgjAICCOAIAKIgjAICCOAIAKIgjAICCOAIAKIgjAIBCY70HONl0dnZm/fr1OXToUPr371/vcU4q\n",
              "hw4dyr//+7/nU5/6lL3rJXt3dOzb0bN3R8/eHb2+3rvRo0fn1ltv/R+Pa6iqqjrmn/0Utnfv3gwe\n",
              "PDh79uzJoEGD6j3OScXeHT17d3Ts29Gzd0fP3h29E2XvvKwGAFAQRwAABXEEAFAQR700YMCA3HXX\n",
              "XRkwYEC9Rznp2LujZ++Ojn07evbu6Nm7o3ei7J0bsgEACq4cAQAUxBEAQEEcAQAUxNEHeO211zJt\n",
              "2rSMHz8+U6ZMyUsvvXTE41auXJlx48blnHPOyRe+8IW89957x3nSE09P9u7HP/5xzjjjjLS2ttYe\n",
              "+/fvr8O0J44vfelLGTNmTBoaGrJx48YPPM45111P9s45192BAwdy1VVXZfz48Wlpacmll16azZs3\n",
              "H/HYdevWZcKECRk3blyuvvrq7N279zhPe2Lp6d5t2bIl/fv3P+y8e/311+sw8Yll1qxZmThxYlpb\n",
              "WzNjxow8//zzRzyubt/vKo7ooosuqlatWlVVVVX90z/9U3XBBRd0O+aNN96ompqaqvb29qqrq6u6\n",
              "4oorqq9//evHedITT0/27umnn65aWlqO72AnuH/913+t2traqtGjR1fPP//8EY9xzh1ZT/bOOdfd\n",
              "/v37qx/+8IdVV1dXVVVV9bWvfa2aOXNmt+P27dtXDR8+vHr55Zerqqqqm2++uVqyZMnxHPWE09O9\n",
              "e/PNN6vBgwcf3+FOAu+8807tz2vXrq0mTpzY7Zh6fr9z5egIdu7cmeeeey7XXXddkuSaa65JW1tb\n",
              "t38VfP/738+8efPyu7/7u2loaMif//mf57vf/W49Rj5h9HTv6O4P/uAPMmLEiN94jHPuyHqyd3R3\n",
              "+umnZ86cOWloaEiSTJ06NVu2bOl23Pr163P++ednwoQJSZK/+Iu/+NCfdz3dO45syJAhtT/v2bOn\n",
              "to+len6/E0dH0NbWlqampjQ2/vr38jY0NGTUqFHZtm3bYcdt27Yto0ePrj0fM2ZMt2M+bHq6d0ny\n",
              "+uuvZ9KkSZkyZUq++c1vHu9RT0rOuf8d59xvtnz58lx55ZXd3n6k8669vT3vv//+8RzvhPZBe5ck\n",
              "//mf/5kpU6Zk0qRJ+Zu/+ZscOnToOE93YlqwYEFGjhyZO+64I6tXr+62Xs/vd43H5bPAfzNp0qRs\n",
              "3749gwcPzvbt2zNnzpz89m//dj772c/WezROUc6532zZsmXZvHlznnrqqXqPctL5TXvX1NSUX/zi\n",
              "Fxk+fHg6Ojryx3/8x/n7v//73H777XWY9MTy4IMPJkkeeOCBLF26NI8//nidJ/r/XDk6gpEjRx72\n",
              "r6KqqrJt27aMGjXqsONGjRqVrVu31p5v2bKl2zEfNj3du0GDBmXw4MFJkhEjRuRP/uRP8swzzxz3\n",
              "eU82zrmj55z7YH/3d3+XtWvXZv369Rk4cGC39SOdd+UV4g+z/2nvBgwYkOHDhydJhg4dmhtuuMF5\n",
              "999cf/31efrpp7Nr167D3l7P73fi6AiGDx+eSZMmZc2aNUmSRx55JCNGjMjYsWMPO+6aa67JY489\n",
              "lh07dqSqqqxYsSKf+9zn6jHyCaOne9fe3p6urq4kyb59+7Ju3bqcf/75x33ek41z7ug5547sq1/9\n",
              "ar773e/mySefPOw+kNJll12WDRs25JVXXkmSfPOb33TepWd7t3PnztpPWHV2dmbt2rUf+vNu9+7d\n",
              "eeutt2rPH3300QwbNixDhw497Li6fr87Lrd9n4ReeeWVaurUqdW4ceOqyZMnV5s2baqqqqpuvPHG\n",
              "6gc/+EHtuG9/+9vV2WefXZ199tnVDTfcUB08eLBeI58werJ3X/va16pzzz23mjhxYnXuuedWd911\n",
              "V+2nPj6sFi9eXH384x+v+vfvXw0fPrw655xzqqpyzvVET/bOOdddW1tblaQ6++yzq5aWlqqlpaX6\n",
              "1Kc+VVVVVd1xxx3VP/7jP9aO/cEPflB98pOfrM4555zqyiuvrHbv3l2vsU8IPd27Rx55pDrvvPNq\n",
              "590tt9xSHThwoJ6j192WLVuqKVOmVM3NzdXEiROriy++uPZTpifK9zu/Ww0AoOBlNQCAgjgCACiI\n",
              "IwCAgjgCACiIIwCAgjgCACiIIwCAgjgCACiIIwCAgjgCACiIIwCAwv8D2yLnlJefN6EAAAAASUVO\n",
              "RK5CYII=\n",
              "\">\n",
              "      </div>\n",
              "      <script type=\"text/javascript\">\n",
              "        (() => {\n",
              "          const chartElement = document.getElementById(\"chart-97c2d22f-a723-4cd6-bab9-40861e23e47a\");\n",
              "          async function getCodeForChartHandler(event) {\n",
              "            const chartCodeResponse =  await google.colab.kernel.invokeFunction(\n",
              "                'getCodeForChart', [\"chart-97c2d22f-a723-4cd6-bab9-40861e23e47a\"], {});\n",
              "            const responseJson = chartCodeResponse.data['application/json'];\n",
              "            await google.colab.notebook.addCell(responseJson.code, 'code');\n",
              "          }\n",
              "          chartElement.onclick = getCodeForChartHandler;\n",
              "        })();\n",
              "      </script>\n",
              "      <style>\n",
              "        .colab-quickchart-chart-with-code  {\n",
              "            display: block;\n",
              "            float: left;\n",
              "            border: 1px solid transparent;\n",
              "        }\n",
              "\n",
              "        .colab-quickchart-chart-with-code:hover {\n",
              "            cursor: pointer;\n",
              "            border: 1px solid #aaa;\n",
              "        }\n",
              "      </style>"
            ]
          },
          "metadata": {}
        },
        {
          "output_type": "display_data",
          "data": {
            "text/plain": [
              "from matplotlib import pyplot as plt\n",
              "import seaborn as sns\n",
              "_df_3.groupby('support').size().plot(kind='barh', color=sns.palettes.mpl_palette('Dark2'))\n",
              "plt.gca().spines[['top', 'right',]].set_visible(False)"
            ],
            "text/html": [
              "      <div class=\"colab-quickchart-chart-with-code\" id=\"chart-cdeafe35-4de7-4d77-853c-aad75ef16e65\">\n",
              "        <img style=\"width: 180px;\" src=\"data:image/png;base64,iVBORw0KGgoAAAANSUhEUgAAAmIAAAGZCAYAAAAq612hAAAAOXRFWHRTb2Z0d2FyZQBNYXRwbG90\n",
              "bGliIHZlcnNpb24zLjcuMSwgaHR0cHM6Ly9tYXRwbG90bGliLm9yZy/bCgiHAAAACXBIWXMAAA9h\n",
              "AAAPYQGoP6dpAAAdKklEQVR4nO3df5BVdf348dddVilSIFF0BRcEFw2IX7LmEIZmEpoCQf7IRFEM\n",
              "LB3rYyZaqZMRWJllP4wsBlQaDJWMUGyMrGzKygHyRyIsArvaroyQu6SwAnu+f/j1jgsEu7jLm708\n",
              "HjN3hnve57Lv9x4O+5yzZ+/msizLAgCAfa4o9QQAAA5UQgwAIBEhBgCQiBADAEhEiAEAJCLEAAAS\n",
              "EWIAAIkIMQCARIQYAEAiQqwNuOOOO1JPAQBoBUKsDVi3bl3qKQAArUCIAQAkIsQAABIRYgAAiQgx\n",
              "AIBEhBgAQCJCDAAgESEGAJCIEAMASESIAQAkIsQAABIRYgAAiQgxAIBEhBgAQCJCDAAgESEGAJCI\n",
              "EAMASESIAQAkIsQAABIRYgAAiQgxAIBEhBgAQCJCDAAgESEGAJCIEAMASESIAQAkIsQAABIRYgAA\n",
              "iQgxAIBEclmWZaknwe4NHTI2Pjri8tTTAICC8u3vnZ16Cq6IAQCkIsQAABIRYgAAiQgxAIBEhBgA\n",
              "QCJCDAAgESEGAJCIEAMASESIAQAkIsQAABIRYgAAiQgxAIBEhBgAQCJCDAAgESEGAJCIEAMASESI\n",
              "AQAkIsQAABIRYgAAiQgxAIBEhBgAQCJCDAAgESEGAJCIEAMASESIAQAkIsQAABIRYgAAibRqiI0c\n",
              "OTIGDBgQgwYNilNOOSWWLVsWW7ZsibFjx0afPn1i4MCBccYZZ0RFRUX+NevXr49Ro0ZFWVlZ9O/f\n",
              "P/70pz+967EdLVq0KE444YQoKyuLcePGRV1dXbIxAODA1aohNn/+/Hj66adj+fLlcc0118TEiRMj\n",
              "ImLy5MnxwgsvxD//+c8YM2ZMXH755fnXXH/99XHyySfHqlWrYvbs2XHhhRfG1q1b39XYO/33v/+N\n",
              "SZMmxUMPPRSrVq2Ko48+Or7xjW8kGQMADmytGmKdO3fO/7m2tjZyuVy85z3vibPOOityuVxERJx8\n",
              "8smxdu3a/H7z58+PK664IiIiysvL4+ijj44//vGP72rsnRYvXhyDBw+OE044ISIiPv/5z8e8efOS\n",
              "jO1KfX191NXVNXpkDQ17+EwDAG1RcWt/gIsvvjgef/zxiIh45JFHdhq/4447YsyYMRERsWHDhti6\n",
              "dWscddRR+fGePXtGZWXlXo/tqLKyMnr06NFov+rq6ti2bds+Hysu3vnTP2PGjPj617/eaFvJUcfv\n",
              "tB8A0Pa1+s3699xzT1RVVcW0adNi6tSpjcamT58eFRUVMWPGjNaeRptxww03RG1tbaNHyZF9Uk8L\n",
              "AGgF++ynJi+55JJ4/PHHY8OGDRERcdttt8WCBQti8eLF0aFDh4iI6NKlSxQXF0dNTU3+dWvXro3S\n",
              "0tK9HttRaWlprFu3rtF+JSUlUVxcvM/HdqV9+/bRsWPHRo9ckR9uBYBC1Gpf4V977bX497//nX/+\n",
              "0EMPRZcuXeKwww6L22+/PebNmxePPfZYo/vIIiLOPffcmDlzZkRE/OMf/4iXX345RowY8a7G3mnU\n",
              "qFGxdOnSWLFiRURE3HnnnXHBBRckGQMADmytdo9YbW1tnHvuubF58+YoKiqKI444IhYtWhQvv/xy\n",
              "fOlLX4pevXrFaaedFhFvXQX629/+FhER3/rWt2LChAlRVlYWBx98cMydOzcOOuigdzV20003xdFH\n",
              "Hx1XXHFFHHroofHzn/88xo4dG9u2bYv+/fvH3XffHRGxz8cAgANbLsuyLPUk2L2hQ8bGR0dcvucd\n",
              "AYAm+/b3zk49Be+sDwCQihADAEhEiAEAJCLEAAASEWIAAIkIMQCARIQYAEAiQgwAIBEhBgCQiBAD\n",
              "AEhEiAEAJCLEAAASEWIAAIkIMQCARIQYAEAiQgwAIBEhBgCQiBADAEhEiAEAJCLEAAASEWIAAIkI\n",
              "MQCARIQYAEAiQgwAIBEhBgCQSHHqCbBnHzm1V3z79rNTTwMAaGGuiAEAJCLEAAASEWIAAIkIMQCA\n",
              "RIQYAEAiQgwAIBEhBgCQiBADAEhEiAEAJCLEAAASEWIAAIkIMQCARIQYAEAiQgwAIBEhBgCQiBAD\n",
              "AEhEiAEAJCLEAAASEWIAAIkIMQCARIQYAEAiQgwAIBEhBgCQiBADAEhEiAEAJCLEAAASEWIAAIkI\n",
              "MQCARIQYAEAiQgwAIBEhBgCQiBADAEhEiAEAJCLEAAASEWIAAIkIMQCARIQYAEAiQgwAIBEhBgCQ\n",
              "iBADAEhEiAEAJCLEAAASEWIAAIkIMQCARIQYAEAiQgwAIBEhBgCQiBADAEhEiAEAJCLEAAASEWIA\n",
              "AIkIMQCARIQYAEAiQgwAIBEhBgCQiBADAEhEiAEAJCLEAAASEWIAAIkIMQCARIQYAEAiuSzLstST\n",
              "YPcu7ZeLG8o1MwC0pD5ztqeegitiAACpCDEAgESEGABAIkIMACARIQYAkIgQAwBIRIgBACQixAAA\n",
              "EhFiAACJCDEAgESaHWKPPvpok7YBALB7zQ6xr3zlK03aBgDA7hU3dceVK1fGihUrora2NhYuXJjf\n",
              "XltbG2+88UarTA4AoJA1OcT++te/xpw5c2L9+vXxve99L7+9Y8eO8d3vfrdVJgcAUMhyWZZlTd25\n",
              "oaEhpk+fHl/72tdac07s4NJ+ubih3M9VAEBL6jNne+opNO8esaKiorj//vtbay4AAAeUZl9mKSsr\n",
              "i4qKitaYCwDAAaXJ94i9bePGjTFo0KAYNmxYHHLIIfntCxYsaNGJAQAUumaH2CWXXBKXXHJJa8wF\n",
              "AOCAslchFhHx9j3+uVyuZWcEAHCAaPY9YtXV1XHWWWdFhw4dokOHDnH22WdHdXV1a8wNAKCgNTvE\n",
              "Jk+eHMOHD4/q6uqorq6O4cOHx+TJk1tjbgAABa3Z35qsqqqK3/zmN/nn119/fQwaNKgl5wQAcEBo\n",
              "9hWxLMuipqYm/7ympiaa8Z6wAAD8f82+InbttdfG4MGD48wzz4yIiEcffTS+853vtPjEAAAKXbND\n",
              "bMKECTF48OD4wx/+EBERX/rSl6Jfv34tPS8AgIK3V7/A8Nhjj41BgwbF4MGDo2fPnv9zv6uvvjp6\n",
              "9uwZuVwuli9fnt9eX18fV111VZSVlcUHP/jBuOiii/Jjq1atimHDhkWfPn2ivLw8nnvuuXc9tqNZ\n",
              "s2ZFWVlZ9O7dOz772c/G1q1bk40BAAeuZofYkiVLolevXnH11VfHVVddFb17947HH398l/t+6lOf\n",
              "ij//+c/Ro0ePRtuvv/76yOVysXLlynjmmWfitttuy49NmTIlJk+eHCtXroypU6fGxIkT3/XYO61Z\n",
              "syZuvPHGeOKJJ6KioiJeeeWVuOuuu5KMAQAHtmaH2Be/+MVYuHBhLF26NJYtWxYLFy6Mq6++epf7\n",
              "fuQjH4nu3bs32vb666/HrFmz4pvf/Gb+zWCPOuqoiIhYv359PPXUU/krZOPHj4+qqqqoqKjY67Ed\n",
              "PfDAAzF69Og46qijIpfLxRVXXBHz5s1LMrYr9fX1UVdX1+ixvaEJBwYAaHOaHWJFRUXxoQ99KP/8\n",
              "pJNOinbt2jX59atXr47DDjsspk+fHkOHDo1TTjkllixZEhFvvTVGSUlJFBe/detaLpeL0tLSqKys\n",
              "3OuxHVVWVja6QtezZ8/8fvt6bFdmzJgRnTp1avR4+tU9floBgDao2SE2cuTImDNnTmRZFlmWxT33\n",
              "3BMjR45s8uu3bdsW69ati759+8ZTTz0VP/jBD+L888+PV155pblTKUg33HBD1NbWNnoMODz1rACA\n",
              "1tDsn5r8+c9/HrW1tTFlypSIiNi6dWt06tQpfvazn0Uul4uNGzfu9vWlpaVRVFQUn/nMZyIiYvDg\n",
              "wXHsscfGM888EwMGDIjq6urYtm1bFBcXR5ZlUVlZGaWlpdGxY8e9GtvVx1+9enX++dq1a/P77eux\n",
              "XWnfvn20b9++0bZ2e/UjFQDA/q7ZX+KXL18ea9asiZUrV8bKlStjzZo1sXz58li+fHksW7Zsj68/\n",
              "/PDD4/TTT4/f/va3EfHWzexr1qyJD3zgA9G1a9cYMmRIzJ07NyIiHnzwwejevXscd9xxez22o/Hj\n",
              "x8fChQvzb0Q7c+bMuOCCC5KMAQAHtly2F2+L//rrr8eyZcsil8vFoEGD4n3ve98u95syZUo8/PDD\n",
              "UVNTE126dIlDDz00Kioq4sUXX4xJkybFq6++GkVFRXHTTTfF+PHjIyLihRdeiIkTJ8aGDRuiY8eO\n",
              "MXv27PjgBz/4rsYuv/zyGD16dIwePToiIn72s5/FrbfeGhERp556asycOTMOOuigJGNNcWm/XNxQ\n",
              "7rIYALSkPnO2p55C80NsyZIlceGFF0a3bt0iy7Korq6OefPmxWmnndZaczzgCTEAaHn7Q4g1+x6x\n",
              "t9++4u2fnPz73/8ekyZNimeeeabFJwcAUMj2+dtXAADwln3+9hUAALyl2feIvf/974/a2tr8zeZv\n",
              "v31FRDTp7StoPveIAUDLa5P3iL3zl3cDALD3mh1iO/4CbwAA9k6zQ+zYY4/N/7Lud3rxxRdbZEIA\n",
              "AAeKZofYokWL8n/esmVL3HvvvdGlS5cWnRQAwIFgr95Zf0fDhg2Lv/zlLy0xH3bBzfoA0PL2h5v1\n",
              "3/VX9w0bNkRNTU1LzAUA4IDS7G9NDh48OH+P2LZt26KysjK+/OUvt/jEAAAKXbND7Pvf/37+z2+/\n",
              "o/7w4cNbbEIAAAeKZofYjBkz4r777ovi4uLo379/RERcfPHFccstt7T45AAAClmz7xF75ZVXonPn\n",
              "zvHII4/EmDFjYuXKlfGrX/2qNeYGAFDQmh1iW7dujYiIP/3pT3HGGWfEwQcfHMXFzb6wBgBwwGt2\n",
              "iPXv3z/OPPPMWLRoUXz0ox+NN954ozXmBQBQ8Jp9KWvOnDnx6KOPxsCBA6NDhw7x8ssvx4wZM1pj\n",
              "bgAABa3ZIfae97wnxo4dm3/erVu36NatW0vOCQDggODt2gEAEhFiAACJCDEAgESEGABAIkIMACAR\n",
              "IQYAkIgQAwBIxO8magPe//H/iz633556GgBAC3NFDAAgESEGAJCIEAMASESIAQAkIsQAABIRYgAA\n",
              "iQgxAIBEhBgAQCJCDAAgESEGAJCIEAMASESIAQAkIsQAABIRYgAAiQgxAIBEhBgAQCJCDAAgESEG\n",
              "AJCIEAMASESIAQAkIsQAABIRYgAAiQgxAIBEhBgAQCJCDAAgESEGAJCIEAMASESIAQAkIsQAABIR\n",
              "YgAAiQgxAIBEhBgAQCJCDAAgESEGAJCIEAMASESIAQAkIsQAABIRYgAAiQgxAIBEhBgAQCJCDAAg\n",
              "ESEGAJCIEAMASESIAQAkIsQAABIRYgAAiQgxAIBEhBgAQCJCDAAgESEGAJCIEAMASESIAQAkIsQA\n",
              "ABIRYgAAiQgxAIBEhBgAQCJCDAAgESEGAJCIEAMASESIAQAkIsQAABLJZVmWpZ4Eu3fIx8uj8wWn\n",
              "p54G0AQvXXpr6ikAbYgrYgAAiQgxAIBEhBgAQCJCDAAgESEGAJCIEAMASESIAQAkIsQAABIRYgAA\n",
              "iQgxAIBEhBgAQCJCDAAgESEGAJCIEAMASESIAQAkIsQAABIRYgAAiQgxAIBEhBgAQCJCDAAgESEG\n",
              "AJCIEAMASESIAQAkIsQAABIRYgAAiQgxAIBECirEVq1aFcOGDYs+ffpEeXl5PPfcczvt09DQENde\n",
              "e230798/TjjhhJg0aVK8+eab+fHvfOc70b9//+jbt2988pOfjNdeey0/du+998bAgQOjf//+cfrp\n",
              "p0dlZWV+bOTIkTFgwIAYNGhQnHLKKbFs2bL82COPPBJDhgyJQYMGRf/+/ePuu+9unU8AANCmFFSI\n",
              "TZkyJSZPnhwrV66MqVOnxsSJE3faZ9asWbF06dJYunRpPP/881FUVBR33HFHREQ89thjMXv27Pjr\n",
              "X/8a//rXv+LEE0+Mr371qxERsWLFivjyl78cjz76aDz77LNx6aWXxuc+97n83zt//vx4+umnY/ny\n",
              "5XHNNdfkP3aWZXHRRRfFnDlzYvny5bFo0aKYMmVKbNq0qdU/HwDA/q1gQmz9+vXx1FNPxUUXXRQR\n",
              "EePHj4+qqqqoqKhotN8///nP+NjHPhYHH3xw5HK5OPPMM+Pee+/Njw0fPjwOPfTQiIg466yz8mPP\n",
              "PvtsDBgwIEpKSvJjixcvjg0bNkREROfOnfMfo7a2NnK5XP55LpfLX1mrq6uLLl26RPv27Vv+kwAA\n",
              "tCkFE2JVVVVRUlISxcXFEfFW/JSWljb69mFExIknnhgLFy6Murq62Lp1a8yfPz/Wrl2bH/vd734X\n",
              "NTU1kWVZ/OIXv4hNmzbFxo0bY+DAgbF06dJYuXJlRETMnTs3siyLdevW5f/uiy++OI455pi48cYb\n",
              "8wGXy+Xil7/8ZYwbNy569OgRw4cPj7vvvjsOPvjgXa6jvr4+6urqGj1ie9bSny4AYD9QMCHWVBMn\n",
              "ToxRo0bFiBEjYsSIEdGnT598vJ122mlx7bXXxtlnnx0nn3xyHHHEERERUVxcHGVlZTFz5sy4+OKL\n",
              "Y+jQobFhw4bo3Llz/rUREffcc09UVVXFtGnTYurUqRERsW3btpg2bVosWLAg1q1bF0uWLIkJEybE\n",
              "q6++usv5zZgxIzp16tTo8eaa6lb+rAAAKeSyLCuIyy3r16+P4447LjZu3BjFxcWRZVmUlJTEn//8\n",
              "5zjuuOP+5+vuu++++PGPfxxPPPHETmNPPvlknHvuuVFVVbXTWE1NTfTs2TM2btwYHTp02Gn8ve99\n",
              "b7z00kuxZs2auPDCC/NX0iIiysvLY/r06XHGGWfs9Lr6+vqor69vtO3ocR+Nzp/52G7XD+wfXrr0\n",
              "1tRTANqQgrki1rVr1xgyZEjMnTs3IiIefPDB6N69+04RtmXLlvjPf/4TERGvvvpq3HrrrXHdddfl\n",
              "x6ur37r69MYbb8RNN920y7Ht27fH1KlT48orr4wOHTrEa6+9Fv/+97/z+z300EPRpUuXOOyww+KY\n",
              "Y46J6urqeP755yMioqKiIlavXh3HH3/8LtfRvn376NixY6NHtMvtcl8AoG0r3vMubcdPf/rTmDhx\n",
              "YkyfPj06duwYs2fPjoiIyy+/PEaPHh2jR4+O2traOPXUU6OoqCgaGhriC1/4Qpxzzjn5v2PkyJHR\n",
              "0NAQb775ZkyYMCGuuuqq/Nhll10W69ati/r6+vjEJz4R06dPj4i3bs4/99xzY/PmzVFUVBRHHHFE\n",
              "LFq0KHK5XBx55JFx1113xXnnnZf/mD/60Y+itLR0335yAID9TsF8a7KQHfLx8uh8wemppwE0gW9N\n",
              "As1RMN+aBABoa4QYAEAiQgwAIBEhBgCQiBADAEhEiAEAJCLEAAASEWIAAIkIMQCARIQYAEAiQgwA\n",
              "IBEhBgCQiBADAEhEiAEAJCLEAAASEWIAAIkIMQCARIQYAEAiQgwAIBEhBgCQiBADAEhEiAEAJCLE\n",
              "AAASEWIAAIkIMQCARIpTT4A9m9zvlLj90ltTTwMAaGGuiAEAJCLEAAASEWIAAIkIMQCARIQYAEAi\n",
              "QgwAIBEhBgCQiBADAEhEiAEAJCLEAAASEWIAAIkIMQCARIQYAEAiQgwAIBEhBgCQiBADAEhEiAEA\n",
              "JCLEAAASEWIAAIkIMQCARIQYAEAiQgwAIBEhBgCQiBADAEhEiAEAJCLEAAASEWIAAIkIMQCARIQY\n",
              "AEAiQgwAIJHi1BNg9+rr62Px4sWxffv2aNeuXerptKrt27fH3//+9zjppJOstYBYa2Gy1sJkrS2r\n",
              "R48e8YUvfGG3++SyLMta5aPTIurq6qJTp05RW1sbHTt2TD2dVmWthclaC5O1FiZr3fd8axIAIBEh\n",
              "BgCQiBADAEhEiO3n2rdvHzfffHO0b98+9VRanbUWJmstTNZamKx133OzPgBAIq6IAQAkIsQAABIR\n",
              "YgAAiQixRFatWhXDhg2LPn36RHl5eTz33HO73G/WrFlRVlYWvXv3js9+9rOxdevWJo3tT5qy1t//\n",
              "/vdx0kknRd++faNfv35x3XXXRUNDQ0RErF27Ntq1axeDBg3KP1avXr2vl9EkTVnrH/7wh3jve9/b\n",
              "aD2bN2/OjxfScZ09e3ajdR5++OExbty4iGhbx/Xqq6+Onj17Ri6Xi+XLl//P/QrhfG3KWgvlfG3K\n",
              "WgvlfG3KWgvlfN2yZUuMHTs2+vTpEwMHDowzzjgjKioqdrnvokWL4oQTToiysrIYN25c1NXVNWms\n",
              "RWUkcdppp2WzZ8/OsizL7r///mzo0KE77fPiiy9mJSUlWXV1ddbQ0JCdc8452Y9+9KM9ju1vmrLW\n",
              "pUuXZqtXr86yLMs2b96cffjDH86/Zs2aNVmnTp320Wzfnaas9fHHH88GDhy4y9cX2nHdUb9+/bIH\n",
              "Hnggy7K2dVz/+Mc/ZlVVVVmPHj2yZcuW7XKfQjlfm7LWQjlfm7LWQjlfm7LWHbXV83Xz5s3Zww8/\n",
              "nDU0NGRZlmU//OEPsxEjRuy036ZNm7KuXbtmzz//fJZlWXbllVdm11577R7HWpoQS+CVV17JDj30\n",
              "0Gzr1q1ZlmVZQ0NDduSRR2arVq1qtN+3v/3tbMqUKfnnDz/8cPbhD394j2P7k6audUdXXnlldvPN\n",
              "N2dZ1nb+A2jqWnf3H3shH9cnn3wyO+KII7I333wzy7K2c1zfaXdfxArhfH2n5nzBbovn6zvtbYgV\n",
              "8nEthPP1bf/4xz+yHj167LR9/vz52cc//vH88+eeey7r1q3bHsdamm9NJlBVVRUlJSVRXPzW71zP\n",
              "5XJRWloalZWVjfarrKyMHj165J/37Nkzv8/uxvYnTV3rO9XU1MQDDzwQZ599dn7b66+/HuXl5TFk\n",
              "yJC45ZZbYvv27a0+9+ZqzlpXr14dQ4YMifLy8rjzzjvz2wv5uM6aNSsmTJgQBx10UH5bWziuTVUI\n",
              "5+veaKvna3O09fN1bxTS+XrHHXfEmDFjdtq+q+NXXV0d27Zt2+1YSytu8b8R3oW6uro455xz4rrr\n",
              "rouhQ4dGRERJSUm8/PLL0bVr19i4cWOcf/758d3vfjeuu+66xLPdO0OGDImXXnopOnXqFC+99FKc\n",
              "ddZZcfjhh8d5552Xemqt5vXXX4/77rsvnnzyyfy2QjuuByLna2EqpPN1+vTpUVFREUuWLEk9lf/J\n",
              "FbEEjjnmmEZlnWVZVFZWRmlpaaP9SktLY926dfnna9euze+zu7H9SVPXGhGxadOmGDVqVIwZMyau\n",
              "ueaa/Pb27dtH165dIyLisMMOi8suuyyeeOKJfbOAZmjqWjt27BidOnWKiIju3bvHpz/96fx6CvG4\n",
              "RkTcf//90a9fv+jbt29+W1s5rk1VCOdrc7T187WpCuF8ba5COV9vu+22WLBgQSxevDg6dOiw0/iu\n",
              "jt/bV/p3N9bShFgCXbt2jSFDhsTcuXMjIuLBBx+M7t27x3HHHddov/Hjx8fChQujpqYmsiyLmTNn\n",
              "xgUXXLDHsf1JU9f63//+N0aNGhWjRo2Kr33ta43G1q9fn/9JpPr6+liwYEEMHjx43yygGZq61urq\n",
              "6vxPmG3atCkWLVqUX0+hHde3zZo1KyZNmtRoW1s5rk1VCOdrUxXC+dpUhXC+NlchnK+33357zJs3\n",
              "Lx577LHo3LnzLvcZNWpULF26NFasWBEREXfeeWf++O1urMW1yp1n7NGKFSuyk08+OSsrK8tOPPHE\n",
              "7Omnn86yLMsmTZqU/frXv87vd9ddd2W9evXKevXqlV122WX5Gyf3NLY/acpap02blhUXF2cDBw7M\n",
              "P6ZNm5ZlWZY9+OCDWb9+/bIBAwZkffv2za666qpsy5YtydazO01Z6w9/+MOsb9+++fXcfPPN+Z/u\n",
              "ybLCOq5v73fIIYdkdXV1jV7flo7r5MmTs27dumXt2rXLunbtmvXu3TvLssI8X5uy1kI5X5uy1kI5\n",
              "X5v6b7gQzteqqqosIrJevXrl/32edNJJWZZl2Y033pj95Cc/ye/761//Ojv++OOz3r17Z2PGjMle\n",
              "e+21Jo21JL9rEgAgEd+aBABIRIgBACQixAAAEhFiAACJCDEAgESEGABAIkIMACARIQYAkIgQAwBI\n",
              "RIgBACQixAAAEvl/aJ2BE4GZYuMAAAAASUVORK5CYII=\n",
              "\">\n",
              "      </div>\n",
              "      <script type=\"text/javascript\">\n",
              "        (() => {\n",
              "          const chartElement = document.getElementById(\"chart-cdeafe35-4de7-4d77-853c-aad75ef16e65\");\n",
              "          async function getCodeForChartHandler(event) {\n",
              "            const chartCodeResponse =  await google.colab.kernel.invokeFunction(\n",
              "                'getCodeForChart', [\"chart-cdeafe35-4de7-4d77-853c-aad75ef16e65\"], {});\n",
              "            const responseJson = chartCodeResponse.data['application/json'];\n",
              "            await google.colab.notebook.addCell(responseJson.code, 'code');\n",
              "          }\n",
              "          chartElement.onclick = getCodeForChartHandler;\n",
              "        })();\n",
              "      </script>\n",
              "      <style>\n",
              "        .colab-quickchart-chart-with-code  {\n",
              "            display: block;\n",
              "            float: left;\n",
              "            border: 1px solid transparent;\n",
              "        }\n",
              "\n",
              "        .colab-quickchart-chart-with-code:hover {\n",
              "            cursor: pointer;\n",
              "            border: 1px solid #aaa;\n",
              "        }\n",
              "      </style>"
            ]
          },
          "metadata": {}
        },
        {
          "output_type": "display_data",
          "data": {
            "text/plain": [
              "<google.colab._quickchart_helpers.SectionTitle at 0x78834bfcf520>"
            ],
            "text/html": [
              "<h4 class=\"colab-quickchart-section-title\">2-d categorical distributions</h4>\n",
              "<style>\n",
              "  .colab-quickchart-section-title {\n",
              "      clear: both;\n",
              "  }\n",
              "</style>"
            ]
          },
          "metadata": {}
        },
        {
          "output_type": "display_data",
          "data": {
            "text/plain": [
              "from matplotlib import pyplot as plt\n",
              "import seaborn as sns\n",
              "import pandas as pd\n",
              "plt.subplots(figsize=(8, 8))\n",
              "df_2dhist = pd.DataFrame({\n",
              "    x_label: grp['recall'].value_counts()\n",
              "    for x_label, grp in _df_4.groupby('precision')\n",
              "})\n",
              "sns.heatmap(df_2dhist, cmap='viridis')\n",
              "plt.xlabel('precision')\n",
              "_ = plt.ylabel('recall')"
            ],
            "text/html": [
              "      <div class=\"colab-quickchart-chart-with-code\" id=\"chart-7ef68f04-8896-4e2f-85cc-994b942c7639\">\n",
              "        <img style=\"width: 180px;\" src=\"data:image/png;base64,iVBORw0KGgoAAAANSUhEUgAAAoMAAAKfCAYAAAAVesJuAAAAOXRFWHRTb2Z0d2FyZQBNYXRwbG90\n",
              "bGliIHZlcnNpb24zLjcuMSwgaHR0cHM6Ly9tYXRwbG90bGliLm9yZy/bCgiHAAAACXBIWXMAAA9h\n",
              "AAAPYQGoP6dpAAA9bklEQVR4nO3de3QUdZ7H/U8naCMKCUm4DiQYAwYIuQEuDkhADGFZFhjBFdcR\n",
              "iISLN2YfuU0GDfB4yboCLnNcFnUYCejiBSNkUB81iLPBYZQRA44CGiSEYDDA5CIgLUnX8wfHdnuC\n",
              "pDqk6KTq/ZpT5yRV1f37pacP853Pt+pXLsMwDAEAAMCRQoI9AQAAAAQPxSAAAICDUQwCAAA4GMUg\n",
              "AACAg1EMAgAAOBjFIAAAgINRDAIAADgYxSAAAICDUQwCAAA4GMUgAABAkIwePVqJiYlKTk7WTTfd\n",
              "pE8++eSC561du1a9e/fWddddp5kzZ+rcuXOmjpnh4nF0AAAAwVFdXa3w8HBJ0uuvv66lS5dqz549\n",
              "fuccOnRIQ4cO1e7du9WlSxdNmDBBGRkZuu+++y56zCySQQAAgCD5oRCUpJqaGrlcrgbnbNq0SePH\n",
              "j1fXrl3lcrk0Z84cbdy4sdFjZrW5pL8AAAAAfjwejzwej98+t9stt9t9wfOnTp2q7du3S5LefPPN\n",
              "BsfLysoUExPj+71Xr14qKytr9JhZFIMAYBPpIbcFewqAn3e9rwZtbO+xPkEbO3fNv2rZsmV++5Ys\n",
              "WaKlS5de8Pz169dLkvLy8rRo0aILFoRWok0MAADQjLKzs1VTU+O3ZWdnN/q6adOmafv27Tp58qTf\n",
              "/ujoaB0+fNj3e2lpqaKjoxs9ZhbFIAAAsB1vEP/jdrvVoUMHv+1CLeLq6mp9/fXXvt83b96syMhI\n",
              "RURE+J03adIkFRQU6NixYzIMQ2vWrNGUKVMaPWYWbWIAAIAgqKmp0W233abvvvtOISEh6tSpk7Zu\n",
              "3SqXy6WsrCyNHz9e48ePV2xsrJYtW6ahQ4dKkkaMGKHZs2dL0kWPmcXSMgBgE1wziJYmmNcM1h2L\n",
              "C9rYbbqWBG3spiAZBAAAtlNveIM2dmsrrrhmEAAAwMFaW/EKAADQKK+4Cs4skkEAAAAHoxgEAABw\n",
              "MNrEAADAdrwK3g0krQ3JIAAAgIORDAIAANupZxll00gGAQAAHIxkEAAA2A5Ly5hHMggAAOBgFIMA\n",
              "AAAORpsYAADYTj1tYtNIBgEAAByMZBAAANgON5CYRzIIAADgYBSDAAAADkabGAAA2A5PIDGPZBAA\n",
              "AMDBSAYBAIDteIM9gVaEZBAAAMDBSAYBAIDtsOi0eSSDAAAADkYxCAAA4GC0iQEAgO3U0yU2jWQQ\n",
              "AADAwUgGAQCA7bC0jHkkgwAAAA5GMQgAAOBgtIkBAIDt1MsV7Cm0GiSDAAAADkYyCAAAbMfL0jKm\n",
              "kQwCAAA4GMkgAACwHa4ZNI9kEAAAwMEoBgEAAByMNjEAALAd2sTmkQwCAAA4GMkgAACwHa9BMmgW\n",
              "ySAAAICDUQwCAAA4GG1iAABgO9xAYh7JIAAAgIORDAIAANupJ+8yjU8KAADAwUgGAQCA7bC0jHkk\n",
              "gwAAAA5GMQgAAOBgtIkBAIDtsLSMeSSDAAAADkYyCAAAbKfeIO8yi08KAADAwSgGAQAAHIw2MQAA\n",
              "sB0veZdpfFIAAAAORjIIAABsh6VlzCMZBAAAcDCSQQAAYDssLWMenxQAAICDUQwCAAA4GG1iAABg\n",
              "O15uIDGNZBAAAMDBSAYBAIDt1JN3mcYnBQAA4GAUgwAAAA5GmxgAANgO6wyaxycFAADgYCSDAADA\n",
              "drzkXabxSQEAAATJ2bNnNXHiRPXp00dJSUlKT09XSUlJg/PefvttJScn+7bu3bsrNTXVd9zlcmnA\n",
              "gAG+40VFRabnQDIIAABsp95oPYtOz5o1S//4j/8ol8ulp59+WllZWXr//ff9zsnIyFBGRobv93Hj\n",
              "xmnkyJF+5xQVFSk8PDzg8UkGAQAAgqRt27YaO3asXK7zxeuQIUNUWlp60dd8/fXX2rZtm+66665m\n",
              "mQPJIAAAQDPyeDzyeDx++9xut9xud6OvXbVqlSZMmHDRc9atW6exY8eqc+fOfvtHjRqluro6jRo1\n",
              "So888oiuvvpqU/MlGQQAALZTr5Cgbbm5uQoLC/PbcnNzG53z448/rpKSkoueaxiGfv/732vGjBl+\n",
              "+w8fPqyPP/5Yf/rTn3T8+HEtWLDA9GdFMggAANCMsrOz9eCDD/rtaywVXL58ufLz81VYWKh27dr9\n",
              "5Hl//OMfdfbsWb/rByUpOjpaknT11Vfr3nvv1axZs0zPl2IQAADYjjeIi06bbQn/YOXKldq4caMK\n",
              "CwsbvQFk7dq1mj59ukJDQ337qqqq5Ha71a5dO3m9Xr388stKSUkxPT7FIAAAQJCUl5dr3rx5io2N\n",
              "9d0d7Ha79eGHHyonJ0fdu3fXnDlzJEk1NTXKz8/Xp59+6vce+/fv1+zZs+VyuVRXV6fU1FStWrXK\n",
              "9BxchmEYzfcnAQCCJT3ktmBPAfDzrvfVoI39csngoI19e9yuoI3dFJYmg1999ZXKysokne9lx8bG\n",
              "WjkcAACApPM3kMAcS4rBffv2adq0aTpy5IjvgsaysjL17NlTzz//vPr372/FsAAAAAiQJcXg9OnT\n",
              "tWjRIk2aNMlv/6ZNm5SZmamPPvrIimEBAAAkta4nkASbJRlqdXV1g0JQkiZPnqyamhorhgQAAEAT\n",
              "WFIMRkVFacOGDfJ6vb59Xq9XeXl5ioyMtGJIAAAANIElbeK8vDzNnj1bDzzwgLp16yZJqqioUGpq\n",
              "qtatW2fFkAAAAD5ebiAxzZJiMC4uTtu2bdPx48d15MgRSVLPnj3VqVMnK4YDAABAE1m6tMy3336r\n",
              "2tpa388UgwAA4HKoD+ITSFobS4rBzz//XNOnT2dpGQAAgBbOkmIwMzOTpWUAAEDQeMXSMmaxtAwA\n",
              "AICDsbQMAACAg7G0DAAAsB1uIDGPpWUAAAAczNKlZdq0aaOQkBC1adNG7du3t3IoAAAAn3oWnTbN\n",
              "kk+qvLxc48aNU1RUlAYOHKi0tDRFRERo4cKFOnfunBVDAgAAoAksKQYzMzN1xx136MSJE3rqqac0\n",
              "d+5cHTp0SJWVlVqwYIEVQwIAAKAJXIZhGM39pomJidq7d6/v9xtuuEEfffSR6uvrFR8fry+//LK5\n",
              "hwQAx0sPuS3YUwD8vOt9NWhjP73/5qCNfX/8e0EbuyksSQZDQkJUWVkpSSopKVFoaKgkKTQ0VFde\n",
              "eaUVQwIAAKAJLLmBZN68eUpKSlJSUpJ2796tNWvWSJKOHTummJgYK4YEAADw4QYS8ywpBu+66y4N\n",
              "HjxYn332mZKSkhQXFydJ6tq1q958882Lvtbj8cjj8fjtc7vdcrvdVkwVAADA0Swrm+Pj4zVp0iRF\n",
              "RUXp1KlTpl+Xm5ursLAwvy03N9eqaQIAABvyGiFB21obS2ZcW1ur+++/X+Hh4YqMjFRYWJhiYmK0\n",
              "evXqRl+bnZ2tmpoavy07O9uKaQIAADieJW3izMxMpaamavv27XrhhRfUpUsXpaWlKScnR1VVVVq8\n",
              "ePFPvpaWMAAAwOVjydIyCQkJ+utf/+r7/cYbb9TOnTt15swZpaSk6MCBA809JAA4HkvLoKUJ5tIy\n",
              "y/dlBG3s+X3fDtrYTWFJm9jlcunMmTOSpMrKStXV1UmS2rVrx9IyAAAALYglbeKpU6fqhhtu0LBh\n",
              "w1RYWKj58+dLOr+0jMvlsmJIAAAAn9Z4I0ewWFIMLliwQMnJydq7d6+mTJmiESNGSDq/tMz/fTIJ\n",
              "AAAAgsuSYlCS0tPTlZ6ebtXbAwAAoBlYkqHW1dVpxYoVSk5OVnh4uKKiopSWltbogtMAAADNoV6u\n",
              "oG2tjSXJ4D333COXy6UlS5bolVde0fXXX6++fftq8eLFOnr0qGbOnGnFsAAAAAiQJcXgBx98oM8/\n",
              "/1ySNG7cOI0cOVJLly7VqFGjlJaWRjEIAAAsxQ0k5lnySYWGhqq+vl6SdPbsWd8yM1FRUQoJ4b8c\n",
              "AACAlsKSZDAjI0MZGRm65ZZbVFBQoIkTJ0qSqqurfUUiAACAVepJBk2z5JN68sknNWXKFB09elSz\n",
              "Zs1STk6OJOmqq67S+++/b8WQAAAAaAJLkkGXy6WsrKwG+91utzp37mzFkAAAAGiCy56hbt269XIP\n",
              "CQAAHMYrV9C21uayF4Nbtmy53EMCAADgJ1j2BBJJ+uqrr1RWViZJio6OVmxsrJ577jkrhwQAAOAG\n",
              "kgBYUgzu27dP06ZN05EjRxQdHS1JKisrU8+ePbVu3Tr169fPimEBAAAQIEuKwenTp2vRokWaNGmS\n",
              "3/5NmzZp+vTp+uijj6wYFgAAAAGyJEOtrq5uUAhK0uTJk1VTU2PFkAAAAD5ewxW0rbWxpBiMiorS\n",
              "hg0b5PV6ffu8Xq/y8vIUGRlpxZAAAABoAkvaxHl5eZo9e7YeeOABdevWTZJUUVGh1NRUrVu3zooh\n",
              "AQAAfOov/4IprZYlxWBcXJy2bdum48eP68iRI5Kknj17qlOnTlYMBwAAgCaydGmZTp06UQACAIDL\n",
              "rjVeuxcsZKgAAAAORjEIAADgYJa2iQEAAILBS95lGp8UAACAg5EMAgAA26nnBhLTSAYBAAAcjGIQ\n",
              "AADAwWgTAwAA22GdQfNIBgEAAByMZBAAANiO1yDvMotPCgAAwMFIBgEAgO3Ui2sGzSIZBAAAcDCK\n",
              "QQAAAAejTQwAAGyHpWXMIxkEAABwMJJBAABgOywtYx6fFAAAgINRDAIAADgYbWIAAGA7XtYZNI1k\n",
              "EAAAwMFIBgEAgO3Us7SMaSSDAAAAQXL27FlNnDhRffr0UVJSktLT01VSUtLgvNLSUoWGhio5Odm3\n",
              "HTx40Hd869atio+PV+/evXXrrbeqtrbW9BwoBgEAgO14jZCgbYGaNWuWDhw4oD179mjChAnKysq6\n",
              "4Hnt27dXcXGxb7vuuuskSadOndKMGTO0efNmffnll+revbseeeQR0+NTDAIAAARJ27ZtNXbsWLlc\n",
              "59vaQ4YMUWlpaUDv8dZbbyklJUXx8fGSpHvvvVcbN240/XquGQQAAGhGHo9HHo/Hb5/b7Zbb7W70\n",
              "tatWrdKECRMueOz06dMaPHiw6uvrNXHiRC1evFihoaEqKytTTEyM77xevXqpoqJCdXV1atOm8VKP\n",
              "ZBAAANiO13AFbcvNzVVYWJjflpub2+icH3/8cZWUlFzw3G7duuno0aPatWuXCgsLVVRUpBUrVjTL\n",
              "Z0UxCAAA0Iyys7NVU1Pjt2VnZ1/0NcuXL1d+fr7eeusttWvXrsFxt9utzp07S5IiIiJ09913q6io\n",
              "SJIUHR2tw4cP+84tLS1Vt27dTKWCEsUgAACwIa9cQdvcbrc6dOjgt12sRbxy5Upt3LhR7777rsLD\n",
              "wy94TmVlpc6dOyfpfBs6Pz9fKSkpkqQxY8Zo9+7d2r9/vyRp9erVmjJliunPimsGAQAAgqS8vFzz\n",
              "5s1TbGysRo4cKel8Cvjhhx8qJydH3bt315w5c7Rjxw7l5OQoNDRUdXV1uvnmm7V48WJJ5+8y/t3v\n",
              "fqeJEyeqrq5OCQkJysvLMz0Hl2EYhiV/HQDgskoPuS3YUwD8vOt9NWhj3/nhzKCN/eI/PBe0sZuC\n",
              "ZBAAANiOlyeQmMY1gwAAAA5GMggAAGynKU8CcSo+KQAAAAejGAQAAHAw2sQAAMB2uIHEPJJBAAAA\n",
              "ByMZBAAAtuMVyaBZJIMAAAAORjIIAABsh2sGzSMZBAAAcDCKQQAAAAejTQwAAGyHNrF5JIMAAAAO\n",
              "RjIIAABsh2TQPJJBAAAAB6MYBAAAcDDaxAAAwHZoE5tHMggAAOBgJIMAAMB2eDaxeSSDAAAADkYy\n",
              "CAAAbIdrBs0jGQQAAHAwikEAAAAHo00MAABshzaxeSSDAAAADkYyCAAAbIdk0DySQQAAAAejGAQA\n",
              "AHAw2sQAAMB2aBObRzIIAADgYCSDAADAdgySQdNIBgEAAByMZBAAANiOVySDZpEMAgAAOBjFIAAA\n",
              "gIPRJgYAALbD0jLmkQwCAAA4GMkgAACwHZaWMY9kEAAAwMEoBgEAAByMNjEAALAdbiAxj2QQAADA\n",
              "wUgGAQCA7XADiXkkgwAAAA5GMggAAGyHawbNoxgEmsB7rE+wpwA08K73i2BPAUArRJsYAADAwUgG\n",
              "AQCA7RhGsGfQepAMAgAAOBjJIAAAsB2vuIHELJJBAAAAB6MYBAAAcDDaxAAAwHZ4Aol5JIMAAAAO\n",
              "RjIIAABshyeQmEcyCAAA4GAkgwAAwHZYdNo8kkEAAAAHoxgEAABwMNrEAADAdlhaxjySQQAAAAcj\n",
              "GQQAALZDMmgeySAAAICDUQwCAAA4GG1iAABgOzyBxDySQQAAAAcjGQQAALbDE0jMIxkEAAAIkrNn\n",
              "z2rixInq06ePkpKSlJ6erpKSkgbnffrppxo+fLji4+OVkJCgu+++W999953vuMvl0oABA5ScnKzk\n",
              "5GQVFRWZngPFIAAAsB3DcAVtC9SsWbN04MAB7dmzRxMmTFBWVlaDc9q2baunn35a+/fv1549e3T6\n",
              "9Gk98cQTfucUFRWpuLhYxcXFuummm0yPTzEIAAAQJG3bttXYsWPlcp0vIocMGaLS0tIG5/Xu3VuJ\n",
              "iYmSpNDQUA0ePPiC5zUFxSAAAEAz8ng8qq2t9ds8Ho+p165atUoTJky46DmnT5/W7373uwbnjRo1\n",
              "SklJSXrwwQd1+vRp0/OlGAQAALYTzDZxbm6uwsLC/Lbc3NxG5/z444+rpKTkoud+//33uv322zV6\n",
              "9Gj94he/8O0/fPiwPv74Y/3pT3/S8ePHtWDBAtOflcswuN8GCJT3WJ9gTwFoIKTrF8GeAtBixOf/\n",
              "v0Ebe88/LWqQBLrdbrnd7p98zfLly/XSSy+psLBQ4eHhFzzn3Llz+pd/+RdFRUXp2Wef9bWW/97O\n",
              "nTs1a9Ysffrpp6bmy9IyAADAdoKZdDVW+P29lStXauPGjRctBOvq6jRlyhRFREQ0KASrqqrkdrvV\n",
              "rl07eb1evfzyy0pJSTE9PsUgAABAkJSXl2vevHmKjY3VyJEjJZ0vJj/88EPl5OSoe/fumjNnjl5+\n",
              "+WXl5+crMTHRV+gNHTpU//Vf/6X9+/dr9uzZcrlcqqurU2pqqlatWmV6DrSJgSagTYyWiDYx8KPr\n",
              "g9gmPnBrTtDGbgqSQQAAYDtNWe/PqbibGAAAwMFIBgEAgP1wEZxpJIMAAAAORjEIAADgYLSJAQCA\n",
              "7XADiXkkgwAAAA5GMggAAGyHVZTNIxkEAABwMJJBAABgO1wzaB7JIAAAgINRDAIAADgYbWIAAGA/\n",
              "tIlNIxkEAABwMJJBAABgOywtYx7JIAAAgINRDAIAADgYbWIAAGA/tIlNIxkEAABwMJJBAABgOzyB\n",
              "xDySQQAAAAcjGQQAAPbDNYOmkQwCAAA4GMUgAACAg9EmBgAAtsMNJOaRDAIAADgYySAAALAfbiAx\n",
              "jWQQAADAwSgGAQAAHIw2MQAAsCFuIDGLZBAAAMDBSAYBAID9cAOJaSSDAAAADkYyCAAA7Idk0DSS\n",
              "QQAAAAejGAQAAHAw2sQAAMB+eDaxaSSDAAAADkYyCAAAbMfgBhLTSAYBAAAcjGIQAADAwWgTAwAA\n",
              "+6FNbBrJIAAAgIORDAIAAPthaRnTSAYBAAAcjGQQAADYjotrBk0jGQQAAHAwikEAAAAHo00MAADs\n",
              "hzaxaSSDAAAADkYyCAAA7IelZUyzLBk8ffq06urqJEl/+9vftG3bNpWXl1s1HAAAAJrAkmJw/fr1\n",
              "ioqK0rXXXqv33ntPCQkJys7OVnJysl5++WUrhgQAAEATWNImXr58ufbv36+amhoNHz5chYWFGjRo\n",
              "kEpKSjRp0iTdfvvtVgwLAABwHjeQmGZJMRgaGqqYmBhJUnh4uAYNGiRJiouLU0gI96wAAAC0FJZU\n",
              "ZiEhIfrss8+0Y8cOnT59Wh988IEkaf/+/aqvr7diSAAAgB8ZQdxaGUuSwUceeUTDhw9XSEiIXnrp\n",
              "JT300EOqqKhQRUWFnn32WSuGBAAAQBNYUgyOHTtWJ0+e9P0+YsQIFRcXq2fPnurcubMVQwIAAPyo\n",
              "FSZ0wXJZ1hkMDQ1VbGysOnbseDmGAwAAgEmmi8Hf/va3Fz0+d+5c38/FxcWaPn26QkJCtGHDBi1c\n",
              "uFDbt29XVFSUtm7dqsTExKbPGAAAAM3GdDH4ySef/OQxl8t/le9f/epXWrp0qaqrqzV27Fg9+uij\n",
              "euONN7R582bNnz9f77zzTtNnDAAA0BieQGKayzCMZu+qp6Sk+IrH6OholZWV+Y4lJyeruLi4uYcE\n",
              "LivvsT7BngLQQEjXL4I9BaDF6PVfK4I2dul984I2dlOYTgYLCgouenz8+PG+n/9vfTly5Ei/8yyo\n",
              "PQEAAPy4KDdMM10MPvXUUz95zOVy+RWDXbp0UW1trTp06KC8vDzf/oqKCrVt27aJUwUAAEBzM10M\n",
              "bt++3fSbvv322xfc365dO7366qum3wcAAADWatLSMufOndOhQ4d09uxZ374L3SFcVVWlw4cPq02b\n",
              "NoqLi1NYWJjCwsKaPlsAAAAzaBObFvDj6LZu3aro6GglJiZq5MiRSk5O1oQJE/zOKS8v17hx4xQV\n",
              "FaWBAwcqLS1NERERWrhwoc6dO9dskwcAAMClCbgYfPjhh/XnP/9Zffv21cmTJ7V+/XpNnjzZ75zM\n",
              "zEzdcccdOnHihJ566inNnTtXhw4dUmVlpRYsWNBskwcAAMClCbgYDAkJUUxMjOrq6iRJv/zlL/Xe\n",
              "e+/5nfPNN9/ozjvvVMeOHTV37ly98cYb6tKli9auXas33nijeWYOAADQyp09e1YTJ05Unz59lJSU\n",
              "pPT0dJWUlFzw3K1btyo+Pl69e/fWrbfeqtraWlPHGhNwMXjFFVdIknr06KHXX39dn3zyiaqqqvzf\n",
              "NCRElZWVkqSSkhKFhoZKOv9YuiuvvDLQIQEAAALiMoK3BWrWrFk6cOCA9uzZowkTJigrK6vBOadO\n",
              "ndKMGTO0efNmffnll+revbseeeSRRo+ZEXAx+Ktf/UpVVVV69NFHtXDhQo0ePbrBgPPmzVNSUpLG\n",
              "jBmjn//8577W8LFjxxQTExPokAAAALbUtm1bjR071vc0tyFDhqi0tLTBeW+99ZZSUlIUHx8vSbr3\n",
              "3nu1cePGRo+ZEfDdxHfccYckaeDAgfryyy8veM5dd92lwYMH67PPPlNSUpLi4uIkSV27dtWbb755\n",
              "0ff3eDzyeDx++9xut9xud6BTBQAAuOwupZZZtWpVgxtzJamsrMwvUOvVq5cqKipUV1d30WNt2jRe\n",
              "6gWcDC5ZskQnT570/X7ixAktW7aswXnx8fGaNGmSoqKidOrUKdPvn5ub61uC5octNzc30GkCAAAn\n",
              "M1xB25payzz++OMqKSm57HVPwMXgli1bFBkZ6fs9KipKW7Zs8TuntrZW999/v8LDwxUZGamwsDDF\n",
              "xMRo9erVjb5/dna2ampq/Lbs7OxApwkAABAUTallli9frvz8fL311ltq165dg+PR0dE6fPiw7/fS\n",
              "0lJ169ZNbdq0uegxMwIuBr1eb4N933//vd/vmZmZ6tatm7Zv365/+7d/U25url555RVt2bJFjz32\n",
              "2EXf3+12q0OHDn4bLWIAABAQI3hboLXMypUrtXHjRr377rsKDw+/4DljxozR7t27tX//fknS6tWr\n",
              "NWXKlEaPmeEyDCOg+15uu+02DR48WPPmzZNhGFqxYoV27dqlTZs2+c5JSEjQX//6V9/vN954o3bu\n",
              "3KkzZ84oJSVFBw4cCGRIoMXxHusT7CkADYR0/SLYUwBajNj/XBm0sb/6twdNn1teXq6ePXsqNjZW\n",
              "7du3l3S+mPzwww+Vk5Oj7t27a86cOZKkgoICLVy4UHV1dUpISFBeXp7vyW4XO9aYgIvBr7/+Wr/8\n",
              "5S+1Y8cOuVwuDR8+XOvXr1e3bt185wwYMEAffvih2rVrp8rKSv3TP/2Tdu3a5Tv26aefBjIk0OJQ\n",
              "DKIlohgEftRaisGWIOC7ibt376733ntPp0+fliRdffXVDc6ZOnWqbrjhBg0bNkyFhYWaP3++pPNL\n",
              "y/xw6zQAAIBleDaxaQEXg3V1dVq1apUOHjyo1atX6+DBgzp8+LBuvvlm3zkLFixQcnKy9u7dqylT\n",
              "pmjEiBGSzi8ts3fv3mabPAAAAC5NwMXg/fffr/r6eu3YsUOSFBkZqdtvv11/+ctf/M5LT09Xenp6\n",
              "88wSAAAgAE15EohTBXw38Z///Gc999xzatu2rSQpPDxc586d8zunrq5OK1asUHJyssLDwxUVFaW0\n",
              "tLRGF5wGAADA5RVwMvhDEfiD+vr6BsvN3HPPPXK5XFqyZIleeeUVXX/99erbt68WL16so0ePaubM\n",
              "mZc2awAAADSLgIvBxMREvfDCC/J6vSopKdETTzzhuybwBx988IE+//xzSdK4ceM0cuRILV26VKNG\n",
              "jVJaWhrFIAAAsBZtYtMCbhOvXLlSRUVFOnbsmIYOHaqQkBA98cQTfueEhoaqvr5eknT27FmdOXNG\n",
              "0vmnlYSEBDwkAAAALBJQMlhfX69HHnlEzzzzjJ555pmfPC8jI0MZGRm65ZZbVFBQoIkTJ0qSqqur\n",
              "fUUiAACAZUgGTQsopgsNDdX27dsbPe/JJ5/UlClTdPToUc2aNUs5OTmSpKuuukrvv/9+kyYKAACA\n",
              "5hfwNYNjx47VY489pszMTF1zzTW+/R06dPD97HK5lJWV1eC1brdbnTt3buJUAQAAzGFpGfMCfhzd\n",
              "/73mz+VyyTAMuVwu0+3frVu3aty4cYHNEmhheBwdWiIeRwf8KO7J4D2OrmRB63ocXcB3c3i9Xt/2\n",
              "w7IygVwHuGXLlkCHBAAAgEUCbhMH4quvvlJZWZkkKTo6WrGxsXruueesHBIAAEAyXMGeQathSTG4\n",
              "b98+TZs2TUeOHFF0dLQkqaysTD179tS6devUr18/K4YFAABAgCwpBqdPn65FixZp0qRJfvs3bdqk\n",
              "6dOn66OPPrJiWAAAgPO4gcQ0S1aArq6ublAIStLkyZNVU1NjxZAAAABoAkuKwaioKG3YsMHvmcVe\n",
              "r1d5eXmKjIy0YkgAAAA0gSVt4ry8PM2ePVsPPPCAunXrJkmqqKhQamqq1q1bZ8WQAAAAPqwzaJ4l\n",
              "xWBcXJy2bdum48eP68iRI5Kknj17qlOnTlYMBwAAgCaydGmZTp06UQACAIDLj2TQNEuuGQQAAEDr\n",
              "YGkyCAAAEAxcM2geySAAAICDUQwCAAA4GG1iAABgP7SJTSMZBAAAcDCSQQAAYD8kg6aRDAIAADgY\n",
              "xSAAAICD0SYGAAC2wzqD5pEMAgAAOBjFIAAAgINRDAIAADgY1wwCAAD74ZpB00gGAQAAHIxiEAAA\n",
              "wMFoEwMAANthaRnzSAYBAAAcjGQQAADYD8mgaSSDAAAADkYxCAAA4GC0iQEAgP3QJjaNZBAAAMDB\n",
              "SAYBAIDtsLSMeSSDAAAADkYyCAAA7Idk0DSSQQAAAAejGAQAAHAw2sQAAMB2uIHEPJJBAAAAByMZ\n",
              "BAAA9kMyaBrJIAAAgINRDAIAADgYbWIAAGA/tIlNIxkEAABwMJJBAABgOywtYx7JIAAAgIORDAIA\n",
              "APshGTSNZBAAAMDBKAYBAAAcjDYxAACwH9rEppEMAgAAOBjJIAAAsB2WljGPZBAAAMDBKAYBAAAc\n",
              "jDYxAACwH9rEppEMAgAAOBjJIAAAsB1uIDGPZBAAACBI5s6dq169esnlcqm4uPiC5zz//PNKTk72\n",
              "bVFRUbr11lslSaWlpQoNDfU7fvDgwYDmQDIIAADsp5Ukg5MnT9bChQs1bNiwnzwnMzNTmZmZvt8T\n",
              "EhJ05513+n5v3779TxaSZlAMAgAABMnw4cMDOv/DDz9UZWWlxo8f32xzoBgEAABoRh6PRx6Px2+f\n",
              "2+2W2+2+5Pdeu3at7rrrLl1xxRW+fadPn9bgwYNVX1+viRMnavHixQoNDTX9nlwzCAAA7McI3pab\n",
              "m6uwsDC/LTc395L/pNOnT+ull17SjBkzfPu6deumo0ePateuXSosLFRRUZFWrFgR0PtSDAIAADSj\n",
              "7Oxs1dTU+G3Z2dmX/L6vvvqq+vfvr379+vn2ud1ude7cWZIUERGhu+++W0VFRQG9L21iAABgO64g\n",
              "jt1cLeG/t3btWr9UUJIqKyvVsWNHXXHFFfJ4PMrPz1dKSkpA70syCAAAECSzZ89Wjx49VF5eroyM\n",
              "DMXFxUmSsrKyVFBQ4DvvwIEDKi4u1u233+73+h07diglJUVJSUlKTU1V165dtXjx4oDm4DIMo5Xc\n",
              "fA20HN5jfYI9BaCBkK5fBHsKQIuR+OBTQRt778r/J2hjNwVtYgAAYD9EXabRJgYAAHAwkkEAAGA7\n",
              "PJvYPJJBAAAAB6MYBAAAcDDaxAAAwH5oE5tGMggAAOBgJIMAAMB+SAZNIxkEAABwMJJBAABgOywt\n",
              "Yx7JIAAAgINRDAIAADgYbWIAAGA/tIlNIxkEAABwMJJBAABgO9xAYh7JIAAAgINRDAIAADgYbWIA\n",
              "AGA/tIlNIxkEAABwMJJBAABgO9xAYh7JIAAAgIO1imQwPeS2YE8B8POu94tgTwEAcDEkg6aRDAIA\n",
              "ADgYxSAAAICDtYo2MQAAQEBoE5tGMggAAOBgJIMAAMB2WFrGPJJBAAAAB6MYBAAAcDDaxAAAwH5o\n",
              "E5tGMggAAOBgJIMAAMB2XAbRoFkkgwAAAA5GMggAAOyHYNA0kkEAAAAHoxgEAABwMNrEAADAdngC\n",
              "iXkkgwAAAA5GMggAAOyHZNA0kkEAAAAHoxgEAABwMNrEAADAdriBxDySQQAAAAcjGQQAAPZDMmga\n",
              "ySAAAICDkQwCAADb4ZpB80gGAQAAHIxiEAAAwMFoEwMAAPuhTWwaySAAAICDkQwCAADb4QYS80gG\n",
              "AQAAHIxiEAAAwMFoEwMAAPsx6BObRTIIAADgYCSDAADAdriBxDySQQAAAAcjGQQAAPZDMmgaySAA\n",
              "AICDUQwCAAA4GG1iAABgOy5vsGfQepAMAgAAOBjJIAAAsB9uIDGNZBAAAMDBKAYBAAAcjDYxAACw\n",
              "HZ5AYh7JIAAAgIORDAIAAPsxiAbNIhkEAAAIkrlz56pXr15yuVwqLi6+4Dnvv/++rrrqKiUnJ/u2\n",
              "7777znd87dq16t27t6677jrNnDlT586dC2gOFIMAAMB2XEbwtkBMnjxZO3bsUExMzEXPu/7661Vc\n",
              "XOzbrrrqKknSoUOH9PDDD6uoqEglJSX65ptv9OyzzwY0B4pBAACAIBk+fLh69OjR5Ndv2rRJ48eP\n",
              "V9euXeVyuTRnzhxt3LgxoPegGAQAAGhGHo9HtbW1fpvH47mk9zx48KBSU1M1ePBgrV692re/rKzM\n",
              "L1Xs1auXysrKAnpvikEAAGA/RvC23NxchYWF+W25ublN/lNSU1NVXl6u3bt36/XXX9eaNWv0yiuv\n",
              "NPn9/h7FIAAAQDPKzs5WTU2N35adnd3k9+vQoYPCwsIkST169NAdd9yhoqIiSVJ0dLQOHz7sO7e0\n",
              "tFTR0dEBvT/FIAAAsJ1g3kDidrvVoUMHv83tdjf5b6moqJDX65Ukffvtt9q6datSUlIkSZMmTVJB\n",
              "QYGOHTsmwzC0Zs0aTZkyJaD3pxgEAAAIktmzZ6tHjx4qLy9XRkaG4uLiJElZWVkqKCiQJL322msa\n",
              "MGCAkpKSNGTIEKWnpyszM1OSFBsbq2XLlmno0KGKi4tTp06dNHv27IDm4DKMlr8qY3rIbcGeAuDn\n",
              "Xe+rwZ4CAOAibvrF8qCNXfT6/KCN3RQ8gQQAANhPy8+6WgzaxAAAAA5GMggAAGwn0CeBOBnJIAAA\n",
              "gINRDAIAADgYbWIAAGA/tIlNIxkEAABwMJJBAABgO9xAYh7JIAAAgIORDAIAAPvxEg2aRTIIAADg\n",
              "YBSDAAAADkabGAAA2A9dYtNIBgEAAByMZBAAANgOS8uYRzIIAADgYBSDAAAADkabGAAA2I9Bn9gs\n",
              "kkEAAAAHIxkEAAC2ww0k5pEMAgAAOBjJIAAAsB+SQdNIBgEAAByMYhAAAMDBaBMDAADbcbG0jGmX\n",
              "LRmsqqq6XEMBAADAJEuKwVWrVvl+PnTokPr376/u3bvr2muv1aeffmrFkAAAAD/yBnFrZSwpBvPy\n",
              "8nw//+Y3v9G9996r7777TsuXL9eDDz5oxZAAAABoAsvbxJ9//rnuu+8+SdKkSZN0/Phxq4cEAACA\n",
              "SZbcQFJdXa0//OEPMgxD586d8ztmcEEnAACwGDeQmGdJMRgdHa2VK1dKkrp06aKjR4/qZz/7mSor\n",
              "K3XllVdaMSQAAACawJJi8P3337/g/sjISP3xj3+0YkgAAIAfEQyaZsk1g9XV1RfcHxoaqnbt2lkx\n",
              "JAAAAJrAkmKwU6dOmjBhggoKCuT1tsJ7rAEAQOtmGMHbWhlLisHY2FgNHz5cv/71r9WjRw/9+te/\n",
              "1hdffGHFUAAAALgElhSDV199tebNm6fPP/9cmzZt0okTJzRo0CANHz5c69evt2JIAAAANIHl6wz+\n",
              "/Oc/1+9+9ztVVFRo2rRpevbZZ60eEgAAOJzLCN7W2lhSDF5oLcGrr75aM2bM0I4dO6wYEgAAAE1g\n",
              "ydIy27Zts+JtAQAAzGmFN3IEiyXFYEREhCSpqqpKhw8fVps2bRQXF6e2bdtaMRwAAACayJI2cXl5\n",
              "ucaNG6eoqCgNHDhQaWlpioiI0MKFCxs8ng4AAADBY0kxmJmZqTvuuEMnTpzQU089pblz5+rQoUOq\n",
              "rKzUggULrBgSAADAx+UN3tbaWFIMfvPNN7rzzjvVsWNHzZ07V2+88Ya6dOmitWvX6o033rBiSAAA\n",
              "ADSBJcVgSEiIKisrJUklJSUKDQ2VdP5xdFdeeaUVQwIAAPyIJ5CYZskNJPPmzVNSUpKSkpK0e/du\n",
              "rVmzRpJ07NgxxcTEWDEkAAAAmsCSYvCuu+7S4MGD9dlnnykpKUlxcXGSpK5du+rNN9+86Gs9Ho88\n",
              "Ho/fPq9RrxBXqBVTBQAAdtT6ArqgsewJJPHx8Zo0aZKioqJ06tQp06/Lzc1VWFiY33ZI+62aJgAA\n",
              "gKNZUgzW1tbq/vvvV3h4uCIjIxUWFqaYmBitXr260ddmZ2erpqbGb7tW8VZMEwAAwPEsaRNnZmYq\n",
              "NTVV27dv1wsvvKAuXbooLS1NOTk5qqqq0uLFi3/ytW63W263228fLWIAABAIVyu8kSNYXMaFHiR8\n",
              "iRISEvTXv/7V9/uNN96onTt36syZM0pJSdGBAwcCer/0kNuae4rAJXnX+2qwpwAAuIjRNz4StLHf\n",
              "2flw0MZuCkuSQZfLpTNnzqhdu3aqrKxUXV2dJKldu3YsLQMAAKxHMmiaJcXg1KlTdcMNN2jYsGEq\n",
              "LCzU/PnzJZ1fWsblclkxJAAAAJrAkmJwwYIFSk5O1t69ezVlyhSNGDFC0vmlZfbu3WvFkAAAAGgC\n",
              "S4pBSUpPT1d6erpVbw8AAPDTWuEzgoPFkqVl6urqtGLFCiUnJys8PFxRUVFKS0trdMFpAAAAXF6W\n",
              "JIP33HOPXC6XlixZoldeeUXXX3+9+vbtq8WLF+vo0aOaOXOmFcMCAABIYmmZQFhSDH7wwQf6/PPP\n",
              "JUnjxo3TyJEjtXTpUo0aNUppaWkUgwAAAC2EJcVgaGio6uvrFRoaqrNnz+rMmTOSpKioKIWEWPYE\n",
              "PAAAgPNIBk2zpBjMyMhQRkaGbrnlFhUUFGjixImSpOrqatXX11sxJAAAAJrAkpjuySef1JQpU3T0\n",
              "6FHNmjVLOTk5kqSrrrpK77//vhVDAgAAoAksewJJVlZWg/1ut1udO3e2YkgAAIAf0SY27bJfwLd1\n",
              "69bLPSQAAAB+wmUvBrds2XK5hwQAAE7jDeLWylj2BBJJ+uqrr1RWViZJio6OVmxsrJ577jkrhwQA\n",
              "AEAALCkG9+3bp2nTpunIkSOKjo6WJJWVlalnz55at26d+vXrZ8WwAAAACJAlxeD06dO1aNEiTZo0\n",
              "yW//pk2bNH36dH300UdWDAsAACCJJ5AEwpJrBqurqxsUgpI0efJk1dTUWDEkAAAAmsCSYjAqKkob\n",
              "NmyQ1/vjVZRer1d5eXmKjIy0YkgAAIAfGUbwtlbGkmIwLy9P69atU0REhPr27au+ffsqIiLCtx8A\n",
              "AADS3Llz1atXL7lcLhUXF1/wnPfee0833HCD+vXrp/79+2vhwoW+wK20tFShoaFKTk72bQcPHgxo\n",
              "DpZcMxgXF6dt27bp+PHjOnLkiCSpZ8+e6tSpkxXDAQAA+GslCd3kyZO1cOFCDRs27CfP6dixo156\n",
              "6SXFxsbq7NmzuuWWW7R+/XpNnz5dktS+ffufLCTNsHRpmU6dOlEAAgAA/IThw4c3ek5KSorv57Zt\n",
              "2yo5OVmlpaXNNgdLi0EAAACn8Xg88ng8fvvcbrfcbvclv/exY8e0adMmvye6nT59WoMHD1Z9fb0m\n",
              "TpyoxYsXKzQ01PR7XvYnkAAAAFguiDeQ5ObmKiwszG/Lzc295D+ptrZW//zP/6yFCxdq0KBBkqRu\n",
              "3brp6NGj2rVrlwoLC1VUVKQVK1YE9L4UgwAAAM0oOztbNTU1flt2dvYlvee3336rMWPGaMKECXrw\n",
              "wQd9+91utzp37ixJioiI0N13362ioqKA3ps2MQAAsJ8gPiO4uVrCPzh16pTGjBmjMWPG6KGHHvI7\n",
              "VllZqY4dO+qKK66Qx+NRfn6+3zWGZpAMAgAABMns2bPVo0cPlZeXKyMjQ3FxcZKkrKwsFRQUSJJW\n",
              "rVqljz76SPn5+b7lYx577DFJ0o4dO5SSkqKkpCSlpqaqa9euWrx4cUBzcBlGy7/3Oj3ktmBPAfDz\n",
              "rvfVYE8BAHARY/oHVhA1p//vs8eCNnZT0CYGAAC2w7OJzaNNDAAA4GAkgwAAwH5IBk0jGQQAAHAw\n",
              "ikEAAAAHo00MAADsx0ub2CySQQAAAAcjGQQAAPbDDSSmkQwCAAA4GMkgAACwH5JB00gGAQAAHIxi\n",
              "EAAAwMFoEwMAAPuhTWwaySAAAICDkQwCAAD7YdFp00gGAQAAHIxiEAAAwMFoEwMAAPsxvMGeQatB\n",
              "MggAAOBgJIMAAMB+WFrGNJJBAAAAByMZBAAA9sPSMqaRDAIAADgYxSAAAICD0SYGAAD2ww0kppEM\n",
              "AgAAOBjJIAAAsB+SQdNIBgEAAByMYhAAAMDBaBMDAAD7oU1sGskgAACAg5EMAgAA+/F6gz2DVoNk\n",
              "EAAAwMFIBgEAgP1wzaBpJIMAAAAORjEIAADgYLSJAQCA/dAmNo1kEAAAwMFIBgEAgP14SQbNIhkE\n",
              "AABwMIpBAAAAB6NNDAAAbMcweAKJWSSDAAAADkYyCAAA7IcbSEwjGQQAAHAwkkEAAGA/LDptGskg\n",
              "AACAg1EMAgAAOBhtYgAAYD9elpYxi2QQAADAwUgGAQCA/XADiWkkgwAAAA5GMQgAAOBgtIkBAIDt\n",
              "GNxAYhrJIAAAgIORDAIAAPvhBhLTSAYBAAAcjGQQAADYj5dk0CySQQAAAAejGAQAAHAw2sQAAMB+\n",
              "DJaWMYtkEAAAwMFIBgEAgO0Y3EBiGskgAACAg1EMAgAAOBhtYgAAYD/cQGIaySAAAICDkQwCAADb\n",
              "4QYS80gGAQAAgmTu3Lnq1auXXC6XiouLf/K8tWvXqnfv3rruuus0c+ZMnTt3ztQxMygGAQCA/Rje\n",
              "4G0BmDx5snbs2KGYmJifPOfQoUN6+OGHVVRUpJKSEn3zzTd69tlnGz1mFsUgAABAkAwfPlw9evS4\n",
              "6DmbNm3S+PHj1bVrV7lcLs2ZM0cbN25s9JhZXDMIAADQjDwejzwej98+t9stt9vdpPcrKyvzSw57\n",
              "9eqlsrKyRo+Z1SqKwXe9rwZ7Crbg8XiUm5ur7OzsJn8hgebEdxItDd9J+whm7bB06VItW7bMb9+S\n",
              "JUu0dOnS4EyoEbSJHcTj8WjZsmUN/t8KECx8J9HS8J1Ec8jOzlZNTY3flp2d3eT3i46O1uHDh32/\n",
              "l5aWKjo6utFjZlEMAgAANCO3260OHTr4bZeSNE+aNEkFBQU6duyYDMPQmjVrNGXKlEaPmUUxCAAA\n",
              "ECSzZ89Wjx49VF5eroyMDMXFxUmSsrKyVFBQIEmKjY3VsmXLNHToUMXFxalTp06aPXt2o8fMchmG\n",
              "waqMDlFbW6uwsDDV1NSoQ4cOwZ4OwHcSLQ7fSTgRyaCDuN1uLVmyhIui0WLwnURLw3cSTkQyCAAA\n",
              "4GAkgwAAAA5GMQgAAOBgFIMAAAAORjHYgn355Zf6+c9/rj59+mjw4MH67LPPGpzj9Xo1f/58JSQk\n",
              "KD4+XjNmzND333/vO/7kk08qISFB/fr10y9+8QtVV1f7jm3YsEFJSUlKSEjQqFGj/B5fc7GxzcwL\n",
              "9hTM7+To0aOVmJio5ORk3XTTTfrkk098x958802lpqYqOTlZCQkJysvLs+YDQIsTrO/kyZMnlZyc\n",
              "7Nv69OmjNm3a6G9/+5skacSIEbr22mt9x5966ilrPwjgUhhosUaOHGk8//zzhmEYxquvvmoMGjSo\n",
              "wTnPPvusMXLkSMPj8Rher9fIysoy/uM//sMwDMN45513jL59+xq1tbWGYRjGI488Ytx7772GYRjG\n",
              "vn37jC5duhhff/21YRiGsWHDBmPs2LGmxjYzL9hTML+TVVVVvp/z8/ONxMREwzAMw+v1Gh07djT2\n",
              "7NljGIZhHDp0yHC73b4xYG/B/E7+X08++aQxbtw43+9paWnG66+/3lx/JmApisEW6ptvvjHat29v\n",
              "nDt3zjCM8/+D16VLF+PLL7/0O+++++4zHnvsMd/vr732mjFgwADDMM7/4zRz5kzfsY8//tho3769\n",
              "YRjn/9FMT0/3HTt58qThcrmMEydOXHRss/OC/QTzO/n3nn/+eSMpKck3j4iICOOPf/yjYRiGsWfP\n",
              "HqN79+6Gx+Nphr8aLVlL+k7Gx8f7FX8Ug2hNaBO3UEeOHFG3bt3Upk0bSZLL5VJ0dLRf20ySBg4c\n",
              "qIKCAtXW1urcuXN65ZVXVFpa6jtWWFjoe0TNiy++qG+//VZ/+9vflJSUpN27d+uLL76QJL3wwgsy\n",
              "DEOHDx++6Nhm5wX7CeZ38gdTp05Vz5499fDDD2vDhg2+ebz88su69dZbFRMTo2HDhikvL09XXnnl\n",
              "ZfhUEEwt4TspSX/6059UVVWlcePG+e3/9a9/rQEDBuj222/XV199ZdGnAFw6isFWbvr06RozZozS\n",
              "0tKUlpbmu25FkkaOHKn58+dr3LhxGjJkiDp16iRJatOmjXr37q01a9Zo6tSpGjRokE6ePKnw8HDf\n",
              "a4GmsvI7uX79eh05ckSPPvqoFi1aJEmqq6vTo48+qvz8fB0+fFjbtm3TXXfdpRMnTlz+Px4tktX/\n",
              "Tq5du1ZTp071279hwwbt379fe/fu1U033dSgUARalGDGkvhpTW3Hbty40Rg2bNgFj+3cudPo0aPH\n",
              "BY9VVFQYbrfbOH36NG1iXFAwv5MX0rZtW+PEiRPGrl27jN69e/sdGzRokPHOO+809iehlWsJ38lv\n",
              "v/3WuOaaa4x9+/ZddEy3233B9jLQEpAMtlCdO3dWamqqXnjhBUnSa6+9ph49evgeYP2Ds2fPqqqq\n",
              "SpJ04sQJ/fu//7sWLlzoO15RUSFJOnPmjHJyci54rL6+XosWLdJ9992ndu3aXXRss/OC/QTzO1ld\n",
              "Xa2vv/7ad97mzZsVGRmpiIgI9ezZUxUVFdq3b58kqaSkRAcPHtT1119vwaeAliSY38kfvPzyy0pK\n",
              "SlJ8fLxvX11dnb755hvf76+99pq6dOmiyMjI5vrTgeYV7GoUP23//v3GkCFDjN69exsDBw409u7d\n",
              "axiGYcyYMcPYsmWLYRiGcezYMSM+Pt7o16+fER8fb/z3f/+333skJCQY/fr1M+Li4oxly5YZXq/X\n",
              "d2zMmDFG3759jdjYWOOBBx4wzp492+jYjR2DvQXrO1laWmoMHjzYSEhIMBITE41Ro0YZn3zyie91\n",
              "//M//+M7lpCQYLz44osWfxJoKYL576RhGMaNN95o/P73v/fbd+rUKWPgwIG+7+TNN99sFBcXW/Hn\n",
              "A82CZxMDAAA4GG1iAAAAB6MYBAAAcDCKQQBBlZOToxdffPGi52RlZWn79u2XaUYA4CxcMwigWdTV\n",
              "1bFOJQC0QiSDAC7K5XLpoYceUkpKivr06eOX4rlcLi1ZskSDBw9Wdna2vv32W82cOVM33HCDEhMT\n",
              "NWvWLH3//feSpKNHj2ry5MkaMGCAEhMT9fDDD0s6vyDwf/7nf0qS/vCHPygxMVHJyclKSEjQli1b\n",
              "JEkjRozQ5s2bJUmVlZW69dZbNWDAACUkJOiZZ57xzadXr17KycnRjTfeqGuvvVaPPvroZfiEAKB1\n",
              "4//GA2iUy+XSJ598oq+++kqDBg3S0KFD1atXL0lSaGiodu3aJUmaNWuWbrrpJj333HMyDEMzZ87U\n",
              "qlWrtGDBAv3yl7/U6NGjtWnTJknS8ePHG4zz0EMP6ZlnntGNN94or9er2traBuc88MADuv7665Wf\n",
              "n6/KykoNHDhQSUlJGjJkiCSpurpaO3fu1IkTJ3TdddcpMzNTP/vZzyz6ZACg9aMYBNCorKwsSVJs\n",
              "bKyGDx+u//3f//UVg3fffbfvvM2bN2vnzp1auXKlJOm7775TaGioTp06pR07dujtt9/2nfvDY7/+\n",
              "r1GjRulXv/qVJk+erNGjRys5ObnBOYWFhfr4448lnV90+NZbb1VhYaGvGPzXf/1XSVJUVJRiY2N1\n",
              "6NAhikEAuAiKQQABc7lcvp+vueYa38+GYei1115Tnz59/M4/deqUqfdduXKlPvvsM23fvl3Tpk3T\n",
              "nXfe6fc0iMbmIklt27b1/RwaGqq6ujpTYwOAU3HNIIBGPf/885Kk0tJSFRUV6aabbrrgeRMnTtQT\n",
              "TzzhK8CqqqpUUlKia665RsOHD9eKFSt8516oTbx//371799f999/v+655x79+c9/bnDOLbfcouee\n",
              "e873Hvn5+UpPT7/kvxEAnIpiEECj6uvrlZKSotGjR+u3v/2tr0X895566ildddVVSk5OVmJiokaN\n",
              "GqXS0lJJ0oYNG/SXv/xF/fv3V3Jysp5++ukGr//Nb36j/v37KyUlRRs2bNDSpUsbnPPb3/5W+/bt\n",
              "04ABAzRy5EgtXrxY//AP/9CMfy0AOAtLywC4KJfLpaqqKoWHhwd7KgAAC5AMAgAAOBg3kAC4KJoH\n",
              "AGBvJIMAAAAORjEIAADgYBSDAAAADkYxCAAA4GAUgwAAAA5GMQgAAOBgFIMAAAAORjEIAADgYBSD\n",
              "AAAADvb/A9Qqxp9PeM9qAAAAAElFTkSuQmCC\n",
              "\">\n",
              "      </div>\n",
              "      <script type=\"text/javascript\">\n",
              "        (() => {\n",
              "          const chartElement = document.getElementById(\"chart-7ef68f04-8896-4e2f-85cc-994b942c7639\");\n",
              "          async function getCodeForChartHandler(event) {\n",
              "            const chartCodeResponse =  await google.colab.kernel.invokeFunction(\n",
              "                'getCodeForChart', [\"chart-7ef68f04-8896-4e2f-85cc-994b942c7639\"], {});\n",
              "            const responseJson = chartCodeResponse.data['application/json'];\n",
              "            await google.colab.notebook.addCell(responseJson.code, 'code');\n",
              "          }\n",
              "          chartElement.onclick = getCodeForChartHandler;\n",
              "        })();\n",
              "      </script>\n",
              "      <style>\n",
              "        .colab-quickchart-chart-with-code  {\n",
              "            display: block;\n",
              "            float: left;\n",
              "            border: 1px solid transparent;\n",
              "        }\n",
              "\n",
              "        .colab-quickchart-chart-with-code:hover {\n",
              "            cursor: pointer;\n",
              "            border: 1px solid #aaa;\n",
              "        }\n",
              "      </style>"
            ]
          },
          "metadata": {}
        },
        {
          "output_type": "display_data",
          "data": {
            "text/plain": [
              "from matplotlib import pyplot as plt\n",
              "import seaborn as sns\n",
              "import pandas as pd\n",
              "plt.subplots(figsize=(8, 8))\n",
              "df_2dhist = pd.DataFrame({\n",
              "    x_label: grp['f1-score'].value_counts()\n",
              "    for x_label, grp in _df_5.groupby('recall')\n",
              "})\n",
              "sns.heatmap(df_2dhist, cmap='viridis')\n",
              "plt.xlabel('recall')\n",
              "_ = plt.ylabel('f1-score')"
            ],
            "text/html": [
              "      <div class=\"colab-quickchart-chart-with-code\" id=\"chart-cef6c783-12a8-4b79-95e5-8840d91fbe61\">\n",
              "        <img style=\"width: 180px;\" src=\"data:image/png;base64,iVBORw0KGgoAAAANSUhEUgAAAnwAAAKfCAYAAAD0PRV6AAAAOXRFWHRTb2Z0d2FyZQBNYXRwbG90\n",
              "bGliIHZlcnNpb24zLjcuMSwgaHR0cHM6Ly9tYXRwbG90bGliLm9yZy/bCgiHAAAACXBIWXMAAA9h\n",
              "AAAPYQGoP6dpAAAwBUlEQVR4nO3de5RWdb0/8M8DHAdJBbl64d5oQMQMiB415CIRZKScpBP9CsEj\n",
              "l660FqJGFuiqzlRmHlutIsujiGUmmpF6skTrhLlOF0VOqCVH7g4QykUiRmH27w+XEzsYZXA2z/j1\n",
              "9TrrWcvZzzP7+529nkWf8/7s73eXsizLAgCAZLUq9wQAACiWgg8AIHEKPgCAxCn4AAASp+ADAEic\n",
              "gg8AIHEKPgCAxCn4AAASp+ADAEicgg8AoEz27NkTEyZMiFNPPTWqqqpizJgxsWrVqoN+9p577ol+\n",
              "/frFKaecEu9///tj586dhzyOgg8AoIxmzJgRf/rTn+Lxxx+PCy64IKZNm3bAZ3bt2hWXXHJJ3H33\n",
              "3fH000/HSSedFF/4whcOeQwFHwBAmbRt2zbOO++8KJVKERFx5plnxpo1aw743H/913/F4MGDo1+/\n",
              "fhER8fGPfzxuu+22Qx6nTbPMFgCAiIioq6uLurq63LGKioqoqKh4zd+9/vrr44ILLjjg+Lp166JX\n",
              "r14NP/fu3Ttqa2tj79690abNa5dzb4iCb0yrD5R7CpBz/7OPl3sKcIBWJ/y53FOAFqN+06llG7tm\n",
              "wf+Lq6++Onds/vz5cdVVV73q7/37v/97rFq1KpYuXdrsc3pDFHwAAG8Uc+fOjdmzZ+eOvVa697Wv\n",
              "fS3uuuuueOCBB6Jdu3YHvN+zZ8/4xS9+0fDzmjVr4sQTTzykdC/CPXwAQILqy/h/FRUVcdxxx+Ve\n",
              "r1bwff3rX4/bbrstfvGLX0SHDh0O+plx48bFo48+Gk899VRERHzrW9+KSZMmHfL1kPABAJTJhg0b\n",
              "4tJLL42+ffvGqFGjIuLlNPB//ud/Yt68eXHSSSfFRz/60Tj22GPje9/7XkyYMCH27t0bAwcOjIUL\n",
              "Fx7yOKUsy7Ki/ojm4h4+Whr38NESuYcP/m7vpsqyjd3mhIPvo1dOEj4AIDn7svqyjd0Siyv38AEA\n",
              "JK4lFqEAAK9LfbT4O9aOKAkfAEDiFHwAAInT0gUAklMf5Vu00RJJ+AAAEifhAwCSs6/lbzN8REn4\n",
              "AAASJ+EDAJJjW5Y8CR8AQOIUfAAAidPSBQCSs09LN0fCBwCQOAkfAJAcizbyJHwAAIlT8AEAJE5L\n",
              "FwBIjidt5En4AAASJ+EDAJJTX+4JtDASPgCAxEn4AIDk2Hg5T8IHAJA4BR8AQOK0dAGA5OzT0c2R\n",
              "8AEAJE7CBwAkx7YseRI+AIDEKfgAABKnpQsAJGdflMo9hRZFwgcAkDgJHwCQnHrbsuRI+AAAEifh\n",
              "AwCS4x6+PAkfAEDiFHwAAInT0gUAkqOlmyfhAwBInIQPAEhOfSbh25+EDwAgcQo+AIDEaekCAMmx\n",
              "aCNPwgcAkDgJHwCQnH0yrRxXAwAgcRI+ACA5tmXJk/ABACROwQcAkDgtXQAgObZlyZPwAQAkTsIH\n",
              "ACRnXybT2p+rAQCQOAUfAEDitHQBgOTUy7RyXA0AgMRJ+ACA5NiWJU/CBwCQOAkfAJAc27LkuRoA\n",
              "AIlT8AEAJE5LFwBITr1FGzkSPgCAxEn4AIDk7JNp5bgaAACJU/ABACROSxcASI59+PJcDQCAxEn4\n",
              "AIDk1Mu0clwNAIDESfgAgOTsy2y8vD8JHwBA4hR8AACJ09IFAJLjSRt5rgYAQOIkfABAcuptvJzj\n",
              "agAAJE7BBwCQOC1dACA5Fm3kuRoAAImT8AEAyfGkjTwJHwBA4hR8AACJ09IFAJJTL9PKcTUAABIn\n",
              "4QMAkrPPkzZyXA0AgMRJ+ACA5NSHbVn2J+EDAEicgg8AIHFaugBAcizayHM1AAASJ+EDAJKzT6aV\n",
              "42oAACROwQcAkDgtXQAgOfWZffj2J+EDAEichA8ASI5FG3muBgBA4iR8AEBy6m28nONqAAAkTsEH\n",
              "AJA4LV0AIDn7wrYs+5PwAQAkTsIHACTHoo08VwMAIHEKPgCAxGnpAgDJsWgjT8IHAJA4CR8AkByL\n",
              "NvJcDQCAxEn4AIDk7JPw5bgaAACJU/ABACROSxcASE69bVlyJHwAAGUya9as6N27d5RKpVi+fPlB\n",
              "P1NfXx+zZ8+OAQMGxKBBg2LUqFGxatWqJo2j4AMAkrMva1W2V1NMnDgxli1bFr169Wr0M0uWLImH\n",
              "H344Hn/88VixYkWMHj06PvvZzzZpHC1dAIAyGT58+Gt+plQqRV1dXezZsyfatGkTO3fujO7duzdp\n",
              "HAUfAEAzqquri7q6utyxioqKqKioOKzzve9974uHHnooTjjhhDj22GPj5JNPjl/96ldNOoeWLgCQ\n",
              "nPqsVLZXTU1NtG/fPveqqak57L/l97//ffzxj3+MjRs3xrPPPhujR4+Oj370o006h4QPAKAZzZ07\n",
              "N2bPnp07drjpXkTELbfcEueee2506NAhIiKmTJkS7373u5t0DgkfAJCcfdGqbK+Kioo47rjjcq/X\n",
              "U/D17ds3HnzwwXjxxRcjIuKee+6JgQMHNukcCj4AgDKZOXNmdO/ePTZs2BBjx46NysrKiIiYNm1a\n",
              "LFmyJCIiPvGJT0SfPn2iqqoqBg0aFEuXLo1vf/vbTRqnlGVZ1uyzb2ZjWn2g3FOAnPuffbzcU4AD\n",
              "tDrhz+WeArQYlz9evtrhq1V3lG3sxkj4AAASp+ADAEicVboAQHLqZVo5rgYAQOIkfABAcvZlpXJP\n",
              "oUUpJOHbvn17EacFAOAwFFLwde3aNS644IL46U9/GvX19UUMAQDAISqk4OvTp08MHz48rrjiiuje\n",
              "vXt85jOfiT//2f5QAMCRUc5n6bZEhRR8b3nLW+LSSy+NJ554IhYvXhxbt26NoUOHxvDhw+OWW24p\n",
              "YkgAABpR+Crds88+O773ve9FbW1tTJkyJW644YaihwQA3uTqs1Zle7VEhczqYE9re8tb3hKXXHJJ\n",
              "LFu2rIghAQBoRCHbsixdurSI0wIAHJJ90TLvpSuXQhK+jh07HnBs27ZtRQwFAMBrKKTgW758eVRX\n",
              "V8eQIUNi5cqV8d73vjdOPvnk6NmzZ6xYsaKIIQEAaEQhBd+nP/3puOqqq2LWrFlx3nnnxaRJk2L3\n",
              "7t3xjW98I+bMmVPEkAAADWzLkldIwbdz586YMGFCTJ06NbIsi8mTJ0dExIQJE2LLli1FDAkAQCMK\n",
              "WbSx/yrdUaNGNfoeAEARWur2KOVSyNXo1q1b7Ny5MyIiFi5c2HC8trY22rZtW8SQAAA0opCE7/77\n",
              "7z/o8Xbt2sUdd9xRxJAAADSikILvFdu2bYu1a9dGmzZtorKyMtq3bx/t27cvckgAgKi3D19OIS3d\n",
              "DRs2xPjx46Nz585x2mmnxYgRI6Jjx45x+eWXx0svvVTEkAAANKKQgu/iiy+OD33oQ7F169a47rrr\n",
              "YtasWbF69erYsmVLXHbZZUUMCQDQYF9WKturJSqk4Nu8eXN8+MMfjuOPPz5mzZoV9957b3Tr1i1u\n",
              "vPHGuPfee4sYEgCARhRyD1+rVq1iy5Yt0bVr11i1alW0bt06IiJat24dRx11VBFDAgA0sC1LXiEF\n",
              "36WXXhpVVVVRVVUVjz76aCxYsCAiIjZt2hS9evUqYkgAABpRSME3efLkOP3002PlypVRVVUVlZWV\n",
              "ERFxwgknxH333feqv1tXVxd1dXW5Y/XZvmhVal3EVAEAkldY3tmvX7+48MILo3PnzrFr165D/r2a\n",
              "mpqG7Vteea2Op4qaJgCQIM/SzSvsWbqf/OQno0OHDtGpU6do37599OrVK771rW+95u/OnTs3duzY\n",
              "kXv1iX5FTBMA4E2hkJbuxRdfHEOGDImHHnoobr311ujWrVuMGDEi5s2bF9u2bYsrr7yy0d+tqKiI\n",
              "ioqK3DHtXACgKWy8nFfKsixr7pMOHDgw/vjHPzb8fNZZZ8UjjzwSu3fvjsGDB8ef/vSnJp1vTKsP\n",
              "NPcU4XW5/9nHyz0FOECrE/5c7ilAi/Hh/5letrG//8/fLdvYjSmkpVsqlWL37t0REbFly5bYu3dv\n",
              "RLz8LF3bsgAAHFmFtHQvuuiiOOOMM2LYsGHxwAMPxJw5cyLi5W1ZSiURKwBQrJa6eKJcCin4Lrvs\n",
              "sqiuro4VK1bEpEmTYuTIkRHx8rYsK1asKGJIAAAaUUjBFxExZsyYGDNmTFGnBwBolCdt5BVyNfbu\n",
              "3RvXXnttVFdXR4cOHaJz584xYsSI19x0GQCA5ldIwvexj30sSqVSzJ8/P370ox/F2972tujfv39c\n",
              "eeWVsXHjxpg+vXwrZwAA3mwKKfgefvjheOKJJyIiYvz48TFq1Ki46qqrYvTo0TFixAgFHwBQKIs2\n",
              "8gpp6bZu3Tr27dsXERF79uxp2KKlc+fO0aqVnjoAwJFUSMI3duzYGDt2bLzrXe+KJUuWxIQJEyIi\n",
              "Yvv27Q2FIABAUTxpI6+QuO2aa66JSZMmxcaNG2PGjBkxb968iIg4+uij45e//GURQwIA0IhCEr5S\n",
              "qRTTpk074HhFRUV07dq1iCEBABq4hy/viN9Qd8899xzpIQEA3tSOeMH3k5/85EgPCQDwplbYkzYi\n",
              "Ip555plYt25dRET07Nkz+vbtG9/97neLHBIAQEv3HxRS8D355JMxZcqUWL9+ffTs2TMiItatWxc9\n",
              "evSIm2++OQYMGFDEsAAAHEQhBd/UqVPjiiuuiAsvvDB3fPHixTF16tT47W9/W8SwAAARIeH7R4Xc\n",
              "w7d9+/YDir2IiIkTJ8aOHTuKGBIAgEYUUvB17tw5Fi1aFPX19Q3H6uvrY+HChdGpU6cihgQAoBGF\n",
              "tHQXLlwYM2fOjE996lNx4oknRkREbW1tDBkyJG6++eYihgQAaKClm1dIwVdZWRlLly6Nv/zlL7F+\n",
              "/fqIiOjRo0d06dKliOEAAHgVhW7L0qVLF0UeAHDEeZZu3hHfeBkAgCOr0IQPAKAc3MOXJ+EDAEic\n",
              "gg8AIHFaugBAcrR08yR8AACJk/ABAMmR8OVJ+AAAEqfgAwBInJYuAJAcLd08CR8AQOIkfABAcjIJ\n",
              "X46EDwAgcRI+ACA59SHh25+EDwAgcQo+AIDEaekCAMmxLUuehA8AIHESPgAgObZlyZPwAQAkTsEH\n",
              "AJA4LV0AIDkWbeRJ+AAAEifhAwCSY9FGnoQPACBxEj4AIDnu4cuT8AEAJE7BBwCQOC1dACA5WVbu\n",
              "GbQsEj4AgMRJ+ACA5NSHRRv7k/ABACROwQcAkDgtXQAgOZ60kSfhAwBInIQPAEiOJ23kSfgAABIn\n",
              "4QMAkmPj5TwJHwBA4hR8AACJ09IFAJJjW5Y8CR8AQOIkfABAciR8eRI+AIDEKfgAABKnpQsAJMeT\n",
              "NvIkfAAAiZPwAQDJ8aSNPAkfAEDiJHwAQHJsy5In4QMASJyCDwAgcVq6AEBytHTzJHwAAImT8AEA\n",
              "ybErS56EDwAgcQo+AIDEaekCAMmxaCNPwgcAkDgJHwCQHqs2ciR8AACJU/ABACROSxcASI5FG3kS\n",
              "PgCAMpk1a1b07t07SqVSLF++vNHP/e///m+MHDky+vfvH/3794+77rqrSeNI+ACA5GRvkEUbEydO\n",
              "jMsvvzyGDRvW6Gd2794dF1xwQdxyyy0xbNiw2LdvXzz//PNNGkfBBwBQJsOHD3/Nz/zgBz+IM888\n",
              "s6EobN26dXTp0qVJ4yj4AIDklPMevrq6uqirq8sdq6ioiIqKisM63xNPPBEVFRUxfvz42LBhQwwa\n",
              "NCiuvfbaJhV97uEDAGhGNTU10b59+9yrpqbmsM+3d+/eeOCBB+I73/lOPPbYY3HyySfHxz72sSad\n",
              "Q8IHANCM5s6dG7Nnz84dO9x0LyKiZ8+eMWrUqDj55JMjIuIjH/lIjB07tknnUPABAOkpY0v39bRv\n",
              "D+Zf//Vf48Ybb4ydO3fGcccdF/fdd19UVVU16RxaugAAZTJz5szo3r17bNiwIcaOHRuVlZURETFt\n",
              "2rRYsmRJRLyc8H32s5+Ns88+OwYNGhQPPvhgLFiwoEnjlLKs5S9cHtPqA+WeAuTc/+zj5Z4CHKDV\n",
              "CX8u9xSgxeh727+XbexnPvTZso3dGAkfAEDiFHwAAImzaAMASE+Lv2HtyJLwAQAkTsIHACSnnE/a\n",
              "aIkkfAAAiZPwAQDpcQ9fjoQPACBxCj4AgMRp6QIAybFoI0/CBwCQOAkfAJAeizZyJHwAAIlT8AEA\n",
              "JE5LFwBIkEUb+5PwAQAkTsIHAKTHoo0cCR8AQOIkfABAeiR8ORI+AIDEKfgAABKnpQsApMezdHMk\n",
              "fAAAiZPwAQDJySzayJHwAQAkTsEHAJA4LV0AID1aujkSPgCAxEn4AID02JYlR8IHAJA4CR8AkJyS\n",
              "e/hyJHwAAIlT8AEAJE5LFwBIj5ZujoQPACBxEj4AID22ZclpcsJXW1sbv/zlLyMiYu/evfHiiy82\n",
              "95wAAGhGTSr4Fi9eHGeeeWZMnTo1IiJWrlwZEyZMKGBaAAA0lyYVfDU1NfHoo4/G8ccfHxERVVVV\n",
              "sXbt2kImBgBw2LIyvlqgJhV8rVu3jk6dOuWOHXXUUc06IQAAmleTFm0ce+yxsXnz5iiVXr4RcunS\n",
              "pdGxY8dCJgYAcNhaaNJWLk0q+L7yla/Ee97znnjmmWdi2LBhsXr16rj33nuLmhsAAM3gkAu++vr6\n",
              "2LdvXzz00EPxm9/8JrIsi7PPPjs6dOhQ4PQAAA6DhC/nkAu+Vq1axYwZM+Lxxx+P97znPUXOCQCA\n",
              "ZtSkRRunnHJKrFq1qqi5AABQgCbdw/f8889HdXV1nH322XHMMcc0HL/rrruafWIAAIfNkzZymlTw\n",
              "TZkyJaZMmVLUXAAAKECTC76IiCx7+U7IV7ZnAQBoSUoWbeQ06R6+2traOO+886Jdu3bRrl27GD9+\n",
              "fNTW1hY1NwAAmkGTCr4ZM2bEsGHDora2Nmpra2PYsGExY8aMouYGAEAzaFJLd/369fHTn/604efP\n",
              "fOYzUV1d3dxzAgB4fbR0c5qU8GVZFps2bWr4edOmTQ338wEA0DI1KeGbM2dODB48uGHj5Z/97Gdx\n",
              "zTXXFDIxAACaR5MKvsmTJ8eQIUPioYceioiISy+9NN7+9rcXMjEAAJpHkwq+devWxVvf+taGIu9v\n",
              "f/tbrF+/Pnr06FHI5AAADodtWfKadA/fxIkTD+kYAAAtR5MKvhdffDHatm3b8PPRRx8ddXV1zT4p\n",
              "AACaT5NauqVSKbZs2RJdu3aNiCO3SvcX9XcUPgY0xZhWHyj3FOAgfC9pWcr6v9+epZvTpIJv1qxZ\n",
              "cdZZZ8XkyZMjIuLWW2+N+fPnFzIxAACaR5MKvosvvjj69OkT9913X0RE3HTTTXHOOecUMjEAgMNm\n",
              "0UZOkwq+iIiRI0fGyJEjY8eOHbF+/foi5gQAQDNq0qKNcePGxfbt22PXrl1RVVUV48ePj3nz5hU1\n",
              "NwAAmkGTCr7NmzdHhw4d4r777osLLrggnn766fjxj39c1NwAAA5PVsZXC9Skgu+ll16KiIj//u//\n",
              "jjFjxsQ//dM/RZs2Te4KAwBwBDWpWhs4cGC85z3viSeffDK++tWvxu7du4uaFwDAYfOkjbwmFXw3\n",
              "33xz/OxnP4uqqqpo165dbNy4MWpqaoqaGwAAzaBJBV/btm1jwoQJERGxcOHCmDJlSpx88slFzAsA\n",
              "gGbSpHv49nf99dc35zwAAJqPRRs5h13wHYlHqgEA8Pod9hLb2bNnN+c8AACaj1wq57ATvleepwsA\n",
              "QMt22AXfK0499dTmmAcAQLMpZeV7tUSH1NJdsWJFo++98MILzTYZAACa3yEVfNXV1dG7d++DLtR4\n",
              "7rnnmn1SAAA0n0Mq+Hr16hXLli2Lk0466YD3evTo0eyTAgB4XbJSuWfQohzSPXx9+vSJZ5555qDv\n",
              "vfe9723WCQEA0LwOqeDbvn17DBs2LIYNG3bAewsWLGj2SQEAvC42Xs45pJbunj174vbbb4/a2tpY\n",
              "smTJAe+ff/75zT4xAACaxyEVfF/+8pdjwYIFsWXLlrjuuuty75VKJQUfAEALdkgF3/nnnx/nn39+\n",
              "fPrTn/YMXQCgxWup++GVS5M2XlbsAQC88Rz2s3QBAFosCV/O6360GgAALZuEDwBIjnv48iR8AACJ\n",
              "U/ABACROSxcASI+Wbo6EDwAgcRI+ACA9Er4cCR8AQOIUfAAAidPSBQCSYx++PAkfAEDiFHwAAIlT\n",
              "8AEAJM49fABAetzDlyPhAwBInIIPACBxWroAQHJsy5In4QMASJyEDwBIj4QvR8IHAJA4BR8AQOK0\n",
              "dAGA9Gjp5kj4AAASJ+EDAJJjW5Y8CR8AQOIkfABAeiR8ORI+AIDEKfgAABKnpQsAJMeijTwJHwBA\n",
              "4iR8AEB6JHw5Ej4AgMQp+AAAEqfgAwDSk5Xx1QSzZs2K3r17R6lUiuXLl7/6n5Rlce6550aHDh2a\n",
              "Nkgo+AAAymbixImxbNmy6NWr12t+9rrrrou3vvWthzWORRsAQHLKuS1LXV1d1NXV5Y5VVFRERUXF\n",
              "AZ8dPnz4IZ1z5cqVcffdd8dNN90Ud9xxR5PnJOEDAGhGNTU10b59+9yrpqbmsM/30ksvxfTp0+M7\n",
              "3/lOtG7d+rDOIeEDANJTxoRv7ty5MXv27Nyxg6V7h+rqq6+O97///dG/f/9Ys2bNYZ1DwQcA0Iwa\n",
              "a98erl/96lexbt26+OY3vxl79+6NnTt3Ru/eveN3v/tddOnS5ZDOoeADAGjBfv3rXzf895o1a6K6\n",
              "urrJSZ97+ACA9LxBtmWZOXNmdO/ePTZs2BBjx46NysrKiIiYNm1aLFmy5LD+9IOR8AEAlMl3vvOd\n",
              "gx7/3ve+d9DjvXv3ju3btzd5HAUfAJCccm7L0hJp6QIAJE7BBwCQOC1dACA9Wro5Ej4AgMRJ+ACA\n",
              "5Fi0kSfhAwBInIQPAEiPhC9HwgcAkDgFHwBA4rR0AYD0aOnmSPgAABIn4QMAklMq9wRaGAkfAEDi\n",
              "FHwAAInT0gUA0mPRRo6EDwAgcRI+ACA5nqWbJ+EDAEicgg8AIHFaugBAerR0cyR8AACJk/ABAOmR\n",
              "8OVI+AAAEifhAwCSY1uWPAkfAEDiFHwAAInT0gUA0qOlmyPhAwBInIQPAEiORRt5Ej4AgMQp+AAA\n",
              "EqelCwCkR0s3R8IHAJA4CR8AkByLNvIkfAAAiZPwAQDpkfDlSPgAABKn4AMASJyWLgCQHi3dHAkf\n",
              "AEDiJHwAQHJsy5In4QMASJyCDwAgcVq6AEB6tHRzJHwAAImT8AEAySllIr79SfgAABIn4QMA0iPg\n",
              "y5HwAQAkTsEHAJA4LV0AIDmetJEn4QMASJyEDwBIj4QvR8IHAJA4BR8AQOK0dAGA5Fi0kSfhAwBI\n",
              "nIQPAEiPhC9HwgcAkDgJHwCQHPfw5Un4AAASp+ADAEicli4AkB4t3RwJHwBA4iR8AEByLNrIKyzh\n",
              "++tf/xp79+6NiIjnn38+li5dGhs2bChqOAAAGlFIwXfLLbdE586do0+fPvHggw/GwIEDY+7cuVFd\n",
              "XR233357EUMCANCIQlq6X/va1+Kpp56KHTt2xPDhw+OBBx6IoUOHxqpVq+LCCy+MD37wg0UMCwDw\n",
              "skxPd3+FFHytW7eOXr16RUREhw4dYujQoRERUVlZGa1aWScCAHAkFVLwtWrVKlauXBnbtm2Lv/71\n",
              "r/Hwww/HO9/5znjqqadi3759RQwJANDAoo28Qgq+L3zhCzF8+PBo1apV/PCHP4zPfe5zUVtbG7W1\n",
              "tXHDDTcUMSQAAI0opOA777zz4rnnnmv4eeTIkbF8+fLo0aNHdO3atYghAQD+TsKXc0T24WvdunX0\n",
              "7ds3jj/++CMxHAAA+ylkBcXy5cujuro6hgwZEitXroz3vve9cfLJJ0fPnj1jxYoVRQwJAEAjCin4\n",
              "Pv3pT8dVV10Vs2bNivPOOy8mTZoUu3fvjm984xsxZ86cIoYEAGhQqi/fqyUqpODbuXNnTJgwIaZO\n",
              "nRpZlsXkyZMjImLChAmxZcuWIoYEAKARhdzDl+232eGoUaMafQ8AoBDKjZxCEr5u3brFzp07IyJi\n",
              "4cKFDcdra2ujbdu2RQwJAEAjCkn47r///oMeb9euXdxxxx1FDAkAQCMK3ZZl27ZtsXbt2mjTpk1U\n",
              "VlZG+/bto3379kUOCQDgSRv/oJCW7oYNG2L8+PHRuXPnOO2002LEiBHRsWPHuPzyy+Oll14qYkgA\n",
              "ABpRSMF38cUXx4c+9KHYunVrXHfddTFr1qxYvXp1bNmyJS677LIihgQA+LssK9+rBSqk4Nu8eXN8\n",
              "+MMfjuOPPz5mzZoV9957b3Tr1i1uvPHGuPfee4sYEgCARhRS8LVq1aphv71Vq1ZF69atI+LlR6wd\n",
              "ddRRRQwJANCglJXv1RIVsmjj0ksvjaqqqqiqqopHH300FixYEBERmzZtil69ehUxJAAAjSik4Js8\n",
              "eXKcfvrpsXLlyqiqqorKysqIiDjhhBPivvvue9Xfrauri7q6utyxioqKqKioKGKqAADJK6SlGxHR\n",
              "r1+/uPDCC6Nz586xa9euQ/69mpqahu1bXnnV1NQUNU0AIEVZGV8tUGHP0v3kJz8ZHTp0iE6dOkX7\n",
              "9u2jV69e8a1vfes1f3fu3LmxY8eO3Gvu3LlFTBMA4E2hkJbuxRdfHEOGDImHHnoobr311ujWrVuM\n",
              "GDEi5s2bF9u2bYsrr7yy0d/VvgUAXq+WuniiXEpZ1vwbxgwcODD++Mc/Nvx81llnxSOPPBK7d++O\n",
              "wYMHx5/+9KfmHhKOqDGtPlDuKQC0eL+oL9/jVM/5l6+Vbexf/3hO2cZuTCEt3VKpFLt3746IiC1b\n",
              "tsTevXsj4uVn6dqWBQDgyCqkpXvRRRfFGWecEcOGDYsHHngg5sx5udLdtGlTlEqlIoYEAPi7FvrE\n",
              "i3IppOC77LLLorq6OlasWBGTJk2KkSNHRsTL27KsWLGiiCEBAGhEIQVfRMSYMWNizJgxRZ0eAKBR\n",
              "Fm3kFXIP3969e+Paa6+N6urq6NChQ3Tu3DlGjBjxmpsuAwDQ/ApJ+D72sY9FqVSK+fPnx49+9KN4\n",
              "29veFv37948rr7wyNm7cGNOnTy9iWAAADqKQgu/hhx+OJ554IiIixo8fH6NGjYqrrroqRo8eHSNG\n",
              "jFDwAQDF0tLNKaSl27p169i3b19EROzZs6dhi5bOnTtHq1aFPc0NAICDKCThGzt2bIwdOzbe9a53\n",
              "xZIlS2LChAkREbF9+/aGQhAAoCgWbeQVErddc801MWnSpNi4cWPMmDEj5s2bFxERRx99dPzyl78s\n",
              "YkgAABpRSMJXKpVi2rRpBxyvqKiIrl27FjEkAMDf1Yv49nfEb6i75557jvSQAABvake84PvJT35y\n",
              "pIcEAHhTK+xJGxERzzzzTKxbty4iInr27Bl9+/aN7373u0UOCQBgW5Z/UEjB9+STT8aUKVNi/fr1\n",
              "0bNnz4iIWLduXfTo0SNuvvnmGDBgQBHDAgBwEIUUfFOnTo0rrrgiLrzwwtzxxYsXx9SpU+O3v/1t\n",
              "EcMCAESEbVn+USH38G3fvv2AYi8iYuLEibFjx44ihgQAoBGFFHydO3eORYsWRX19fcOx+vr6WLhw\n",
              "YXTq1KmIIQEAaEQhLd2FCxfGzJkz41Of+lSceOKJERFRW1sbQ4YMiZtvvrmIIQEA/i7T091fIQVf\n",
              "ZWVlLF26NP7yl7/E+vXrIyKiR48e0aVLlyKGAwDgVRS6LUuXLl0UeQDAEWfRRt4R33gZAIAjq9CE\n",
              "DwCgLCR8ORI+AIAymTVrVvTu3TtKpVIsX778oJ958MEH44wzzogBAwbE29/+9rj88stzO6EcCgUf\n",
              "AECZTJw4MZYtWxa9evVq9DPHH398/PCHP4wnnngi/vCHP8RvfvObuOWWW5o0jpYuAJCc0htkW5bh\n",
              "w4e/5mcGDx7c8N9t27aN6urqWLNmTZPGUfABADSjurq6qKuryx2rqKiIioqK133uTZs2xeLFi+Oe\n",
              "e+5p0u9p6QIA6akv36umpibat2+fe9XU1LzuP2nnzp3xvve9Ly6//PIYOnRok35XwgcA0Izmzp0b\n",
              "s2fPzh17veneCy+8EOPGjYsLLrjggHMfCgUfAEAzaq727St27doV48aNi3HjxsXnPve5wzqHli4A\n",
              "kJxSlpXt1RQzZ86M7t27x4YNG2Ls2LFRWVkZERHTpk2LJUuWRETE9ddfH7/97W/jrrvuiurq6qiu\n",
              "ro4vfelLTb0eb5BlLNCCjGn1gXJPAaDF+0X9HWUbe/S5r/+eucO19MG5ZRu7MVq6AEB6xFk5WroA\n",
              "AImT8AEA6XHHWo6EDwAgcQo+AIDEaekCAMkp6ejmSPgAABIn4QMA0mPRRo6EDwAgcQo+AIDEaekC\n",
              "AMkp1Zd7Bi2LhA8AIHESPgAgPRZt5Ej4AAASJ+EDANIj4MuR8AEAJE7BBwCQOC1dACA5JYs2ciR8\n",
              "AACJk/ABAOmR8OVI+AAAEqfgAwBInJYuAJAez9LNkfABACROwgcAJMe2LHkSPgCAxEn4AID0SPhy\n",
              "JHwAAIlT8AEAJE5LFwBIj5ZujoQPACBxEj4AID02Xs6R8AEAJE7BBwCQOC1dACA5nrSRJ+EDAEic\n",
              "hA8ASI+EL0fCBwCQOAkfAJAeCV+OhA8AIHEKPgCAxGnpAgDp0dLNkfABACROwgcApMezdHMkfAAA\n",
              "iVPwAQAkTksXAEiOZ+nmSfgAABIn4QMA0iPhy5HwAQAkTsEHAJA4LV0AID31Wrr7k/ABACROwgcA\n",
              "pMeijRwJHwBA4iR8AEB6JHw5Ej4AgMQp+AAAEqelCwCkR0s3R8IHAJA4CR8AkB4bL+dI+AAAEqfg\n",
              "AwBInJYuAJCerL7cM2hRJHwAAImT8AEA6bEtS46EDwAgcRI+ACA9tmXJkfABACROwQcAkDgtXQAg\n",
              "PRZt5Ej4AAASJ+EDANIj4cuR8AEAJE7BBwCQOC1dACA9Wro5Ej4AgMRJ+ACA9NTXl3sGLYqEDwAg\n",
              "cRI+ACA97uHLkfABACROwQcAkDgtXQAgPVq6ORI+AIDESfgAgPTUS/j2J+EDAEicgg8AIHFaugBA\n",
              "crLMkzb2J+EDAEichA8ASI9FGzkSPgCAxEn4AID02Hg5R8IHAJA4BR8AQOK0dAGA9NTblmV/Ej4A\n",
              "gMRJ+ACA9Fi0kSPhAwBInIIPACBxWroAQHIyizZyJHwAAImT8AEA6bFoI0fCBwCQOAkfAJCeegnf\n",
              "/iR8AACJU/ABACROSxcASE9mW5b9SfgAABIn4QMAkpNZtJEj4QMASJyCDwAgcVq6AEB6LNrIkfAB\n",
              "ACROwgcAJMeijTwJHwBAmcyaNSt69+4dpVIpli9f3ujnbrzxxjjllFPirW99a0yfPj1eeumlJo2j\n",
              "4AMA0pPVl+/VBBMnToxly5ZFr169Gv3M6tWr4/Of/3z8+te/jlWrVsXmzZvjhhtuaNI4Cj4AgDIZ\n",
              "Pnx4dO/e/VU/s3jx4jj//PPjhBNOiFKpFB/96Efjtttua9I47uEDAGhGdXV1UVdXlztWUVERFRUV\n",
              "h3W+devW5RLA3r17x7p165p0DgXfm0hdXV3U1NTE3LlzD/tLx8t+UX9HuaeQBN9JWhrfyXSU89/p\n",
              "q666Kq6++urcsfnz58dVV11VngmFlu6bSl1dXVx99dUH/H8dUC6+k7Q0vpM0h7lz58aOHTtyr7lz\n",
              "5x72+Xr27Blr165t+HnNmjXRs2fPJp1DwQcA0IwqKiriuOOOy71eT2J84YUXxpIlS2LTpk2RZVks\n",
              "WLAgJk2a1KRzKPgAAMpk5syZ0b1799iwYUOMHTs2KisrIyJi2rRpsWTJkoiI6Nu3b1x99dXxzne+\n",
              "MyorK6NLly4xc+bMJo1TyrLMzoRvEjt37oz27dvHjh074rjjjiv3dMB3khbHd5JUSfjeRCoqKmL+\n",
              "/PluRKbF8J2kpfGdJFUSPgCAxEn4AAASp+ADAEicgg8AIHEKvhbs6aefjrPPPjtOPfXUOP3002Pl\n",
              "ypUHfKa+vj7mzJkTAwcOjH79+sUll1wSL774YsP711xzTQwcODAGDBgQ//Iv/xLbt29veG/RokVR\n",
              "VVUVAwcOjNGjR+ce0/JqYx/KvEhTOb+T7373u2PQoEFRXV0d55xzTjz22GMN7913330xZMiQqK6u\n",
              "joEDB8bChQuLuQC0OOX6Tj733HNRXV3d8Dr11FOjTZs28fzzz0dExMiRI6NPnz4N71933XXFXgh4\n",
              "LRkt1qhRo7Kbbropy7Isu+OOO7KhQ4ce8JkbbrghGzVqVFZXV5fV19dn06ZNy7761a9mWZZlP//5\n",
              "z7P+/ftnO3fuzLIsy77whS9kH//4x7Msy7Inn3wy69atW/bss89mWZZlixYtys4777xDGvtQ5kWa\n",
              "yvmd3LZtW8N/33XXXdmgQYOyLMuy+vr67Pjjj88ef/zxLMuybPXq1VlFRUXDGKStnN/J/V1zzTXZ\n",
              "+PHjG34eMWJE9uMf/7i5/kx43RR8LdTmzZuzY489NnvppZeyLHv5f9S6deuWPf3007nPfeITn8i+\n",
              "9KUvNfx85513Zu94xzuyLHv5H6Dp06c3vPeHP/whO/bYY7Mse/kfxjFjxjS899xzz2WlUinbunXr\n",
              "q459qPMiPeX8Tv6jm266KauqqmqYR8eOHbNf/epXWZZl2eOPP56ddNJJWV1dXTP81bRkLek72a9f\n",
              "v1yBp+CjpdHSbaHWr18fJ554YrRp0yYiIkqlUvTs2TPX4oqIOO2002LJkiWxc+fOeOmll+JHP/pR\n",
              "rFmzpuG9Bx54oOFRLN///vfjhRdeiOeffz6qqqri0UcfjT//+c8REXHrrbdGlmWxdu3aVx37UOdF\n",
              "esr5nXzFRRddFD169IjPf/7zsWjRooZ53H777fH+978/evXqFcOGDYuFCxfGUUcddQSuCuXUEr6T\n",
              "ERG/+c1vYtu2bTF+/Pjc8c985jPxjne8Iz74wQ/GM888U9BVgEOj4HuDmzp1aowbNy5GjBgRI0aM\n",
              "aLiPJCJi1KhRMWfOnBg/fnyceeaZ0aVLl4iIaNOmTZxyyimxYMGCuOiii2Lo0KHx3HPPRYcOHRp+\n",
              "Fw5Xkd/JW265JdavXx9f/OIX44orroiIiL1798YXv/jFuOuuu2Lt2rWxdOnSmDx5cmzduvXI//G0\n",
              "SEX/O3njjTfGRRddlDu+aNGieOqpp2LFihVxzjnnHFAMwhFXzniRxh1u6/S2227Lhg0bdtD3Hnnk\n",
              "kax79+4Hfa+2tjarqKjI/vrXv2rpclDl/E4eTNu2bbOtW7dmv/vd77JTTjkl997QoUOzn//856/1\n",
              "J/EG1xK+ky+88EJ2zDHHZE8++eSrjllRUXHQVjAcKRK+Fqpr164xZMiQuPXWWyMi4s4774zu3bs3\n",
              "PFT5FXv27Ilt27ZFRMTWrVvjy1/+clx++eUN79fW1kZExO7du2PevHkHfW/fvn1xxRVXxCc+8Ylo\n",
              "167dq459qPMiPeX8Tm7fvj2effbZhs/dfffd0alTp+jYsWP06NEjamtr48knn4yIiFWrVsX//d//\n",
              "xdve9rYCrgItSTm/k6+4/fbbo6qqKvr169dwbO/evbF58+aGn++8887o1q1bdOrUqbn+dGi6clec\n",
              "NO6pp57KzjzzzOyUU07JTjvttGzFihVZlmXZJZdckv3kJz/JsizLNm3alPXr1y8bMGBA1q9fv+zb\n",
              "3/527hwDBw7MBgwYkFVWVmZXX311Vl9f3/DeuHHjsv79+2d9+/bNPvWpT2V79ux5zbFf6z3SVq7v\n",
              "5Jo1a7LTTz89GzhwYDZo0KBs9OjR2WOPPdbwez/4wQ8a3hs4cGD2/e9/v+ArQUtRzn8nsyzLzjrr\n",
              "rOw///M/c8d27dqVnXbaaQ3fyXPPPTdbvnx5EX8+HDLP0gUASJyWLgBA4hR8AACJU/ABbwgjR46M\n",
              "u+++OyJe3mbjP/7jP8o6H4A3EgUf0Oz27t1b7ikAsB8FH9AsSqVSzJ8/P04//fSYO3duvPDCCzF9\n",
              "+vQ444wzYtCgQTFjxoyGB9Zv3LgxJk6cGO94xzti0KBB8fnPfz4iIn7wgx/EP//zP8fgwYOjqqoq\n",
              "fvrTn5bzTwJIhscqAM2mdevW8bvf/S4iImbMmBHnnHNOfPe7340sy2L69Olx/fXXx2WXXRYf+chH\n",
              "4t3vfncsXrw4IiL+8pe/RETE2LFj40Mf+lCUSqVYs2ZNnHnmmbF27dqoqKgo298EkAIFH9Bs/u3f\n",
              "/q3hv+++++545JFH4utf/3pERPztb3+L1q1bx65du2LZsmVx//33N3z2lcdZrV69Oj784Q/Hhg0b\n",
              "ok2bNvH888/H6tWrc5vaAtB0Cj6g2RxzzDEN/51lWdx5551x6qmn5j6za9euRn9/0qRJ8eUvfzkm\n",
              "TpwYEREdO3aMPXv2FDNZgDcR9/ABhZgwYUJ85StfaVjAsW3btli1alUcc8wxMXz48Lj22msbPvtK\n",
              "S3fbtm3Rp0+fiIi49dZbGx6HBcDro+ADCnHdddfF0UcfHdXV1TFo0KAYPXp0rFmzJiIiFi1aFL//\n",
              "/e/j7W9/e1RXV8c3v/nNiIi4/vrrY+LEiTF48OB47LHHomfPnmX8CwDS4dFqAACJk/ABACROwQcA\n",
              "kDgFHwBA4hR8AACJU/ABACROwQcAkDgFHwBA4hR8AACJU/ABACROwQcAkDgFHwBA4v4/Q/0LFW5x\n",
              "GekAAAAASUVORK5CYII=\n",
              "\">\n",
              "      </div>\n",
              "      <script type=\"text/javascript\">\n",
              "        (() => {\n",
              "          const chartElement = document.getElementById(\"chart-cef6c783-12a8-4b79-95e5-8840d91fbe61\");\n",
              "          async function getCodeForChartHandler(event) {\n",
              "            const chartCodeResponse =  await google.colab.kernel.invokeFunction(\n",
              "                'getCodeForChart', [\"chart-cef6c783-12a8-4b79-95e5-8840d91fbe61\"], {});\n",
              "            const responseJson = chartCodeResponse.data['application/json'];\n",
              "            await google.colab.notebook.addCell(responseJson.code, 'code');\n",
              "          }\n",
              "          chartElement.onclick = getCodeForChartHandler;\n",
              "        })();\n",
              "      </script>\n",
              "      <style>\n",
              "        .colab-quickchart-chart-with-code  {\n",
              "            display: block;\n",
              "            float: left;\n",
              "            border: 1px solid transparent;\n",
              "        }\n",
              "\n",
              "        .colab-quickchart-chart-with-code:hover {\n",
              "            cursor: pointer;\n",
              "            border: 1px solid #aaa;\n",
              "        }\n",
              "      </style>"
            ]
          },
          "metadata": {}
        },
        {
          "output_type": "display_data",
          "data": {
            "text/plain": [
              "from matplotlib import pyplot as plt\n",
              "import seaborn as sns\n",
              "import pandas as pd\n",
              "plt.subplots(figsize=(8, 8))\n",
              "df_2dhist = pd.DataFrame({\n",
              "    x_label: grp['support'].value_counts()\n",
              "    for x_label, grp in _df_6.groupby('f1-score')\n",
              "})\n",
              "sns.heatmap(df_2dhist, cmap='viridis')\n",
              "plt.xlabel('f1-score')\n",
              "_ = plt.ylabel('support')"
            ],
            "text/html": [
              "      <div class=\"colab-quickchart-chart-with-code\" id=\"chart-ebe59989-d901-4b30-b811-758ea6cbbb38\">\n",
              "        <img style=\"width: 180px;\" src=\"data:image/png;base64,iVBORw0KGgoAAAANSUhEUgAAAnwAAAKfCAYAAAD0PRV6AAAAOXRFWHRTb2Z0d2FyZQBNYXRwbG90\n",
              "bGliIHZlcnNpb24zLjcuMSwgaHR0cHM6Ly9tYXRwbG90bGliLm9yZy/bCgiHAAAACXBIWXMAAA9h\n",
              "AAAPYQGoP6dpAAAzL0lEQVR4nO3df5RXdZ0/8NdnIMZYBVRQERgGxB8QwYjktnwJHVFBRWWTytpQ\n",
              "DJTSljqK2Fip9MPZE7mubadFzaOArRrmGuuvUtFS66htoqb4AxX54RAqMoMhI8x8vn94nLjCKINc\n",
              "PsPbx6Nzzxnu585938/tTPva5/u+X7dQLBaLAQBAsspKfQEAAORLwQcAkDgFHwBA4hR8AACJU/AB\n",
              "ACROwQcAkDgFHwBA4hR8AACJU/ABACROwQcAUCIbNmyI8ePHx0EHHRRDhw6NY445JpYsWbLVY2+7\n",
              "7bY45JBD4sADD4zPfvaz0dDQsM3jKPgAAErorLPOimeffTYef/zxOPnkk2PKlClbHPPmm2/G5MmT\n",
              "49Zbb43nn38+9t9///j+97+/zWMo+AAASmS33XaL448/PgqFQkREfPrTn46lS5ducdydd94Zhx56\n",
              "aBxyyCEREXH22WfHDTfcsM3jdNwhVwsAQERENDY2RmNjY2ZfeXl5lJeXf+DvXnHFFXHyySdvsX/Z\n",
              "smXRt2/fln9XVlZGXV1dbNq0KTp2/OByTsEHlNQxZZ8r9SUAObm7eX7Jxm5edVDJxq6d/aWYOXNm\n",
              "Zt/FF18cl1xyyfv+3qWXXhpLliyJe++9d4dfk4IPAGAHqqmpiXPPPTez74PSvR//+Mdxyy23xD33\n",
              "3BOdO3fe4vOKioq4++67W/69dOnS6Nmz5zalexGe4QMAEtRcwv+Ul5dHly5dMtv7FXz//u//Hjfc\n",
              "cEPcfffd0a1bt60eM3bs2Pjzn/8czzzzTERE/OxnP4tTTz11m++HhA8AoERWrFgR5513XvTv3z+q\n",
              "q6sj4p008OGHH46LLroo9t9///jqV78ae+yxR/z85z+P8ePHx6ZNm2Lw4MExZ86cbR6nUCwWi3l9\n",
              "CYAP4hk+SFcpn+HbtGpAycbuuN/W++iVkoQPAEhOU7G5ZGO3x+LKM3wAAIlrj0UoAMCH0hyeWNuc\n",
              "hA8AIHEKPgCAxJnSBQCS0xylW7TRHkn4AAASJ+EDAJLTpM1whoQPACBxEj4AIDnasmRJ+AAAEqfg\n",
              "AwBInCldACA5TaZ0MyR8AACJk/ABAMmxaCNLwgcAkDgFHwBA4kzpAgDJ8aaNLAkfAEDiJHwAQHKa\n",
              "S30B7YyEDwAgcRI+ACA5Gi9nSfgAABKn4AMASJwpXQAgOU1mdDMkfAAAiZPwAQDJ0ZYlS8IHAJA4\n",
              "BR8AQOJM6QIAyWmKQqkvoV2R8AEAJE7CBwAkp1lblgwJHwBA4iR8AEByPMOXJeEDAEicgg8AIHGm\n",
              "dAGA5JjSzZLwAQAkTsIHACSnuSjh25yEDwAgcQo+AIDEmdIFAJJj0UaWhA8AIHESPgAgOU0yrQx3\n",
              "AwAgcRI+ACA52rJkSfgAABKn4AMASJwpXQAgOdqyZEn4AAASJ+EDAJLTVJRpbc7dAABInIIPACBx\n",
              "pnQBgOQ0y7Qy3A0AgMRJ+ACA5GjLkiXhAwBInIQPAEiOtixZ7gYAQOIUfAAAiTOlCwAkp9mijQwJ\n",
              "HwBA4iR8AEBymmRaGe4GAEDiFHwAAIkzpQsAJEcfvix3AwAgcRI+ACA5zTKtDHcDACBxEj4AIDlN\n",
              "RY2XNyfhAwBInIIPACBxpnQBgOR400aWuwEAkDgJHwCQnGaNlzPcDQCAxCn4AAASl9uU7t/+9rco\n",
              "Ly+Pjh07xpo1a+Kxxx6Lgw8+OHr37p3XkAAAEWHRxnvlcjfmzp0b3bt3j379+sXChQtj8ODBUVNT\n",
              "E1VVVXHTTTflMSQAAK3IJeH78Y9/HM8880zU19fHqFGj4p577onhw4fHkiVL4pRTTokvfOELeQwL\n",
              "ABAR3rTxXrkUfB06dIi+fftGRES3bt1i+PDhERExYMCAKCsTsQIA7Ey5VF9lZWXx1FNPxYMPPhh/\n",
              "+9vf4qGHHoqIiGeeeSaampryGBIAgFbkkvB9//vfj1GjRkVZWVnceOON8Z3vfCfq6uqirq4urrrq\n",
              "qjyGBABo0WzRRkYuBd/xxx8fr7/+esu/jzzyyFi0aFH06dMn9tlnnzyGBACgFTvlTRsdOnSI/v37\n",
              "x5577rkzhgMAPuKavGkjI5e7sWjRoqiqqophw4bFU089FSeccEL06tUrKioq4oknnshjSAAAWpFL\n",
              "wfeNb3wjLrnkkpg2bVocf/zxceqpp8b69evjJz/5SUyfPj2PIQEAWjRHoWRbe5RLwdfQ0BDjx4+P\n",
              "SZMmRbFYjIkTJ0ZExPjx42P16tV5DAkAQCtyKfiKxWLLz9XV1a1+BgBA/nJZtLHvvvtGQ0NDdOnS\n",
              "JebMmdOyv66uLnbbbbc8hgQAaGHRRlYuBd9vfvObre7v3LlzzJ8/P48hAQBoRa5tWd544414+eWX\n",
              "o2PHjjFgwIDo2rVrdO3aNc8hAQCiSePljFzuxooVK2LcuHHRvXv3OOyww+KII46IvfbaK2bMmBEb\n",
              "N27MY0gAAFqRS8F3xhlnxBe/+MV47bXX4vLLL49p06bFSy+9FKtXr47zzz8/jyEBAGhFoZjDstkh\n",
              "Q4ZkGiwffvjh8cgjj0RTU1Mccsgh8fzzz+/oIYFd1DFlnyv1JQA5ubu5dM/t//SZo0o29tcPWViy\n",
              "sVuTS8JXVlbW0m9vyZIl0aFDh4h45xVrnTp1ymNIAABakcuijfPOOy+GDh0aQ4cOjT//+c8xe/bs\n",
              "iIhYtWpV9O3bN48hAQBaWLSRlUvBN3HixPjUpz4VTz31VAwdOjQGDBgQERH77bdf3HHHHe/7u42N\n",
              "jdHY2JjZV15eHuXl5XlcKgBA8nIrfw855JA45ZRTonv37vHmm29u8+/V1ta2tG95d6utrc3rMgGA\n",
              "BDUXy0q2tUe5vUv361//enTr1i323nvv6Nq1a/Tt2zd+9rOffeDv1tTURH19fWarqanJ4zIBAD4S\n",
              "cpnSPeOMM2LYsGFx3333xfXXXx/77rtvHHHEEXHRRRfFG2+8Ed/+9rdb/V3TtwAAO1YubVkGDx4c\n",
              "f/nLX1r+/U//9E/xxz/+MdavXx+HHnpoPPvsszt6SGAXpS0LpKuUbVl+vHhMycaePnDrr5gtpVym\n",
              "dAuFQqxfvz4iIlavXh2bNm2KiHfepastCwDAzpXLlO5pp50Whx9+eIwcOTLuueeemD59ekS805al\n",
              "UCjkMSQAQIv2uniiVHIp+M4///yoqqqKJ554Ik499dQ48sgjI+Kdtiybv4EDAID85VLwRUQcc8wx\n",
              "ccwxx+R1egAAtlEueeemTZvisssui6qqqujWrVt07949jjjiiA9sugwAsCM0RaFkW3uUS8L3ta99\n",
              "LQqFQlx88cXxy1/+Mg4++OAYOHBgfPvb346VK1fGmWeemcewAABsRS4F30MPPRRPP/10RESMGzcu\n",
              "qqur45JLLonRo0fHEUccoeADAHJl0UZWLnejQ4cO0dTUFBERGzZsaGnR0r179ygr818AAMDOlEvC\n",
              "N2bMmBgzZkwcffTRsWDBghg/fnxERKxdu7alEAQAyEuThC8jl7sxa9asOPXUU2PlypVx1llnxUUX\n",
              "XRQRER//+Mfj/vvvz2NIAABakUvCVygUYsqUKVvsLy8vj3322SePIQEAaMVOzztvu+22nT0kAPAR\n",
              "0xyFkm3t0U4v+H7961/v7CEBANqladOmRWVlZRQKhVi0aNFWj2lubo5zzz03Bg0aFEOGDInq6upY\n",
              "smRJm8bJteB78cUX4/7774/7778/XnzxxYiIuPrqq/McEgAgmoplJdvaYsKECfHggw9G3759Wz1m\n",
              "wYIF8dBDD8Xjjz8eTzzxRIwePTouvPDCNo2TyzN8ixcvjtNPPz2WL18eFRUVERGxbNmy6NOnT1x3\n",
              "3XUxaNCgPIYFANiljBo16gOPKRQK0djYGBs2bIiOHTtGQ0ND9O7du03j5FLwTZo0KS644II45ZRT\n",
              "MvtvvvnmmDRpUjzyyCN5DAsAUHKNjY3R2NiY2VdeXh7l5eXbdb4TTzwx7rvvvthvv/1ijz32iF69\n",
              "esXvfve7Np0jlyndtWvXblHsRbwTW9bX1+cxJABAi+ZioWRbbW1tdO3aNbPV1tZu93f505/+FH/5\n",
              "y19i5cqV8corr8To0aPjq1/9apvOkUvB171795g3b140Nze37Gtubo45c+bE3nvvnceQAADtQk1N\n",
              "TdTX12e2mpqa7T7f3Llz46ijjopu3bpFWVlZnH766XHfffe16Ry5FHxz5syJ6667Lvbaa68YOHBg\n",
              "DBw4MPbaa6+W/QAAeWqKspJt5eXl0aVLl8y2vdO5ERH9+/ePhQsXxttvvx0R77S4Gzx4cJvOkcsz\n",
              "fAMGDIh77703Xn311Vi+fHlERPTp0yd69OiRx3AAALukqVOnxu233x6rVq2KMWPGxB577BFLliyJ\n",
              "KVOmxEknnRQnnXRSnHPOObF48eIYOnRofOxjH4v99tsvZs+e3aZxCsVisZjTdwD4QMeUfa7UlwDk\n",
              "5O7m+SUbe8bjpfvflh8NLd33bo03CwMAJE7BBwCQuFye4QMAKKVmmVaGuwEAkDgJHwCQnKZiodSX\n",
              "0K5I+AAAEqfgAwBInCldACA5zaZ0MyR8AACJk/ABAMlpLsq0NuduAAAkTsIHACSnKTzDtzkJHwBA\n",
              "4hR8AACJM6ULACRHW5YsCR8AQOIkfABAcrRlyXI3AAASp+ADAEicKV0AIDnN+vBlSPgAABIn4QMA\n",
              "ktOkLUuGhA8AIHESPgAgOdqyZLkbAACJU/ABACTOlC4AkBzv0s2S8AEAJE7CBwAkR+PlLAkfAEDi\n",
              "FHwAAIkzpQsAJMeijSwJHwBA4iR8AEByvGkjy90AAEicgg8AIHGmdAGA5Fi0kSXhAwBInIQPAEiO\n",
              "N21kSfgAABIn4QMAkuMZviwJHwBA4hR8AACJM6ULACTHlG6WhA8AIHESPgAgORK+LAkfAEDiFHwA\n",
              "AIkzpQsAJMeUbpaEDwAgcRI+ACA53qWbJeEDAEichA8ASI5n+LIkfAAAiVPwAQAkzpQuAJAcU7pZ\n",
              "Ej4AgMRJ+ACA5Ej4siR8AACJU/ABACTOlC4AkBxTulkSPgCAxEn4AIDkFCV8GRI+AIDESfgAgOQ0\n",
              "h4RvcxI+AIDEKfgAABJnShcASI62LFkSPgCAxEn4AIDkaMuSJeEDAEicgg8AIHGmdAGA5Fi0kSXh\n",
              "AwBInIQPAEiORRtZEj4AgMRJ+ACA5HiGL2uXKPiOKftcqS8BAGCXZUoXACBxu0TCBwDQFsViqa+g\n",
              "fZHwAQAkTsIHACSnOSza2JyEDwAgcQo+AIDEmdIFAJLjTRtZEj4AgMRJ+ACA5HjTRpaEDwAgcRI+\n",
              "ACA5Gi9nSfgAABKn4AMASJwpXQAgOdqyZEn4AAASJ+EDAJIj4cuS8AEAJE7BBwCQOFO6AEByvGkj\n",
              "S8IHAJA4CR8AkBxv2siS8AEAJE7CBwAkR1uWLAkfAEDiFHwAAIkzpQsAJMeUbpaEDwAgcRI+ACA5\n",
              "urJkSfgAABKn4AMASJwpXQAgORZtZEn4AAASJ+EDANJj1UaGhA8AIHEKPgCAxJnSBQCSY9FGloQP\n",
              "AKBEpk2bFpWVlVEoFGLRokWtHvfkk0/GkUceGQMHDoyBAwfGLbfc0qZxJHwAQHKKu8iijQkTJsSM\n",
              "GTNi5MiRrR6zfv36OPnkk2Pu3LkxcuTIaGpqijVr1rRpHAUfAECJjBo16gOP+e///u/49Kc/3VIU\n",
              "dujQIXr06NGmcRR8AEBySvkMX2NjYzQ2Nmb2lZeXR3l5+Xad7+mnn47y8vIYN25crFixIoYMGRKX\n",
              "XXZZm4o+z/ABAOxAtbW10bVr18xWW1u73efbtGlT3HPPPXHllVfGY489Fr169Yqvfe1rbTqHhA8A\n",
              "YAeqqamJc889N7Nve9O9iIiKioqorq6OXr16RUTEl7/85RgzZkybzqHgAwDSU8Ip3Q8zfbs1n//8\n",
              "5+Oaa66JhoaG6NKlS9xxxx0xdOjQNp3DlC4AQIlMnTo1evfuHStWrIgxY8bEgAEDIiJiypQpsWDB\n",
              "goh4J+G78MILY8SIETFkyJBYuHBhzJ49u03jFIrF9r9w+Ziyz5X6EgCANrq7eX7Jxu5/w6UlG/vF\n",
              "L15YsrFbI+EDAEicgg8AIHEWbQAA6Wn3D6ztXBI+AIDESfgAgOSU8k0b7ZGEDwAgcRI+ACA9nuHL\n",
              "kPABACROwQcAkDhTugBAcizayJLwAQAkTsIHAKTHoo0MCR8AQOIUfAAAiTOlCwAkyKKNzUn4AAAS\n",
              "J+EDANJj0UaGhA8AIHESPgAgPRK+DAkfAEDiFHwAAIkzpQsApMe7dDMkfAAAiZPwAQDJKVq0kZFb\n",
              "wtfU1BT/9V//FaNGjYrKysqorKyMUaNGxc9+9rNoamrKa1gAAN4jt4Tv7LPPjlWrVkVNTU1UVlZG\n",
              "RMTSpUtj9uzZsWjRorjqqqvyGhoAgM3kVvAtXLgwnn/++cy+gQMHxtixY+Oggw7Ka1gAAH343iO3\n",
              "Kd1CoRCvvvrqFvtfffXVKJpYBwDYaXJL+C644IKoqqqKk08+Ofr27RsRES+//HIsWLAgZs6cmdew\n",
              "AADasrxHbgXf5MmT46ijjopf/epXsWzZsoiI6N+/fzzwwAPRr1+/vIYFAOA9cm3L0q9fv5g+fXqe\n",
              "QwAAbKHg6bEMbVkAABKnLQsAQOK0ZQEA0mNKN0NbFgCAxGnLAgCkR1uWDG1ZAAAS1+aC76677oqx\n",
              "Y8d+4L4IbVkAANqDNj/Dd+GFF27TPm1ZAICSKZZwa4e2OeF77rnn4plnnon6+vpYsGBBy/76+vpY\n",
              "v379FsdrywIA0D5sc8H3xz/+Ma677rpYvXp1XH755S37u3TpEpdddtkWx2vLAgCUTDtN2kplmwu+\n",
              "008/PSZOnBiXXnppfOc73/nA499ty9KjR4/Mfm1ZAAB2rjYt2igrK4v58+dvU8GnLQsAUDKypYw2\n",
              "L9o48MADY8mSJR943OTJk+PBBx+M/v37x8qVK2PlypUtbVkmT568XRcLAEDbtbkty5o1a6KqqipG\n",
              "jBgRu+++e8v+W265ZYtjtWUBACi9Nhd8p59+epx++ukfeFxTU1NcddVVccMNN7Q0Xq6oqIhTTz01\n",
              "pk6dGh06dGj71QIAbAtv2sjYroIvIloWXhQKW7+h2rIAALQPbS746urqYvLkyXHfffdFRMTo0aPj\n",
              "6quvjp49e2aO05YFACiVgkUbGW1etHHWWWfFyJEjo66uLurq6mLkyJFx1llnbXHcu21Z3ktbFgCA\n",
              "navNCd/y5cvjf//3f1v+/a1vfSuqqqq2OE5bFgCA9qHNBV+xWIxVq1bFfvvtFxERq1at2mpiN3ny\n",
              "5DjqqKPiV7/6VcuijXfbsvTr1+9DXjYAwPswmZjR5oJv+vTpceihh8Zxxx0XERF33XVXzJo1a6vH\n",
              "assCAFB6bS74Jk6cGIceemjcf//9ERFx3nnnxSc+8YktjtOWBQCgfWhzwRfxTnK3du3aKBQKLS1X\n",
              "3ktbFgCA9qHNBd+9994bX/rSl6JXr15RLBajrq4ubrjhhqiurs4cpy0LAFAq2rJktbng++Y3vxkL\n",
              "FiyIf/zHf4yIiEceeSQmT54cTz75ZOa4d9uy9OjRI7NfWxYAgJ2rzQVfWVlZS7EXEXH44Ydv9Xm8\n",
              "7W3L0tjYGI2NjZl9zcWmKCt45g8AYHu0ufHyscceG9ddd10Ui8UoFosxd+7cOPbYY7c4bvLkyfHQ\n",
              "Qw9F//79Y+XKlbFy5cqWtiyTJ09u9fy1tbXRtWvXzPZSPNPWywQAPsqKhdJt7VCh2Mb51T333DPq\n",
              "6+vjYx/7WEREbNy4Mbp27frOyQqFWLNmzYe6oK0lfP/cdZKEDwB2MXc3zy/Z2P2v+PeSjf3iN84t\n",
              "2ditafOU7qJFiz70oLfddluMGzduq5+Vl5dHeXl5Zp9iDwBoE8sFMto8pdu3b9/o3r17LF++PFas\n",
              "WBHdu3ePvn37tmzb4te//nWbLxQAgO2TW1uW93P11Ve3dVgAALZTbm1Z3vXiiy9m3rTRv3//D3G5\n",
              "AADbwJRuRm5tWRYvXhynn356LF++PCoqKiIiYtmyZdGnT5+49tprt/o6NgAAdrzc2rJMmjQpLrjg\n",
              "gqirq4uHH344Hn744airq4sZM2bEGWecsUMuHgBgawrF0m3tUW5tWQ4++OB49tlnt3qO9/tsa44p\n",
              "+1xbLhEAaAdK2ZblgH8vXVuWF879CLVl6d69e8ybNy/+5V/+JcrK3gkSm5ubY968ebH33nu3dVgA\n",
              "ALZTmwu+bW29MmfOnJg6dWr867/+a/Ts2TMiIurq6mLYsGFx3XXXtXVYAIBt106nVkulzQVfv379\n",
              "olDY8rUhL774YubfAwYMiHvvvTdeffXVWL58eURE9OnTJ3r06LGdlwoAwPZoc8F32223tfy8YcOG\n",
              "D5yiXbduXTQ0NLT8rOADAHIn4ctoc8H33nYqhx12WIwYMSK++93vZvY//fTTMWnSJG1ZAABKrM0F\n",
              "33u9/vrrsWrVqi32n3HGGXHBBRfEKaecktl/8803xxlnnBGPPPLIhx0aAGCr2mt7lFJpc8F36KGH\n",
              "tjzDt2nTpli2bFmcf/75Wxy3du3aLYq9iIgJEybEt7/97e24VAAAtkebC77/+I//aPn53TdsjBw5\n",
              "covjtGUBAGgf2lzw1dbWxo033hgdO3aMwYMHR0TEaaedFt/73vcyx2nLAgCUTHHLjiIfZW0u+P76\n",
              "179Gt27d4pe//GWcfPLJMWvWrDjssMO2KPi0ZQEAaB/a/C7djRs3RkTE73//+zjmmGOiU6dO0bFj\n",
              "63Xju21ZGhoaYt26ddt/pQAA26pYwq0danPCN3jw4DjuuONi8eLF8aMf/SjWr1+/1eO0ZQEAaB/a\n",
              "XPBdd911cdddd8XQoUOjc+fOsXLlyqitrd3iOG1ZAADahzZP6e62224xfvz46NevX0RE9OrVK8aO\n",
              "HbvFce/XlqW+vn47LhUAYNsUiqXb2qM2F3zb6t22LM3NzS37mpubY86cOdqyAADsRB/6TRut0ZYF\n",
              "ACiZdpq0lUpuBZ+2LAAA7UNuBd+7evToET169IhXX301nnzyyRg4cGBL4gcAkIf2+ixdqeT2DN9p\n",
              "p50Wq1evjoiIhQsXxqBBg+Jb3/pWDB06NG699da8hgUA4D1yK/gef/zx2GeffSIiYubMmXH33XfH\n",
              "I488Eg8//HDMnDkzr2EBAHiP3KZ033rrrZaf169fH1VVVRER0a9fv2hqasprWAAAizbeI7eEb8yY\n",
              "MfGNb3wj3nzzzTj66KPjF7/4RRSLxbjzzjuje/fueQ0LAMB75FbwXXbZZVFWVha9evWKG2+8MSZO\n",
              "nBidOnWKK664Iq655pq8hgUA8C7d98htSrdTp05x+eWXxw9/+MN44YUXYtOmTVFRUaHpMgDATpZ7\n",
              "W5bOnTvHJz/5ycy+gw46KJ577rm8hwYAIHIs+J544olWP1u3bl1ewwIA6MP3HrkVfFVVVVFZWRnF\n",
              "4pZ3/PXXX89rWAAA3iO3gq9v377x4IMPxv7777/FZ3369MlrWAAA3iO3VbonnXRSvPjii1v97IQT\n",
              "TshrWAAA3iO3hO+KK65o9bPZs2fnNSwAQLttj1IquSV8AAC0Dwo+AIDE5d6HDwBgZ9OWJUvCBwCQ\n",
              "OAkfAJAeCV+GhA8AIHEKPgCAxJnSBQDSY0o3Q8IHAJA4CR8AkBxtWbIkfAAAiZPwAQDpkfBlSPgA\n",
              "ABKn4AMASJwpXQAgORZtZEn4AAASJ+EDANIj4cuQ8AEAJE7BBwCQOAUfAJCeYgm3Npg2bVpUVlZG\n",
              "oVCIRYsWvf9XKhbjqKOOim7durVtkFDwAQCUzIQJE+LBBx+Mvn37fuCxl19+eRxwwAHbNY5FGwBA\n",
              "ckrZlqWxsTEaGxsz+8rLy6O8vHyLY0eNGrVN53zqqafi1ltvjWuvvTbmz5/f5muS8AEA7EC1tbXR\n",
              "tWvXzFZbW7vd59u4cWOceeaZceWVV0aHDh226xwSPgAgPSVM+GpqauLcc8/N7NtauretZs6cGZ/9\n",
              "7Gdj4MCBsXTp0u06h4IPAGAHam36dnv97ne/i2XLlsVPf/rT2LRpUzQ0NERlZWU8+uij0aNHj206\n",
              "h4IPAKAde+CBB1p+Xrp0aVRVVbU56fMMHwCQnl2kLcvUqVOjd+/esWLFihgzZkwMGDAgIiKmTJkS\n",
              "CxYs2K6vvjUSPgCAErnyyiu3uv/nP//5VvdXVlbG2rVr2zyOgg8ASE4p27K0R6Z0AQASp+ADAEic\n",
              "KV0AID2mdDMkfAAAiZPwAQDJsWgjS8IHAJA4CR8AkB4JX4aEDwAgcQo+AIDEmdIFANJjSjdDwgcA\n",
              "kDgJHwCQnEKpL6CdkfABACROwQcAkDhTugBAeizayJDwAQAkTsIHACTHu3SzJHwAAIlT8AEAJM6U\n",
              "LgCQHlO6GRI+AIDESfgAgPRI+DIkfAAAiZPwAQDJ0ZYlS8IHAJA4BR8AQOJM6QIA6TGlmyHhAwBI\n",
              "nIQPAEiORRtZEj4AgMQp+AAAEmdKFwBIjyndDAkfAEDiJHwAQHIs2siS8AEAJG6XSPh+88rjpb4E\n",
              "ICdl+z1X6ksAUiThy5DwAQAkTsEHAJC4XWJKFwCgTUzpZkj4AAASJ+EDAJKjLUuWhA8AIHEKPgCA\n",
              "xJnSBQDSY0o3Q8IHAJA4CR8AkJxCUcS3OQkfAEDiJHwAQHoEfBkSPgCAxCn4AAASZ0oXAEiON21k\n",
              "SfgAABIn4QMA0iPhy5DwAQAkTsEHAJA4U7oAQHIs2siS8AEAJE7CBwCkR8KXIeEDAEichA8ASI5n\n",
              "+LIkfAAAiVPwAQAkzpQuAJAeU7oZEj4AgMRJ+ACA5Fi0kSXhAwBInIIPACBxpnQBgPQUzeluTsIH\n",
              "AJA4CR8AkByLNrIkfAAAiZPwAQDpkfBlSPgAABKn4AMASJwpXQAgOYXmUl9B+yLhAwBInIQPAEiP\n",
              "RRsZEj4AgMQp+AAAEmdKFwBIjjdtZEn4AAASJ+EDANJTFPFtTsIHAJA4CR8AkBzP8GVJ+AAAEqfg\n",
              "AwBInCldACA9pnQzJHwAAImT8AEAybFoI0vCBwCQOAUfAEDiTOkCAOnxpo0MCR8AQOIkfABAciza\n",
              "yJLwAQAkTsEHAJA4U7oAQHpM6WZI+AAAEifhAwCSY9FGloQPACBxEj4AID3NIr7NSfgAABKXe8HX\n",
              "3Nwczc3NeQ8DAEArcin43nzzzZgxY0b06dMnysvLo7y8PCoqKmLGjBmxbt26PIYEAPi7Ygm3diiX\n",
              "gm/SpEnx1ltvxW9/+9toaGiIhoaGuOuuu+Ktt96K008/PY8hAQBoRS6LNp588sm4+eabM/sGDRoU\n",
              "//mf/xkHHXRQHkMCALTQliUrl4SvrKwsnn/++S32P/fcc9GhQ4c8hgQAoBW5JHyzZs2Kz3zmMzFs\n",
              "2LDo27dvREQsXbo0Hnvssfj5z3+ex5AAALQil4Jv3Lhx8cILL8Sdd94Zy5Yti4iI0aNHx9ixY2P3\n",
              "3XfPY0gAgL8rmtPdXG6Nl//hH/4hJkyY0NKSpaxMyz8AgFLQlgUASE6hWLqtPdKWBQAgcdqyAADp\n",
              "aadJW6loywIAUCLTpk2LysrKKBQKsWjRoq0es3Dhwjj88MNj0KBB8YlPfCJmzJjR5tfWassCAFAi\n",
              "EyZMiBkzZsTIkSNbPWbPPfeMG2+8Mfr37x8bNmyIo48+OubOnRuTJk3a5nG0ZQEAklPYRdqyjBo1\n",
              "6gOPOfTQQ1t+3m233aKqqiqWLl3apnG0ZQEA2IEaGxujsbExs+/driUf1qpVq+Lmm2+O2267rU2/\n",
              "py0LAJCe5tJttbW10bVr18xWW1v7ob9SQ0NDnHjiiTFjxowYPnx4m35XWxYAgB2opqYm6uvrM1tN\n",
              "Tc2HOue6deti7NixcfLJJ8e5557b5t/XlgUAYAfaUdO373rzzTdj7NixMXbs2PjOd76zXefQlgUA\n",
              "SE6hWCzZ1hZTp06N3r17x4oVK2LMmDExYMCAiIiYMmVKLFiwICIirrjiinjkkUfilltuiaqqqqiq\n",
              "qoof/vCHbb0fO34Zy2233RZTpkxptS3LuHHj2nS+5lVSQUhV2X7PlfoSgASNPurDPzO3ve5d+OGm\n",
              "b/OgLQsAkJ5doyvLTqMtCwBA4rRlAQDSUyyWbmuHtGUBAEictiwAAInTlgUASE6hWLqtPcol4Zs1\n",
              "a1Z85jOfabUtCwAAO4+2LABAetrp4olS0ZYFACBx2rIAACROWxYAIDmF5tJt7ZG2LAAAidOWBQBI\n",
              "jzdtZGjLAgCQuHbXlqWxsTEaGxsz+z7W2Bzl5Vb5AgDbqH0GbSWTe1uWtqqtrY2ZM2dm9l103l5x\n",
              "8fS9d9SlAQB8pOz02Oyqq656389ramqivr4+s33rX/fcSVcHAJCe3BK+1qxcufJ9P3+3b9/mmteb\n",
              "zgUAtl2hnS6eKJWdXkm9d7oWAIB85ZbwNTU1xe9+97uWRRsVFRVxxBFHaMsCAORPwpeRS8H3wAMP\n",
              "xJe+9KXo1atXpi3LK6+8Er/4xS9i1KhReQwLAMBW5FLwnXPOOfE///M/MXz48Mz+Rx99NL7yla/E\n",
              "k08+mcewAABsRS4F34YNG7Yo9iIiPvWpT23RYw8AYIdrp++0LZVcFm0ccMAB8b3vfS9Wr17dsm/1\n",
              "6tUxc+bM6NevXx5DAgDQilwKvrlz58bLL78cBxxwQHz84x+Pj3/843HAAQfEyy+/HPPmzctjSACA\n",
              "FoVisWRbe1QoFvO9sjVr1kRExF577bXd52heddCOuhygnSnb77lSXwKQoDGfKl0buN88enHJxm7N\n",
              "TmvL0rdv3xg1apS2LABA/tpp0lYqubZl2X///aOysjIitGUBACgVbVkAABKnLQsAkB5TuhnasgAA\n",
              "JE5bFgAgPc0l3NohbVmAktKWBcjDmENL1xrlN4+VriVMa7RlAQBInLYsAEBy2usbL0pFWxYAgMRp\n",
              "ywIApEfCl6EtCwBA4rRlAQDSUyyWbmuHtGUBSkpbFiAPY4d8p2Rj3/XED0o2dmtya8vyrg9T6AEA\n",
              "8OHlMqX7wgsvRHV1dfTv3z/OPffc2LBhQ8tn//RP/5THkAAAf2dKNyOXgu/ss8+OCRMmxPz58+O1\n",
              "116L0aNHx7p16yIiMsUfAAD5y6XgW716dZxzzjlx2GGHxdy5c+OEE06I0aNHR319fRQKhTyGBAD4\n",
              "O+/SzcjlGb633nor8+8LL7wwOnXqlEn6AADYOXJJ+AYOHBh33XVXZt/06dPjS1/6Urzwwgt5DAkA\n",
              "QCtyacvS2NgYhUIhOnXq1LLvjTfeiD333DNWrlwZvXr1atP5tGWBdGnLAuThuEEXlmzsO5++tGRj\n",
              "tyaXhO+ZZ56Jww8/PIYNGxZPPfVUnHDCCdGrV6+oqKho6csHAMDOkUvBN23atLjkkkti2rRpcfzx\n",
              "x8epp54a69evj5/85Cdx3nnn5TEkAMDfacuSkUvB19DQEOPHj49JkyZFsViMiRMnRkTE+PHjM+/X\n",
              "BQAgf7kUfJs/FlhdXd3qZwAA5C+Xtiz77rtvNDQ0RJcuXWLOnDkt++vq6mK33XbLY0gAgL9rFjBt\n",
              "LpeC7ze/+c1W93fu3Dnmz5+fx5AAALQil4KvNV27do2uXbvuzCEBgI8ij5Bl5PIMHwAA7cdOTfgA\n",
              "AHYKCV+GhA8AIHEKPgCAxJnSBQDSY0o3Q8IHAJA4CR8AkB6NlzMkfAAAiVPwAQAkzpQuAJCeYnOp\n",
              "r6BdkfABACROwgcApEdblgwJHwBA4iR8AEB6tGXJkPABACROwQcAkDhTugBAeizayJDwAQAkTsIH\n",
              "AKRHwpch4QMASJyCDwAgcaZ0AYD0mNLNkPABACROwgcApKe5udRX0K5I+AAAEifhAwDS4xm+DAkf\n",
              "AEDiFHwAAIkzpQsApMeUboaEDwAgcRI+ACA9zRK+zUn4AAASp+ADAEicKV0AIDnFojdtbE7CBwCQ\n",
              "OAkfAJAeizYyJHwAAImT8AEA6dF4OUPCBwCQOAUfAEDiTOkCAOlp1pZlcxI+AIDESfgAgPRYtJEh\n",
              "4QMASJyCDwAgcaZ0AYDkFC3ayJDwAQAkTsIHAKTHoo0MCR8AQOIkfABAepolfJuT8AEAJE7BBwCQ\n",
              "OFO6AEB6itqybE7CBwCQOAkfAJCcokUbGRI+AIDEKfgAABJnShcASI9FGxkSPgCAxEn4AIDkWLSR\n",
              "JeEDACiRadOmRWVlZRQKhVi0aFGrx11zzTVx4IEHxgEHHBBnnnlmbNy4sU3jKPgAgPQUm0u3tcGE\n",
              "CRPiwQcfjL59+7Z6zEsvvRTf/e5344EHHoglS5bEX//617jqqqvaNI6CDwCgREaNGhW9e/d+32Nu\n",
              "vvnmOOmkk2K//faLQqEQX/3qV+OGG25o0zie4QMA2IEaGxujsbExs6+8vDzKy8u363zLli3LJICV\n",
              "lZWxbNmyNp1jlyj4yvZ7rtSXwE7S2NgYtbW1UVNTs91/GED75O+bnenu5vklG/uSSy6JmTNnZvZd\n",
              "fPHFcckll5TmgsKULu1MY2NjzJw5c4v/zwjY9fn75qOipqYm6uvrM1tNTc12n6+ioiJefvnlln8v\n",
              "Xbo0Kioq2nQOBR8AwA5UXl4eXbp0yWwfJtU+5ZRTYsGCBbFq1aooFosxe/bsOPXUU9t0DgUfAECJ\n",
              "TJ06NXr37h0rVqyIMWPGxIABAyIiYsqUKbFgwYKIiOjfv3/MnDkz/t//+38xYMCA6NGjR0ydOrVN\n",
              "4xSKxaLOhLQbDQ0N0bVr16ivr48uXbqU+nKAHcjfN5SOhI92pby8PC6++GIPdEOC/H1D6Uj4AAAS\n",
              "J+EDAEicgg8AIHEKPgCAxCn4+FCef/75GDFiRBx00EHxqU99Kp566qktjmlubo7p06fH4MGD45BD\n",
              "DonJkyfH22+/3fL5rFmzYvDgwTFo0KD453/+51i7dm3LZ/PmzYuhQ4fG4MGDY/To0ZlXyRx77LEx\n",
              "ZMiQqKqqis985jPx2GOPRUTE66+/HlVVVS3bQQcdFB07dow1a9bkdyMgQe3x7zsi4o477ohhw4ZF\n",
              "VVVVDB48OObMmZPPDYCUFOFDqK6uLl577bXFYrFYnD9/fnH48OFbHHPVVVcVq6uri42NjcXm5ubi\n",
              "lClTij/60Y+KxWKx+Nvf/rY4cODAYkNDQ7FYLBa///3vF88+++xisVgsLl68uLjvvvsWX3nllWKx\n",
              "WCzOmzevePzxx7ec94033mj5+ZZbbikOGTJkq9c4a9as4rhx4z70d4WPmvb4993c3Fzcc889i48/\n",
              "/nixWCwWX3rppWJ5eXnLGMDWSfjYbqtXr44//elP8eUvfzki3ukEvnz58liyZEnmuMcffzyOPvro\n",
              "6NSpUxQKhTjuuONi3rx5LZ+NHDky9thjj4iIOP7441s++8tf/hJDhgyJnj17tnx25513xuuvvx4R\n",
              "Ed26dWsZo76+PgqFwlav85prronJkyfvuC8OHwHt+e+7UCi0JIUNDQ2x9957a/UCH0DBx3Zbvnx5\n",
              "9OzZMzp27BgR7/yPcEVFRWZaJiLisMMOiwULFkRDQ0Ns3LgxfvnLX8bSpUtbPrvnnntaXhfzi1/8\n",
              "ItatWxdr1qyJoUOHxp///Od47rnnIiLi+uuvj2KxmHmf4GmnnRZ9+vSJ7373uy3/h2Rzf/jDH+KN\n",
              "N96IcePG5XQXIE3t9e+7UCjETTfdFJ/97Gejb9++MXLkyJgzZ0506tRpJ9wV2HUp+MjdpEmTYuzY\n",
              "sXHEEUfEEUcc0fJMXUREdXV1TJ8+PcaNGxef/vSno0ePHhER0bFjxzjwwANj9uzZcdppp8Xw4cPj\n",
              "9ddfj27durX8bkTE3LlzY/ny5fGDH/wgLrjggi3Gvuaaa+K0007L/A6w4+zsv+9NmzbFD37wg7jl\n",
              "llvi5ZdfjnvvvTcmTpwYr7322s7/8rArKe2MMruyv/71r8U99tijuHHjxmKx+M6zNfvuu2/x+eef\n",
              "f9/fu+GGG4ojR47c6md//OMfi717997qZ3V1dcXy8vLi3/72t61+vttuuxVfe+21ln+vW7euuPvu\n",
              "uxcXL168LV8H2Ex7/ft+9NFHiwceeGDms+HDhxd/+9vfftBXgo80CR/bbZ999olhw4bF9ddfHxER\n",
              "v/rVr6J3794tL35+14YNG+KNN96IiIjXXnst/u3f/i1mzJjR8nldXV1ERKxfvz4uuuiirX7W1NQU\n",
              "F1xwQZxzzjnRuXPnWLt2bbzyyistx916662x9957x1577dWy76abboqhQ4fGIYccsoO/OaSvvf59\n",
              "9+nTJ+rq6mLx4sUREbFkyZJ44YUX4uCDD87hLkA6zHPxoVx55ZUxadKkuPTSS6NLly5x7bXXRkTE\n",
              "lClT4qSTToqTTjop6uvr48gjj4yysrJobm6Ob3zjG3HiiSe2nOPYY4+N5ubmePvtt2PixInx9a9/\n",
              "veWzr3zlK/Hyyy9HY2NjnHDCCXHppZdGxDsPcX/uc5+Lt956K8rKyqJHjx5x2223ZR7svuaaa+LM\n",
              "M8/cSXcC0tMe/7733XffuOqqq+Lzn/98y5g//elPo6KiYufeHNjFeJcuAEDiTOkCACROwQcAkDgF\n",
              "H7DNfv3rX8fAgQOjqqoqqquro7KyMgqFQixatKjUlwbA+7BoA9hms2fPjosuuii++MUvxu9///vo\n",
              "379/jBw5smTX09TUFB06dCjZ+AC7CgkfsE2mTZsWDzzwQFx44YUxYsSIGDVqVPTu3fsDf++tt96K\n",
              "L3zhCzFo0KAYOnRoHHvssS2fXXvttVFVVRVDhw6N4cOHt7yhYd68eTFkyJAYMmRInHDCCbFy5cqI\n",
              "iLjuuuuiuro6TjnllPjkJz8ZjzzySDz66KNx1FFHxfDhw+PQQw+N+fPn5/L9AXZlEj5gm/zkJz+J\n",
              "J554Ir75zW/G+PHjt/n37rrrrli7dm08/fTTERGxZs2aiIi4//7743vf+1784Q9/iJ49e8b69esj\n",
              "4p13rJ5//vnxf//3f9GrV6/44Q9/GFOmTIk777wzIiIefvjheOyxx+Lggw+OtWvXRnV1ddxxxx3R\n",
              "s2fPeO2112LYsGExYsSI6NWr1469AQC7MAkfkKuhQ4fG4sWL4+yzz46bbropPvaxj0VExO233x4T\n",
              "J06Mnj17RkRE586do3PnznHffffF2LFjWwq2s88+OxYuXBhNTU0RETFixIiWJrt/+MMf4sUXX4zj\n",
              "jjsuqqqq4uijj46IiGeffXZnf02Adk3BB+xQc+fOjaqqqqiqqoprr702+vfvH08//XSMHTs2Hnro\n",
              "oRg8eHDLmxm2xebNtCMidt9995afi8VifOITn4hFixa1bMuWLYujjjpqh30fgBQo+IAd6rTTTmsp\n",
              "vs4444xYsWJFFAqFOOmkk+LHP/5xFIvFWL58eZx44olx/fXXZ169tX79+qiuro677rqr5dVas2fP\n",
              "jtGjR291ccaIESPipZdeinvuuadl36JFi+Ltt9/eOV8WYBfhGT5gu0ydOjVuv/32WLVqVYwZMyb2\n",
              "2GOPWLJkyRbHPfnkk1FTUxPFYjE2bdoUEydOjCFDhkRExMUXXxxjxoyJQqEQnTp1iptvvjkGDx4c\n",
              "s2bNirFjx0ZERJ8+feLqq6/e6jXsueeecfvtt8f06dPjvPPOi40bN0ZFRUXceuutuX1vgF2RV6sB\n",
              "ACTOlC4AQOIUfAAAiVPwAQAkTsEHAJA4BR8AQOIUfAAAiVPwAQAkTsEHAJA4BR8AQOIUfAAAiVPw\n",
              "AQAk7v8D1SbeU293y44AAAAASUVORK5CYII=\n",
              "\">\n",
              "      </div>\n",
              "      <script type=\"text/javascript\">\n",
              "        (() => {\n",
              "          const chartElement = document.getElementById(\"chart-ebe59989-d901-4b30-b811-758ea6cbbb38\");\n",
              "          async function getCodeForChartHandler(event) {\n",
              "            const chartCodeResponse =  await google.colab.kernel.invokeFunction(\n",
              "                'getCodeForChart', [\"chart-ebe59989-d901-4b30-b811-758ea6cbbb38\"], {});\n",
              "            const responseJson = chartCodeResponse.data['application/json'];\n",
              "            await google.colab.notebook.addCell(responseJson.code, 'code');\n",
              "          }\n",
              "          chartElement.onclick = getCodeForChartHandler;\n",
              "        })();\n",
              "      </script>\n",
              "      <style>\n",
              "        .colab-quickchart-chart-with-code  {\n",
              "            display: block;\n",
              "            float: left;\n",
              "            border: 1px solid transparent;\n",
              "        }\n",
              "\n",
              "        .colab-quickchart-chart-with-code:hover {\n",
              "            cursor: pointer;\n",
              "            border: 1px solid #aaa;\n",
              "        }\n",
              "      </style>"
            ]
          },
          "metadata": {}
        }
      ]
    },
    {
      "cell_type": "markdown",
      "source": [
        "### **Confusion Matrix**\n",
        "\n",
        "\n",
        "Below are the two confusion matrices, shown both as percentages and in absolute values."
      ],
      "metadata": {
        "id": "ysM8h5890boT"
      }
    },
    {
      "cell_type": "code",
      "source": [
        "compute_confusion_matrix(test_generator, y_pred_proba, class_names, \"Test\")"
      ],
      "metadata": {
        "colab": {
          "base_uri": "https://localhost:8080/",
          "height": 677
        },
        "id": "p7u7UCeEM3Fh",
        "outputId": "7bc01df2-e2d1-424d-cda2-fa4223abae71"
      },
      "execution_count": null,
      "outputs": [
        {
          "output_type": "display_data",
          "data": {
            "text/plain": [
              "<Figure size 1000x800 with 2 Axes>"
            ],
            "image/png": "[encoded data removed]"
          },
          "metadata": {}
        }
      ]
    },
    {
      "cell_type": "code",
      "source": [
        "from sklearn.metrics import confusion_matrix, ConfusionMatrixDisplay\n",
        "\n",
        "# Generate confusion matrix\n",
        "cm = confusion_matrix(test_generator.labels, y_pred)\n",
        "cmd = ConfusionMatrixDisplay(cm, display_labels=[\"Negative\", \"Positive\"])\n",
        "\n",
        "# Display confusion matrix\n",
        "cmd.plot()\n",
        "plt.title('Confusion Matrix')\n",
        "plt.show()"
      ],
      "metadata": {
        "colab": {
          "base_uri": "https://localhost:8080/",
          "height": 472
        },
        "outputId": "71fcf402-557f-40cb-b9df-de44efc5aaa8",
        "id": "HzUv_uCQ3OvF"
      },
      "execution_count": null,
      "outputs": [
        {
          "output_type": "display_data",
          "data": {
            "text/plain": [
              "<Figure size 640x480 with 2 Axes>"
            ],
            "image/png": "[encoded data removed]"
          },
          "metadata": {}
        }
      ]
    },
    {
      "cell_type": "markdown",
      "source": [
        "### **Grad-CAM**\n",
        "\n",
        "Below, the Grad-CAM application on a test set image of the Positive class is shown."
      ],
      "metadata": {
        "id": "KtURgZmh0kyT"
      }
    },
    {
      "cell_type": "code",
      "source": [
        "from IPython.display import Image, display\n",
        "\n",
        "img_size = (224, 224)\n",
        "\n",
        "# Load ResNet50 preprocessing and decoding functions\n",
        "preprocess_input = tf.keras.applications.resnet50.preprocess_input\n",
        "decode_predictions = tf.keras.applications.resnet50.decode_predictions\n",
        "last_conv_layer_name = \"conv5_block3_out\"\n",
        "\n",
        "# Define the path to test images and select a random image\n",
        "test_dir = \"/content/KneeKL/test/Positive\"\n",
        "img_list = glob.glob(test_dir + \"/*.png\")\n",
        "img_path = random.choice(img_list)\n",
        "\n",
        "# Read and preprocess the image\n",
        "img = cv2.imread(img_path, cv2.IMREAD_GRAYSCALE)\n",
        "equalized_img = cv2.equalizeHist(img)\n",
        "\n",
        "# Save the processed image and display it\n",
        "cv2.imwrite(img_path, equalized_img)\n",
        "display(Image(img_path))\n",
        "\n",
        "# Preprocess the input image and make predictions\n",
        "img_array = preprocess_input(get_img_array(img_path, size=img_size))\n",
        "preds = model.predict(img_array)\n",
        "class_labels = ['Negative', 'Positive']\n",
        "predicted_class = class_labels[np.argmax(preds)]\n",
        "\n",
        "# Display the predicted class and confidence\n",
        "print(f\"Predicted: {predicted_class} with confidence {np.max(preds):.2f}\")\n",
        "\n",
        "# Generate and display the Grad-CAM heatmap\n",
        "heatmap = make_gradcam_heatmap(img_array, model, last_conv_layer_name)\n",
        "plt.matshow(heatmap)\n",
        "plt.show()\n",
        "\n",
        "save_and_display_gradcam(img_path, heatmap)"
      ],
      "metadata": {
        "colab": {
          "base_uri": "https://localhost:8080/",
          "height": 1000
        },
        "id": "i93QFAqvAD6F",
        "outputId": "4099a0c2-b51a-471f-a7cc-2c914d68c962"
      },
      "execution_count": null,
      "outputs": [
        {
          "output_type": "display_data",
          "data": {
            "image/png": "[encoded data removed]",
            "text/plain": [
              "<IPython.core.display.Image object>"
            ]
          },
          "metadata": {}
        },
        {
          "output_type": "stream",
          "name": "stdout",
          "text": [
            "1/1 [==============================] - 0s 42ms/step\n",
            "Predicted: Positive with confidence 1.00\n"
          ]
        },
        {
          "output_type": "display_data",
          "data": {
            "text/plain": [
              "<Figure size 480x480 with 1 Axes>"
            ],
            "image/png": "[encoded data removed]"
          },
          "metadata": {}
        },
        {
          "output_type": "display_data",
          "data": {
            "text/plain": [
              "<Figure size 1000x1000 with 1 Axes>"
            ],
            "image/png": "[encoded data removed]"
          },
          "metadata": {}
        }
      ]
    }
  ],
  "metadata": {
    "accelerator": "GPU",
    "colab": {
      "gpuType": "T4",
      "provenance": []
    },
    "kernelspec": {
      "display_name": "Python 3",
      "name": "python3"
    },
    "language_info": {
      "name": "python"
    }
  },
  "nbformat": 4,
  "nbformat_minor": 0
}